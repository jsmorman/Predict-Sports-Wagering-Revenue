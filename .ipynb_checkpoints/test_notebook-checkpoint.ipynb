{
 "cells": [
  {
   "cell_type": "markdown",
   "metadata": {},
   "source": [
    "### This notebook is used for storing codes/notes/ideas that I tested using in the active_notebook but for now, am not including. I'll put codes/notes/ideas in here for storage and organization purposes"
   ]
  },
  {
   "cell_type": "code",
   "execution_count": null,
   "metadata": {},
   "outputs": [],
   "source": [
    "#handling datetime?\n",
    "\n",
    "from datetime import datetime\n",
    "from dateutil.parser import parse"
   ]
  },
  {
   "cell_type": "code",
   "execution_count": null,
   "metadata": {},
   "outputs": [],
   "source": [
    "'1/17'.split('/')\n",
    "\n",
    "#1st value into a month, 2nd value into a year, converts into a datetime object"
   ]
  },
  {
   "cell_type": "code",
   "execution_count": null,
   "metadata": {},
   "outputs": [],
   "source": [
    "df.loc[83, 'handle'] = 5098389\n",
    "df.loc[84, 'handle'] = 12081910\n",
    "df.loc[85, 'handle'] = 33319306\n",
    "df.loc[86, 'handle'] = 32580549\n",
    "df.loc[87, 'handle'] = 12086730\n",
    "df.loc[88, 'handle'] = 11385518"
   ]
  },
  {
   "cell_type": "code",
   "execution_count": null,
   "metadata": {},
   "outputs": [],
   "source": []
  },
  {
   "cell_type": "code",
   "execution_count": null,
   "metadata": {},
   "outputs": [],
   "source": [
    "df['revenue'] = df.revenue.astype(int)\n",
    "df['handle'] = df.handle.astype(int)\n",
    "df['hold'] = df.hold.astype(int)\n",
    "df['taxes'] = df.taxes.astype(int)"
   ]
  },
  {
   "cell_type": "markdown",
   "metadata": {},
   "source": [
    "### PCA"
   ]
  },
  {
   "cell_type": "code",
   "execution_count": null,
   "metadata": {},
   "outputs": [],
   "source": [
    "non_revenue_cols = [\"month\", \"handle\", \"taxes\"]"
   ]
  },
  {
   "cell_type": "code",
   "execution_count": null,
   "metadata": {},
   "outputs": [],
   "source": [
    "non_revenue_cols = [\"month\", \"handle\", \"taxes\"]"
   ]
  },
  {
   "cell_type": "code",
   "execution_count": null,
   "metadata": {},
   "outputs": [],
   "source": [
    "# Assigning the new columns to a variable\n",
    "\n",
    "non_revenue_cols_2 = df[non_revenue_cols]"
   ]
  },
  {
   "cell_type": "code",
   "execution_count": null,
   "metadata": {},
   "outputs": [],
   "source": [
    "non_revenue_cols_2.head()"
   ]
  },
  {
   "cell_type": "code",
   "execution_count": null,
   "metadata": {},
   "outputs": [],
   "source": [
    "ss = StandardScaler()"
   ]
  },
  {
   "cell_type": "code",
   "execution_count": null,
   "metadata": {},
   "outputs": [],
   "source": [
    "scale = ss.fit_transform(non_revenue_cols_2)"
   ]
  },
  {
   "cell_type": "code",
   "execution_count": null,
   "metadata": {},
   "outputs": [],
   "source": [
    "non = pd.DataFrame(scale, columns = non_revenue_cols)"
   ]
  },
  {
   "cell_type": "code",
   "execution_count": null,
   "metadata": {},
   "outputs": [],
   "source": [
    "non.head(10)"
   ]
  },
  {
   "cell_type": "code",
   "execution_count": null,
   "metadata": {},
   "outputs": [],
   "source": [
    "### Using a PairGrid to visualize correlation\n",
    "\n",
    "g = sns.PairGrid(non)\n",
    "g = g.map_lower(sns.regplot) # Regression plots in lower triangle.\n",
    "g = g.map_upper(sns.kdeplot, cmap=\"Blues\", shade=True, shade_lowest=False)  # KDE plots in upper triangle.\n",
    "g = g.map_diag(plt.hist) # Histograms along diagonal.\n",
    "\n",
    "plt.show();"
   ]
  },
  {
   "cell_type": "code",
   "execution_count": 1,
   "metadata": {},
   "outputs": [],
   "source": [
    "### Heat map to visualize correlation"
   ]
  },
  {
   "cell_type": "code",
   "execution_count": null,
   "metadata": {},
   "outputs": [],
   "source": [
    "plt.figure(figsize = (8, 5))\n",
    "plt.title(\"Non-Revenue Features Correlation\", fontsize = 18);\n",
    "\n",
    "\n",
    "sns.heatmap(non.corr(), \n",
    "            cmap ='RdBu', \n",
    "            annot = True,\n",
    "            vmax = 1,\n",
    "            vmin = -1)\n",
    "            \n",
    "plt.xticks(fontsize = 12) \n",
    "plt.yticks(fontsize = 12); "
   ]
  },
  {
   "cell_type": "code",
   "execution_count": null,
   "metadata": {},
   "outputs": [],
   "source": [
    "# Fitting PCA on the non-revenue features\n",
    "\n",
    "non_pca = PCA(n_components=3)\n",
    "non_pca.fit(non.values)"
   ]
  },
  {
   "cell_type": "code",
   "execution_count": null,
   "metadata": {},
   "outputs": [],
   "source": [
    "# Examining the weights of the principal components\n",
    "\n",
    "non_pca.components_"
   ]
  },
  {
   "cell_type": "code",
   "execution_count": null,
   "metadata": {},
   "outputs": [],
   "source": [
    "# Examining the explained variance values and explained variance ratios\n",
    "\n",
    "non_pca.explained_variance_ratio_"
   ]
  },
  {
   "cell_type": "code",
   "execution_count": null,
   "metadata": {},
   "outputs": [],
   "source": [
    "# Transforming the data into the principal component space\n",
    "\n",
    "# This will transform our our three-dimensional data set into vectors along its three principal components (with zero loss).\n",
    "\n",
    "non_pca.transform(non.values)"
   ]
  },
  {
   "cell_type": "code",
   "execution_count": null,
   "metadata": {},
   "outputs": [],
   "source": [
    "# Comparing PCA-transformed features to features prior to being PCA-transformed\n",
    "\n",
    "pd.DataFrame(non.values).head(10)"
   ]
  },
  {
   "cell_type": "code",
   "execution_count": null,
   "metadata": {},
   "outputs": [],
   "source": [
    "pd.DataFrame(non_pca.transform(non.values)).head(10)"
   ]
  },
  {
   "cell_type": "code",
   "execution_count": null,
   "metadata": {},
   "outputs": [],
   "source": []
  },
  {
   "cell_type": "code",
   "execution_count": null,
   "metadata": {},
   "outputs": [],
   "source": []
  },
  {
   "cell_type": "code",
   "execution_count": null,
   "metadata": {},
   "outputs": [],
   "source": [
    "# Stripping blank spaces out of the \"voids\" column\n",
    "\n",
    "test = ' voids '\n",
    "test.strip()"
   ]
  },
  {
   "cell_type": "code",
   "execution_count": null,
   "metadata": {},
   "outputs": [],
   "source": []
  },
  {
   "cell_type": "code",
   "execution_count": null,
   "metadata": {},
   "outputs": [],
   "source": []
  },
  {
   "cell_type": "markdown",
   "metadata": {},
   "source": [
    "### Clustering"
   ]
  },
  {
   "cell_type": "code",
   "execution_count": null,
   "metadata": {},
   "outputs": [],
   "source": [
    "X = df.loc[:, ['month', 'revenue', 'handle', 'taxes']]"
   ]
  },
  {
   "cell_type": "code",
   "execution_count": null,
   "metadata": {},
   "outputs": [],
   "source": [
    "X.head()"
   ]
  },
  {
   "cell_type": "code",
   "execution_count": null,
   "metadata": {},
   "outputs": [],
   "source": [
    "# For my reference\n",
    "\n",
    "state_revenue_plot = df.plot(kind = \"scatter\", x = \"month\", y = \"revenue\",\n",
    "             figsize=(10,5),\n",
    "             s = 12)\n",
    "\n",
    "plt.xlabel(\"month\", fontsize = 15)\n",
    "plt.ylabel(\"revenue\", fontsize = 15)\n",
    "\n",
    "state_revenue_plot.tick_params(axis = 'both',\n",
    "               which = 'minor',\n",
    "               labelsize = 14)"
   ]
  },
  {
   "cell_type": "code",
   "execution_count": null,
   "metadata": {},
   "outputs": [],
   "source": [
    "# Initializing an instance of KMeans\n",
    "# K = 3 clusters\n",
    "\n",
    "km = KMeans(n_clusters = 3)"
   ]
  },
  {
   "cell_type": "code",
   "execution_count": null,
   "metadata": {},
   "outputs": [],
   "source": [
    "# Fitting our sliced df\n",
    "\n",
    "km.fit(X)"
   ]
  },
  {
   "cell_type": "code",
   "execution_count": null,
   "metadata": {},
   "outputs": [],
   "source": [
    "# Assigning clusters\n",
    "\n",
    "df[\"cluster\"] = km.labels_"
   ]
  },
  {
   "cell_type": "code",
   "execution_count": null,
   "metadata": {},
   "outputs": [],
   "source": [
    "df.head(10)"
   ]
  },
  {
   "cell_type": "code",
   "execution_count": null,
   "metadata": {},
   "outputs": [],
   "source": [
    "# Plotting the centroids from the model object with the scatter of \n",
    "# \"month\" and \"revenue\"\n",
    "\n",
    "centroid = pd.DataFrame(km.cluster_centers_, columns = [\"month\", \"revenue\", \"handle\", \"taxes\"])\n",
    "                                        "
   ]
  },
  {
   "cell_type": "code",
   "execution_count": null,
   "metadata": {},
   "outputs": [],
   "source": [
    "centroid.head()"
   ]
  },
  {
   "cell_type": "code",
   "execution_count": null,
   "metadata": {},
   "outputs": [],
   "source": [
    "plt.figure(figsize =(10, 8))\n",
    "colors = [\"black\", \"pink\", \"blue\"]\n",
    "df[\"color\"] = df[\"cluster\"].map(lambda p: colors[p])\n",
    "\n",
    "ax = df.plot(kind = \"scatter\", x = \"month\", y = \"revenue\",\n",
    "    figsize =(12, 10),\n",
    "    c = df[\"color\"])\n",
    "\n",
    "centroid.plot(kind = \"scatter\", x = \"month\", y = \"revenue\", \n",
    "    marker = \"*\", \n",
    "    c = [\"black\", \"pink\", \"blue\"], \n",
    "    s = 1000,\n",
    "    ax = ax)"
   ]
  },
  {
   "cell_type": "code",
   "execution_count": null,
   "metadata": {},
   "outputs": [],
   "source": [
    "ss = StandardScaler()"
   ]
  },
  {
   "cell_type": "code",
   "execution_count": null,
   "metadata": {},
   "outputs": [],
   "source": [
    "X_2 = ss.fit_transform(df.loc[:, [\"month\", \"revenue\"]])"
   ]
  },
  {
   "cell_type": "code",
   "execution_count": null,
   "metadata": {},
   "outputs": [],
   "source": [
    "km_2 = KMeans(n_clusters = 3)"
   ]
  },
  {
   "cell_type": "code",
   "execution_count": null,
   "metadata": {},
   "outputs": [],
   "source": [
    "km_2.fit(X_2)"
   ]
  },
  {
   "cell_type": "code",
   "execution_count": null,
   "metadata": {},
   "outputs": [],
   "source": [
    "df['cluster'] = km_2.labels_"
   ]
  },
  {
   "cell_type": "code",
   "execution_count": null,
   "metadata": {},
   "outputs": [],
   "source": [
    "df.head(10)"
   ]
  },
  {
   "cell_type": "code",
   "execution_count": null,
   "metadata": {},
   "outputs": [],
   "source": [
    "centroid = pd.DataFrame(ss.inverse_transform(km_2.cluster_centers_), \n",
    "      columns =[\"month\", \"revenue\"])"
   ]
  },
  {
   "cell_type": "code",
   "execution_count": null,
   "metadata": {},
   "outputs": [],
   "source": [
    "centroid.head(10) "
   ]
  },
  {
   "cell_type": "code",
   "execution_count": null,
   "metadata": {},
   "outputs": [],
   "source": [
    "plt.figure(figsize=(10,6))\n",
    "\n",
    "colors = [\"black\", \"pink\", \"blue\"]\n",
    "\n",
    "df['color'] = df['cluster'].map(lambda p: colors[p])\n",
    "\n",
    "ax = df.plot(    \n",
    "    kind = \"scatter\",  x = \"month\", y = \"revenue\", \n",
    "    figsize = (10,6),\n",
    "    c = df[\"color\"])\n",
    "\n",
    "centroid.plot(kind = \"scatter\", x =\"month\", y = \"revenue\",\n",
    "    marker = \"*\", \n",
    "    c = [\"black\", \"pink\", \"blue\"],\n",
    "    s = 1000,\n",
    "    ax = ax)"
   ]
  },
  {
   "cell_type": "code",
   "execution_count": null,
   "metadata": {},
   "outputs": [],
   "source": [
    "silhouette_score(X_2, km_2.labels_)"
   ]
  },
  {
   "cell_type": "code",
   "execution_count": null,
   "metadata": {},
   "outputs": [],
   "source": []
  },
  {
   "cell_type": "code",
   "execution_count": null,
   "metadata": {},
   "outputs": [],
   "source": []
  },
  {
   "cell_type": "code",
   "execution_count": null,
   "metadata": {},
   "outputs": [],
   "source": []
  },
  {
   "cell_type": "code",
   "execution_count": null,
   "metadata": {},
   "outputs": [],
   "source": []
  },
  {
   "cell_type": "code",
   "execution_count": null,
   "metadata": {},
   "outputs": [],
   "source": []
  }
 ],
 "metadata": {
  "kernelspec": {
   "display_name": "Python 3",
   "language": "python",
   "name": "python3"
  },
  "language_info": {
   "codemirror_mode": {
    "name": "ipython",
    "version": 3
   },
   "file_extension": ".py",
   "mimetype": "text/x-python",
   "name": "python",
   "nbconvert_exporter": "python",
   "pygments_lexer": "ipython3",
   "version": "3.7.4"
  }
 },
 "nbformat": 4,
 "nbformat_minor": 2
}
