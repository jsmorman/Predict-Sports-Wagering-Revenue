{
 "cells": [
  {
   "cell_type": "markdown",
   "metadata": {},
   "source": [
    "# Capstone Project: Predicting additional tax revenue for the state of Connecticut if sports wagering is legalized"
   ]
  },
  {
   "cell_type": "markdown",
   "metadata": {},
   "source": [
    "## Problem Statement"
   ]
  },
  {
   "cell_type": "markdown",
   "metadata": {},
   "source": [
    "The State Legislature of Connecticut is reviewing a bill to legalize sports wagering within the state. The State Legislature must carefully weigh pros and cons when deciding pass or reject the bill. If they pass the bill, the bill moves on to the Sentate for final approval. If the Senate approves, Connecticut would become the 12th state in the United States where sports wagering has been legalized.\n",
    "\n",
    "A major consideration by the State Legislature is the potential revenue gain in the State General fund. All sources of gaming share revenue with the state and make transfers into the State General fund at the end of the fiscal year. While sports wagering itsself is likely to bring in new revenue for the state, the state must consider reductions in other revenue streams that the new sports wagering revenue stream may cause. \n",
    "\n",
    "Using Sports Wagering year-end reports we have for each state where sports wagering was legal in 2019 as well as state annual reports showing other streams of revenue, we will build and leverage an unsupervised linear regression model that will help predict if legazing sports wagering will lead to an increase or decrease in total revenue for Connectiut, using the other states as prototypes. After modeling, We will exmaine the model's mean squared error, helping us determine the success of the model. Our goal is to provide the state with a model that can predict revenue as closely as possible, giving the state more confidence to make their decision more clear."
   ]
  },
  {
   "cell_type": "code",
   "execution_count": 129,
   "metadata": {},
   "outputs": [],
   "source": [
    "import numpy as np\n",
    "import pandas as pd\n",
    "import time\n",
    "import datetime as dt\n",
    "import requests\n",
    "import matplotlib.pyplot as plt\n",
    "import regex as re\n",
    "import seaborn as sns\n",
    "\n",
    "from sklearn.decomposition import PCA\n",
    "from sklearn.model_selection import train_test_split\n",
    "from sklearn.linear_model import LinearRegression\n",
    "from sklearn.model_selection import cross_val_score\n",
    "\n",
    "from sklearn.preprocessing import StandardScaler\n",
    "from sklearn.preprocessing import PolynomialFeatures\n",
    "from sklearn.cluster import KMeans\n",
    "from sklearn.metrics import silhouette_score\n",
    "\n",
    "np.random.seed(42)\n",
    "sns.set_style(\"whitegrid\")\n",
    "\n",
    "%matplotlib inline\n",
    "%config InlineBackend.figure_format = 'retina'\n"
   ]
  },
  {
   "cell_type": "code",
   "execution_count": 2,
   "metadata": {},
   "outputs": [],
   "source": [
    "df = pd.read_csv('./data/state_reports.csv')"
   ]
  },
  {
   "cell_type": "code",
   "execution_count": 3,
   "metadata": {},
   "outputs": [
    {
     "data": {
      "text/html": [
       "<div>\n",
       "<style scoped>\n",
       "    .dataframe tbody tr th:only-of-type {\n",
       "        vertical-align: middle;\n",
       "    }\n",
       "\n",
       "    .dataframe tbody tr th {\n",
       "        vertical-align: top;\n",
       "    }\n",
       "\n",
       "    .dataframe thead th {\n",
       "        text-align: right;\n",
       "    }\n",
       "</style>\n",
       "<table border=\"1\" class=\"dataframe\">\n",
       "  <thead>\n",
       "    <tr style=\"text-align: right;\">\n",
       "      <th></th>\n",
       "      <th>state</th>\n",
       "      <th>month</th>\n",
       "      <th>year</th>\n",
       "      <th>handle</th>\n",
       "      <th>revenue</th>\n",
       "      <th>taxes</th>\n",
       "    </tr>\n",
       "  </thead>\n",
       "  <tbody>\n",
       "    <tr>\n",
       "      <th>0</th>\n",
       "      <td>NJ</td>\n",
       "      <td>1</td>\n",
       "      <td>2019</td>\n",
       "      <td>385279662.0</td>\n",
       "      <td>18777582</td>\n",
       "      <td>2532619</td>\n",
       "    </tr>\n",
       "    <tr>\n",
       "      <th>1</th>\n",
       "      <td>NJ</td>\n",
       "      <td>2</td>\n",
       "      <td>2019</td>\n",
       "      <td>320368087.0</td>\n",
       "      <td>12732740</td>\n",
       "      <td>1817553</td>\n",
       "    </tr>\n",
       "    <tr>\n",
       "      <th>2</th>\n",
       "      <td>NJ</td>\n",
       "      <td>3</td>\n",
       "      <td>2019</td>\n",
       "      <td>372451342.0</td>\n",
       "      <td>31669387</td>\n",
       "      <td>4180051</td>\n",
       "    </tr>\n",
       "    <tr>\n",
       "      <th>3</th>\n",
       "      <td>NJ</td>\n",
       "      <td>4</td>\n",
       "      <td>2019</td>\n",
       "      <td>313719562.0</td>\n",
       "      <td>21215747</td>\n",
       "      <td>2817206</td>\n",
       "    </tr>\n",
       "    <tr>\n",
       "      <th>4</th>\n",
       "      <td>NJ</td>\n",
       "      <td>5</td>\n",
       "      <td>2019</td>\n",
       "      <td>318940677.0</td>\n",
       "      <td>15536384</td>\n",
       "      <td>2135704</td>\n",
       "    </tr>\n",
       "    <tr>\n",
       "      <th>...</th>\n",
       "      <td>...</td>\n",
       "      <td>...</td>\n",
       "      <td>...</td>\n",
       "      <td>...</td>\n",
       "      <td>...</td>\n",
       "      <td>...</td>\n",
       "    </tr>\n",
       "    <tr>\n",
       "      <th>96</th>\n",
       "      <td>IN</td>\n",
       "      <td>11</td>\n",
       "      <td>2019</td>\n",
       "      <td>147276912.0</td>\n",
       "      <td>10593321</td>\n",
       "      <td>1006365</td>\n",
       "    </tr>\n",
       "    <tr>\n",
       "      <th>97</th>\n",
       "      <td>IN</td>\n",
       "      <td>12</td>\n",
       "      <td>2019</td>\n",
       "      <td>161808924.0</td>\n",
       "      <td>12068114</td>\n",
       "      <td>1146471</td>\n",
       "    </tr>\n",
       "    <tr>\n",
       "      <th>98</th>\n",
       "      <td>OR</td>\n",
       "      <td>10</td>\n",
       "      <td>2019</td>\n",
       "      <td>5603136.0</td>\n",
       "      <td>218107</td>\n",
       "      <td>196296</td>\n",
       "    </tr>\n",
       "    <tr>\n",
       "      <th>99</th>\n",
       "      <td>OR</td>\n",
       "      <td>11</td>\n",
       "      <td>2019</td>\n",
       "      <td>17089383.0</td>\n",
       "      <td>943687</td>\n",
       "      <td>849318</td>\n",
       "    </tr>\n",
       "    <tr>\n",
       "      <th>100</th>\n",
       "      <td>OR</td>\n",
       "      <td>12</td>\n",
       "      <td>2019</td>\n",
       "      <td>22375049.0</td>\n",
       "      <td>1632412</td>\n",
       "      <td>1469171</td>\n",
       "    </tr>\n",
       "  </tbody>\n",
       "</table>\n",
       "<p>101 rows × 6 columns</p>\n",
       "</div>"
      ],
      "text/plain": [
       "    state  month  year       handle   revenue    taxes\n",
       "0      NJ      1  2019  385279662.0  18777582  2532619\n",
       "1      NJ      2  2019  320368087.0  12732740  1817553\n",
       "2      NJ      3  2019  372451342.0  31669387  4180051\n",
       "3      NJ      4  2019  313719562.0  21215747  2817206\n",
       "4      NJ      5  2019  318940677.0  15536384  2135704\n",
       "..    ...    ...   ...          ...       ...      ...\n",
       "96     IN     11  2019  147276912.0  10593321  1006365\n",
       "97     IN     12  2019  161808924.0  12068114  1146471\n",
       "98     OR     10  2019    5603136.0    218107   196296\n",
       "99     OR     11  2019   17089383.0    943687   849318\n",
       "100    OR     12  2019   22375049.0   1632412  1469171\n",
       "\n",
       "[101 rows x 6 columns]"
      ]
     },
     "execution_count": 3,
     "metadata": {},
     "output_type": "execute_result"
    }
   ],
   "source": [
    "df"
   ]
  },
  {
   "cell_type": "markdown",
   "metadata": {},
   "source": [
    "## Cleaning / EDA"
   ]
  },
  {
   "cell_type": "code",
   "execution_count": 4,
   "metadata": {},
   "outputs": [
    {
     "data": {
      "text/plain": [
       "<bound method DataFrame.info of     state  month  year       handle   revenue    taxes\n",
       "0      NJ      1  2019  385279662.0  18777582  2532619\n",
       "1      NJ      2  2019  320368087.0  12732740  1817553\n",
       "2      NJ      3  2019  372451342.0  31669387  4180051\n",
       "3      NJ      4  2019  313719562.0  21215747  2817206\n",
       "4      NJ      5  2019  318940677.0  15536384  2135704\n",
       "..    ...    ...   ...          ...       ...      ...\n",
       "96     IN     11  2019  147276912.0  10593321  1006365\n",
       "97     IN     12  2019  161808924.0  12068114  1146471\n",
       "98     OR     10  2019    5603136.0    218107   196296\n",
       "99     OR     11  2019   17089383.0    943687   849318\n",
       "100    OR     12  2019   22375049.0   1632412  1469171\n",
       "\n",
       "[101 rows x 6 columns]>"
      ]
     },
     "execution_count": 4,
     "metadata": {},
     "output_type": "execute_result"
    }
   ],
   "source": [
    "df.info"
   ]
  },
  {
   "cell_type": "code",
   "execution_count": 5,
   "metadata": {},
   "outputs": [
    {
     "data": {
      "text/plain": [
       "Index(['state', 'month', 'year', 'handle', 'revenue', 'taxes'], dtype='object')"
      ]
     },
     "execution_count": 5,
     "metadata": {},
     "output_type": "execute_result"
    }
   ],
   "source": [
    "df.columns"
   ]
  },
  {
   "cell_type": "code",
   "execution_count": 6,
   "metadata": {},
   "outputs": [
    {
     "data": {
      "text/plain": [
       "(101, 6)"
      ]
     },
     "execution_count": 6,
     "metadata": {},
     "output_type": "execute_result"
    }
   ],
   "source": [
    "df.shape"
   ]
  },
  {
   "cell_type": "code",
   "execution_count": 7,
   "metadata": {
    "scrolled": true
   },
   "outputs": [
    {
     "data": {
      "text/plain": [
       "<bound method DataFrame.count of     state  month  year       handle   revenue    taxes\n",
       "0      NJ      1  2019  385279662.0  18777582  2532619\n",
       "1      NJ      2  2019  320368087.0  12732740  1817553\n",
       "2      NJ      3  2019  372451342.0  31669387  4180051\n",
       "3      NJ      4  2019  313719562.0  21215747  2817206\n",
       "4      NJ      5  2019  318940677.0  15536384  2135704\n",
       "..    ...    ...   ...          ...       ...      ...\n",
       "96     IN     11  2019  147276912.0  10593321  1006365\n",
       "97     IN     12  2019  161808924.0  12068114  1146471\n",
       "98     OR     10  2019    5603136.0    218107   196296\n",
       "99     OR     11  2019   17089383.0    943687   849318\n",
       "100    OR     12  2019   22375049.0   1632412  1469171\n",
       "\n",
       "[101 rows x 6 columns]>"
      ]
     },
     "execution_count": 7,
     "metadata": {},
     "output_type": "execute_result"
    }
   ],
   "source": [
    "df.count"
   ]
  },
  {
   "cell_type": "code",
   "execution_count": 10,
   "metadata": {
    "scrolled": true
   },
   "outputs": [
    {
     "data": {
      "text/plain": [
       "<bound method NDFrame.describe of     state  month  year       handle   revenue    taxes\n",
       "0      NJ      1  2019  385279662.0  18777582  2532619\n",
       "1      NJ      2  2019  320368087.0  12732740  1817553\n",
       "2      NJ      3  2019  372451342.0  31669387  4180051\n",
       "3      NJ      4  2019  313719562.0  21215747  2817206\n",
       "4      NJ      5  2019  318940677.0  15536384  2135704\n",
       "..    ...    ...   ...          ...       ...      ...\n",
       "96     IN     11  2019  147276912.0  10593321  1006365\n",
       "97     IN     12  2019  161808924.0  12068114  1146471\n",
       "98     OR     10  2019    5603136.0    218107   196296\n",
       "99     OR     11  2019   17089383.0    943687   849318\n",
       "100    OR     12  2019   22375049.0   1632412  1469171\n",
       "\n",
       "[101 rows x 6 columns]>"
      ]
     },
     "execution_count": 10,
     "metadata": {},
     "output_type": "execute_result"
    }
   ],
   "source": [
    "df.describe"
   ]
  },
  {
   "cell_type": "code",
   "execution_count": 11,
   "metadata": {},
   "outputs": [
    {
     "data": {
      "text/plain": [
       "Index(['state', 'month', 'year', 'handle', 'revenue', 'taxes'], dtype='object')"
      ]
     },
     "execution_count": 11,
     "metadata": {},
     "output_type": "execute_result"
    }
   ],
   "source": [
    "df.columns"
   ]
  },
  {
   "cell_type": "code",
   "execution_count": 90,
   "metadata": {
    "scrolled": true
   },
   "outputs": [
    {
     "data": {
      "text/plain": [
       "state       object\n",
       "month      float64\n",
       "year         int64\n",
       "handle     float64\n",
       "revenue      int64\n",
       "taxes        int64\n",
       "cluster      int32\n",
       "color       object\n",
       "dtype: object"
      ]
     },
     "execution_count": 90,
     "metadata": {},
     "output_type": "execute_result"
    }
   ],
   "source": [
    "df.dtypes"
   ]
  },
  {
   "cell_type": "code",
   "execution_count": 91,
   "metadata": {},
   "outputs": [],
   "source": [
    "df['month'] = df.month.astype(float)\n",
    "df['handle'] = df.handle.astype(float)\n",
    "df['taxes'] = df.taxes.astype(float)\n",
    "df['revenue'] = df.revenue.astype(float)"
   ]
  },
  {
   "cell_type": "code",
   "execution_count": 92,
   "metadata": {},
   "outputs": [
    {
     "data": {
      "text/plain": [
       "state       object\n",
       "month      float64\n",
       "year         int64\n",
       "handle     float64\n",
       "revenue    float64\n",
       "taxes      float64\n",
       "cluster      int32\n",
       "color       object\n",
       "dtype: object"
      ]
     },
     "execution_count": 92,
     "metadata": {},
     "output_type": "execute_result"
    }
   ],
   "source": [
    "df.dtypes"
   ]
  },
  {
   "cell_type": "code",
   "execution_count": 13,
   "metadata": {},
   "outputs": [
    {
     "data": {
      "text/plain": [
       "handle     6\n",
       "taxes      0\n",
       "revenue    0\n",
       "year       0\n",
       "month      0\n",
       "state      0\n",
       "dtype: int64"
      ]
     },
     "execution_count": 13,
     "metadata": {},
     "output_type": "execute_result"
    }
   ],
   "source": [
    "df.isnull().sum().sort_values(ascending = False)"
   ]
  },
  {
   "cell_type": "code",
   "execution_count": 14,
   "metadata": {
    "scrolled": false
   },
   "outputs": [
    {
     "data": {
      "text/html": [
       "<div>\n",
       "<style scoped>\n",
       "    .dataframe tbody tr th:only-of-type {\n",
       "        vertical-align: middle;\n",
       "    }\n",
       "\n",
       "    .dataframe tbody tr th {\n",
       "        vertical-align: top;\n",
       "    }\n",
       "\n",
       "    .dataframe thead th {\n",
       "        text-align: right;\n",
       "    }\n",
       "</style>\n",
       "<table border=\"1\" class=\"dataframe\">\n",
       "  <thead>\n",
       "    <tr style=\"text-align: right;\">\n",
       "      <th></th>\n",
       "      <th>state</th>\n",
       "      <th>month</th>\n",
       "      <th>year</th>\n",
       "      <th>handle</th>\n",
       "      <th>revenue</th>\n",
       "      <th>taxes</th>\n",
       "    </tr>\n",
       "  </thead>\n",
       "  <tbody>\n",
       "    <tr>\n",
       "      <th>83</th>\n",
       "      <td>NY</td>\n",
       "      <td>7</td>\n",
       "      <td>2019</td>\n",
       "      <td>NaN</td>\n",
       "      <td>349468</td>\n",
       "      <td>34947</td>\n",
       "    </tr>\n",
       "    <tr>\n",
       "      <th>84</th>\n",
       "      <td>NY</td>\n",
       "      <td>8</td>\n",
       "      <td>2019</td>\n",
       "      <td>NaN</td>\n",
       "      <td>828152</td>\n",
       "      <td>82815</td>\n",
       "    </tr>\n",
       "    <tr>\n",
       "      <th>85</th>\n",
       "      <td>NY</td>\n",
       "      <td>9</td>\n",
       "      <td>2019</td>\n",
       "      <td>NaN</td>\n",
       "      <td>2283865</td>\n",
       "      <td>228387</td>\n",
       "    </tr>\n",
       "    <tr>\n",
       "      <th>86</th>\n",
       "      <td>NY</td>\n",
       "      <td>10</td>\n",
       "      <td>2019</td>\n",
       "      <td>NaN</td>\n",
       "      <td>2233227</td>\n",
       "      <td>223323</td>\n",
       "    </tr>\n",
       "    <tr>\n",
       "      <th>87</th>\n",
       "      <td>NY</td>\n",
       "      <td>11</td>\n",
       "      <td>2019</td>\n",
       "      <td>NaN</td>\n",
       "      <td>1308296</td>\n",
       "      <td>130830</td>\n",
       "    </tr>\n",
       "    <tr>\n",
       "      <th>88</th>\n",
       "      <td>NY</td>\n",
       "      <td>12</td>\n",
       "      <td>2019</td>\n",
       "      <td>NaN</td>\n",
       "      <td>780418</td>\n",
       "      <td>78042</td>\n",
       "    </tr>\n",
       "  </tbody>\n",
       "</table>\n",
       "</div>"
      ],
      "text/plain": [
       "   state  month  year  handle  revenue   taxes\n",
       "83    NY      7  2019     NaN   349468   34947\n",
       "84    NY      8  2019     NaN   828152   82815\n",
       "85    NY      9  2019     NaN  2283865  228387\n",
       "86    NY     10  2019     NaN  2233227  223323\n",
       "87    NY     11  2019     NaN  1308296  130830\n",
       "88    NY     12  2019     NaN   780418   78042"
      ]
     },
     "execution_count": 14,
     "metadata": {},
     "output_type": "execute_result"
    }
   ],
   "source": [
    "df[df.isna().any(axis=1)]\n"
   ]
  },
  {
   "cell_type": "code",
   "execution_count": 15,
   "metadata": {},
   "outputs": [],
   "source": [
    "df.loc[83, 'handle'] = 5098389\n",
    "df.loc[84, 'handle'] = 12081910\n",
    "df.loc[85, 'handle'] = 33319306\n",
    "df.loc[86, 'handle'] = 32580549\n",
    "df.loc[87, 'handle'] = 12086730\n",
    "df.loc[88, 'handle'] = 11385518"
   ]
  },
  {
   "cell_type": "code",
   "execution_count": 16,
   "metadata": {
    "scrolled": false
   },
   "outputs": [
    {
     "data": {
      "text/plain": [
       "taxes      0\n",
       "revenue    0\n",
       "handle     0\n",
       "year       0\n",
       "month      0\n",
       "state      0\n",
       "dtype: int64"
      ]
     },
     "execution_count": 16,
     "metadata": {},
     "output_type": "execute_result"
    }
   ],
   "source": [
    "df.isnull().sum().sort_values(ascending = False)"
   ]
  },
  {
   "cell_type": "markdown",
   "metadata": {},
   "source": [
    "### Visualizing (this won't be an actual section)"
   ]
  },
  {
   "cell_type": "code",
   "execution_count": 75,
   "metadata": {
    "scrolled": true
   },
   "outputs": [
    {
     "data": {
      "image/png": "[encoded data removed]",
      "text/plain": [
       "<Figure size 432x288 with 1 Axes>"
      ]
     },
     "metadata": {
      "needs_background": "light"
     },
     "output_type": "display_data"
    }
   ],
   "source": [
    "plt.scatter(df[\"state\"], df[\"revenue\"])\n",
    "plt.xlabel(\"state\", fontsize = 20)\n",
    "plt.ylabel(\"revenue in hundreds of millions\", fontsize = 14);"
   ]
  },
  {
   "cell_type": "code",
   "execution_count": 74,
   "metadata": {},
   "outputs": [
    {
     "data": {
      "image/png": "[encoded data removed]",
      "text/plain": [
       "<Figure size 432x288 with 1 Axes>"
      ]
     },
     "metadata": {
      "needs_background": "light"
     },
     "output_type": "display_data"
    }
   ],
   "source": [
    "plt.scatter(df['month'], df['revenue'])\n",
    "plt.xlabel(\"month\", fontsize = 20)\n",
    "plt.ylabel(\"revenue in hundreds of millions\", fontsize = 14);"
   ]
  },
  {
   "cell_type": "code",
   "execution_count": 73,
   "metadata": {
    "scrolled": true
   },
   "outputs": [
    {
     "data": {
      "image/png": "[encoded data removed]",
      "text/plain": [
       "<Figure size 432x288 with 1 Axes>"
      ]
     },
     "metadata": {
      "needs_background": "light"
     },
     "output_type": "display_data"
    }
   ],
   "source": [
    "plt.scatter(df['handle'], df['revenue'])\n",
    "plt.xlabel('handle', fontsize = 20)\n",
    "plt.ylabel('revenue in hundreds of millions', fontsize = 14);"
   ]
  },
  {
   "cell_type": "code",
   "execution_count": 76,
   "metadata": {},
   "outputs": [
    {
     "data": {
      "image/png": "[encoded data removed]",
      "text/plain": [
       "<Figure size 432x288 with 1 Axes>"
      ]
     },
     "metadata": {
      "needs_background": "light"
     },
     "output_type": "display_data"
    }
   ],
   "source": [
    "plt.scatter(df['taxes'], df['revenue'])\n",
    "plt.xlabel('taxes', fontsize = 20)\n",
    "plt.ylabel('revenue in hundreds of millions', fontsize = 14);"
   ]
  },
  {
   "cell_type": "code",
   "execution_count": 77,
   "metadata": {},
   "outputs": [
    {
     "data": {
      "image/png": "[encoded data removed]",
      "text/plain": [
       "<Figure size 576x360 with 1 Axes>"
      ]
     },
     "metadata": {
      "needs_background": "light"
     },
     "output_type": "display_data"
    }
   ],
   "source": [
    "df.groupby(\"state\")[[\"revenue\"]].mean().plot(kind = \"barh\", color=\"darkcyan\", figsize=(8,5))\n",
    "plt.ylabel(\"state\", fontsize=18)\n",
    "plt.xlabel(\"revenue\", fontsize=18)\n",
    "plt.title(\"revenue by state\", fontsize=20);"
   ]
  },
  {
   "cell_type": "code",
   "execution_count": 25,
   "metadata": {
    "scrolled": true
   },
   "outputs": [
    {
     "data": {
      "image/png": "[encoded data removed]",
      "text/plain": [
       "<Figure size 576x360 with 1 Axes>"
      ]
     },
     "metadata": {
      "needs_background": "light"
     },
     "output_type": "display_data"
    }
   ],
   "source": [
    "df.groupby(\"month\")[[\"revenue\"]].mean().plot(kind = \"barh\", color=\"darkcyan\", figsize=(8,5))\n",
    "plt.ylabel(\"month\", fontsize=18)\n",
    "plt.xlabel(\"revenue\", fontsize=18)\n",
    "plt.title(\"revenue by month\", fontsize=20);"
   ]
  },
  {
   "cell_type": "code",
   "execution_count": 78,
   "metadata": {},
   "outputs": [
    {
     "data": {
      "image/png": "[encoded data removed]",
      "text/plain": [
       "<Figure size 720x1008 with 2 Axes>"
      ]
     },
     "metadata": {
      "needs_background": "light"
     },
     "output_type": "display_data"
    }
   ],
   "source": [
    "#Heatmap of the corrleations of features and SalePrice\n",
    "\n",
    "plt.figure(figsize = (10,14))\n",
    "sns.heatmap(df.corr()[[\"revenue\"]].sort_values(by = 'revenue', ascending = False),\n",
    "                            annot = True,\n",
    "                            cmap=\"RdBu\",\n",
    "                            vmin = -1,\n",
    "                            vmax = 1);"
   ]
  },
  {
   "cell_type": "markdown",
   "metadata": {},
   "source": [
    "## Preprocessing "
   ]
  },
  {
   "cell_type": "markdown",
   "metadata": {},
   "source": [
    "### PCA\n"
   ]
  },
  {
   "cell_type": "code",
   "execution_count": 97,
   "metadata": {},
   "outputs": [
    {
     "data": {
      "text/plain": [
       "state       object\n",
       "month      float64\n",
       "year         int64\n",
       "handle     float64\n",
       "revenue    float64\n",
       "taxes      float64\n",
       "cluster      int32\n",
       "color       object\n",
       "dtype: object"
      ]
     },
     "execution_count": 97,
     "metadata": {},
     "output_type": "execute_result"
    }
   ],
   "source": [
    "df.dtypes"
   ]
  },
  {
   "cell_type": "code",
   "execution_count": 93,
   "metadata": {},
   "outputs": [],
   "source": [
    "non_revenue_cols = [\"month\", \"handle\", \"taxes\"]"
   ]
  },
  {
   "cell_type": "code",
   "execution_count": 99,
   "metadata": {},
   "outputs": [],
   "source": [
    "# Assigning the new columns to a variable\n",
    "\n",
    "non_revenue_cols_2 = df[non_revenue_cols]"
   ]
  },
  {
   "cell_type": "code",
   "execution_count": 101,
   "metadata": {},
   "outputs": [
    {
     "data": {
      "text/html": [
       "<div>\n",
       "<style scoped>\n",
       "    .dataframe tbody tr th:only-of-type {\n",
       "        vertical-align: middle;\n",
       "    }\n",
       "\n",
       "    .dataframe tbody tr th {\n",
       "        vertical-align: top;\n",
       "    }\n",
       "\n",
       "    .dataframe thead th {\n",
       "        text-align: right;\n",
       "    }\n",
       "</style>\n",
       "<table border=\"1\" class=\"dataframe\">\n",
       "  <thead>\n",
       "    <tr style=\"text-align: right;\">\n",
       "      <th></th>\n",
       "      <th>month</th>\n",
       "      <th>handle</th>\n",
       "      <th>taxes</th>\n",
       "    </tr>\n",
       "  </thead>\n",
       "  <tbody>\n",
       "    <tr>\n",
       "      <th>0</th>\n",
       "      <td>1.0</td>\n",
       "      <td>385279662.0</td>\n",
       "      <td>2532619.0</td>\n",
       "    </tr>\n",
       "    <tr>\n",
       "      <th>1</th>\n",
       "      <td>2.0</td>\n",
       "      <td>320368087.0</td>\n",
       "      <td>1817553.0</td>\n",
       "    </tr>\n",
       "    <tr>\n",
       "      <th>2</th>\n",
       "      <td>3.0</td>\n",
       "      <td>372451342.0</td>\n",
       "      <td>4180051.0</td>\n",
       "    </tr>\n",
       "    <tr>\n",
       "      <th>3</th>\n",
       "      <td>4.0</td>\n",
       "      <td>313719562.0</td>\n",
       "      <td>2817206.0</td>\n",
       "    </tr>\n",
       "    <tr>\n",
       "      <th>4</th>\n",
       "      <td>5.0</td>\n",
       "      <td>318940677.0</td>\n",
       "      <td>2135704.0</td>\n",
       "    </tr>\n",
       "  </tbody>\n",
       "</table>\n",
       "</div>"
      ],
      "text/plain": [
       "   month       handle      taxes\n",
       "0    1.0  385279662.0  2532619.0\n",
       "1    2.0  320368087.0  1817553.0\n",
       "2    3.0  372451342.0  4180051.0\n",
       "3    4.0  313719562.0  2817206.0\n",
       "4    5.0  318940677.0  2135704.0"
      ]
     },
     "execution_count": 101,
     "metadata": {},
     "output_type": "execute_result"
    }
   ],
   "source": [
    "non_revenue_cols_2.head()"
   ]
  },
  {
   "cell_type": "code",
   "execution_count": 102,
   "metadata": {},
   "outputs": [],
   "source": [
    "ss = StandardScaler()"
   ]
  },
  {
   "cell_type": "code",
   "execution_count": 103,
   "metadata": {},
   "outputs": [],
   "source": [
    "scale = ss.fit_transform(non_revenue_cols_2)"
   ]
  },
  {
   "cell_type": "code",
   "execution_count": 104,
   "metadata": {},
   "outputs": [],
   "source": [
    "non = pd.DataFrame(scale, columns = non_revenue_cols)"
   ]
  },
  {
   "cell_type": "code",
   "execution_count": 107,
   "metadata": {},
   "outputs": [
    {
     "data": {
      "text/html": [
       "<div>\n",
       "<style scoped>\n",
       "    .dataframe tbody tr th:only-of-type {\n",
       "        vertical-align: middle;\n",
       "    }\n",
       "\n",
       "    .dataframe tbody tr th {\n",
       "        vertical-align: top;\n",
       "    }\n",
       "\n",
       "    .dataframe thead th {\n",
       "        text-align: right;\n",
       "    }\n",
       "</style>\n",
       "<table border=\"1\" class=\"dataframe\">\n",
       "  <thead>\n",
       "    <tr style=\"text-align: right;\">\n",
       "      <th></th>\n",
       "      <th>month</th>\n",
       "      <th>handle</th>\n",
       "      <th>taxes</th>\n",
       "    </tr>\n",
       "  </thead>\n",
       "  <tbody>\n",
       "    <tr>\n",
       "      <th>0</th>\n",
       "      <td>-1.759083</td>\n",
       "      <td>1.441440</td>\n",
       "      <td>0.947676</td>\n",
       "    </tr>\n",
       "    <tr>\n",
       "      <th>1</th>\n",
       "      <td>-1.470193</td>\n",
       "      <td>1.075255</td>\n",
       "      <td>0.436091</td>\n",
       "    </tr>\n",
       "    <tr>\n",
       "      <th>2</th>\n",
       "      <td>-1.181303</td>\n",
       "      <td>1.369072</td>\n",
       "      <td>2.126312</td>\n",
       "    </tr>\n",
       "    <tr>\n",
       "      <th>3</th>\n",
       "      <td>-0.892413</td>\n",
       "      <td>1.037749</td>\n",
       "      <td>1.151281</td>\n",
       "    </tr>\n",
       "    <tr>\n",
       "      <th>4</th>\n",
       "      <td>-0.603523</td>\n",
       "      <td>1.067203</td>\n",
       "      <td>0.663708</td>\n",
       "    </tr>\n",
       "    <tr>\n",
       "      <th>5</th>\n",
       "      <td>-0.314633</td>\n",
       "      <td>0.809296</td>\n",
       "      <td>0.036152</td>\n",
       "    </tr>\n",
       "    <tr>\n",
       "      <th>6</th>\n",
       "      <td>-0.025743</td>\n",
       "      <td>0.686025</td>\n",
       "      <td>0.829719</td>\n",
       "    </tr>\n",
       "    <tr>\n",
       "      <th>7</th>\n",
       "      <td>0.263147</td>\n",
       "      <td>0.924220</td>\n",
       "      <td>1.516428</td>\n",
       "    </tr>\n",
       "    <tr>\n",
       "      <th>8</th>\n",
       "      <td>0.552037</td>\n",
       "      <td>1.781518</td>\n",
       "      <td>2.725723</td>\n",
       "    </tr>\n",
       "    <tr>\n",
       "      <th>9</th>\n",
       "      <td>0.840927</td>\n",
       "      <td>2.020489</td>\n",
       "      <td>3.186661</td>\n",
       "    </tr>\n",
       "  </tbody>\n",
       "</table>\n",
       "</div>"
      ],
      "text/plain": [
       "      month    handle     taxes\n",
       "0 -1.759083  1.441440  0.947676\n",
       "1 -1.470193  1.075255  0.436091\n",
       "2 -1.181303  1.369072  2.126312\n",
       "3 -0.892413  1.037749  1.151281\n",
       "4 -0.603523  1.067203  0.663708\n",
       "5 -0.314633  0.809296  0.036152\n",
       "6 -0.025743  0.686025  0.829719\n",
       "7  0.263147  0.924220  1.516428\n",
       "8  0.552037  1.781518  2.725723\n",
       "9  0.840927  2.020489  3.186661"
      ]
     },
     "execution_count": 107,
     "metadata": {},
     "output_type": "execute_result"
    }
   ],
   "source": [
    "non.head(10)"
   ]
  },
  {
   "cell_type": "markdown",
   "metadata": {},
   "source": [
    "### Using a PairGrid to visualize correlation"
   ]
  },
  {
   "cell_type": "code",
   "execution_count": 110,
   "metadata": {},
   "outputs": [
    {
     "data": {
      "image/png": "[encoded data removed]",
      "text/plain": [
       "<Figure size 540x540 with 12 Axes>"
      ]
     },
     "metadata": {
      "needs_background": "light"
     },
     "output_type": "display_data"
    }
   ],
   "source": [
    "g = sns.PairGrid(non)\n",
    "g = g.map_lower(sns.regplot) # Regression plots in lower triangle.\n",
    "g = g.map_upper(sns.kdeplot, cmap=\"Blues\", shade=True, shade_lowest=False)  # KDE plots in upper triangle.\n",
    "g = g.map_diag(plt.hist) # Histograms along diagonal.\n",
    "\n",
    "plt.show();"
   ]
  },
  {
   "cell_type": "markdown",
   "metadata": {},
   "source": [
    "### Heat map to visualize correlation"
   ]
  },
  {
   "cell_type": "code",
   "execution_count": 114,
   "metadata": {
    "scrolled": true
   },
   "outputs": [
    {
     "data": {
      "image/png": "[encoded data removed]",
      "text/plain": [
       "<Figure size 576x360 with 2 Axes>"
      ]
     },
     "metadata": {
      "needs_background": "light"
     },
     "output_type": "display_data"
    }
   ],
   "source": [
    "plt.figure(figsize = (8, 5))\n",
    "plt.title(\"Non-Revenue Features Correlation\", fontsize = 18);\n",
    "\n",
    "\n",
    "sns.heatmap(non.corr(), \n",
    "            cmap ='coolwarm', \n",
    "            annot = True,\n",
    "            vmax = 1,\n",
    "            vmin = -1)\n",
    "            \n",
    "plt.xticks(fontsize = 12) \n",
    "plt.yticks(fontsize = 12); "
   ]
  },
  {
   "cell_type": "code",
   "execution_count": 117,
   "metadata": {},
   "outputs": [
    {
     "data": {
      "text/plain": [
       "PCA(copy=True, iterated_power='auto', n_components=3, random_state=None,\n",
       "    svd_solver='auto', tol=0.0, whiten=False)"
      ]
     },
     "execution_count": 117,
     "metadata": {},
     "output_type": "execute_result"
    }
   ],
   "source": [
    "# Fitting PCA on the non-revenue features\n",
    "\n",
    "non_pca = PCA(n_components=3)\n",
    "non_pca.fit(non.values)"
   ]
  },
  {
   "cell_type": "code",
   "execution_count": 118,
   "metadata": {},
   "outputs": [
    {
     "data": {
      "text/plain": [
       "array([[ 0.24110184,  0.67599978,  0.69634345],\n",
       "       [-0.96246913,  0.25866246,  0.08213952],\n",
       "       [-0.12459161, -0.69001307,  0.71299291]])"
      ]
     },
     "execution_count": 118,
     "metadata": {},
     "output_type": "execute_result"
    }
   ],
   "source": [
    "# Examining the weights of the principal components\n",
    "\n",
    "non_pca.components_"
   ]
  },
  {
   "cell_type": "code",
   "execution_count": 122,
   "metadata": {
    "scrolled": true
   },
   "outputs": [
    {
     "data": {
      "text/plain": [
       "array([0.59516407, 0.32108527, 0.08375066])"
      ]
     },
     "execution_count": 122,
     "metadata": {},
     "output_type": "execute_result"
    }
   ],
   "source": [
    "# Examining the explained variance values and explained variance ratios\n",
    "\n",
    "non_pca.explained_variance_ratio_"
   ]
  },
  {
   "cell_type": "code",
   "execution_count": 126,
   "metadata": {},
   "outputs": [
    {
     "data": {
      "text/plain": [
       "array([[ 1.21020321e+00,  2.14375070e+00, -9.97590936e-02],\n",
       "       [ 6.76075115e-01,  1.72896339e+00, -2.47836930e-01],\n",
       "       [ 2.12132136e+00,  1.66574897e+00,  7.18548268e-01],\n",
       "       [ 1.28804251e+00,  1.22191193e+00,  2.15981635e-01],\n",
       "       [ 1.03808725e+00,  9.11433867e-01, -1.87970891e-01],\n",
       "       [ 4.96399924e-01,  5.15128288e-01, -4.93448101e-01],\n",
       "       [ 1.03531526e+00,  2.70378045e-01,  1.21425246e-01],\n",
       "       [ 1.74417247e+00,  1.10348503e-01,  4.10692734e-01],\n",
       "       [ 3.23544268e+00,  1.53382682e-01,  6.45371089e-01],\n",
       "       [ 3.78760939e+00, -2.49911162e-02,  7.73130198e-01],\n",
       "       [ 3.54365573e+00, -2.64580948e-01, -1.66819362e-01],\n",
       "       [ 3.37355197e+00, -5.75844927e-01, -4.10177084e-01],\n",
       "       [-9.31113276e-01,  1.53459235e+00,  4.62243088e-01],\n",
       "       [-9.81851785e-01,  1.24182774e+00,  3.06966041e-01],\n",
       "       [-2.21794958e-01,  1.05836776e+00,  8.76311704e-01],\n",
       "       [-4.14498512e-01,  7.41542062e-01,  6.32184511e-01],\n",
       "       [-5.91878506e-01,  4.33512167e-01,  3.49763008e-01],\n",
       "       [-6.26947640e-01,  1.53609074e-01,  1.25453222e-01],\n",
       "       [-3.65089886e-01, -8.86470313e-02,  1.84914992e-01],\n",
       "       [ 4.79309773e-01, -2.25135719e-01,  5.54622793e-01],\n",
       "       [ 2.44846815e+00, -1.92854757e-01,  1.79714876e+00],\n",
       "       [ 2.70678944e+00, -4.01529219e-01,  1.59034907e+00],\n",
       "       [ 3.02271732e+00, -5.74540224e-01,  1.21952616e+00],\n",
       "       [ 2.59173435e+00, -8.85305782e-01,  4.67481109e-01],\n",
       "       [-1.12597894e+00,  1.49214033e+00,  4.13092821e-01],\n",
       "       [-1.36728987e+00,  1.17311935e+00,  9.18622197e-02],\n",
       "       [-9.83330925e-01,  9.32966069e-01,  3.71362233e-01],\n",
       "       [-1.12639043e+00,  6.27027393e-01,  1.39200924e-01],\n",
       "       [-1.10718680e+00,  3.42918289e-01,  5.24077769e-02],\n",
       "       [-1.05220913e+00,  6.21508296e-02,  9.02811205e-03],\n",
       "       [-9.46249538e-01, -2.12650995e-01,  1.82209724e-02],\n",
       "       [-8.05901498e-01, -4.80763468e-01,  4.22850144e-02],\n",
       "       [-4.63669207e-01, -7.22440899e-01,  2.52812275e-01],\n",
       "       [-3.86959452e-01, -9.99053846e-01,  2.19393606e-01],\n",
       "       [-4.19960261e-01, -1.28884450e+00,  7.54676239e-02],\n",
       "       [-3.79718464e-01, -1.57046866e+00,  1.01900523e-02],\n",
       "       [-1.21960261e+00,  1.50377130e+00,  1.42069070e-01],\n",
       "       [-1.19044840e+00,  1.21081000e+00,  1.42914774e-01],\n",
       "       [-9.64988494e-01,  9.58482330e-01,  2.09744452e-01],\n",
       "       [-1.11563552e+00,  6.41092277e-01,  5.13620489e-02],\n",
       "       [-1.10442307e+00,  3.54384326e-01, -3.08190597e-02],\n",
       "       [-1.01744753e+00,  7.61114656e-02, -3.15492239e-02],\n",
       "       [-9.88844163e-01, -2.08602421e-01, -9.54806577e-02],\n",
       "       [-7.84994157e-01, -4.64266596e-01, -4.46946065e-02],\n",
       "       [-4.82482112e-01, -6.96683544e-01,  1.74313870e-02],\n",
       "       [ 2.42508018e-02, -9.12930455e-01,  3.49839345e-01],\n",
       "       [-3.83085720e-01, -1.23881525e+00, -2.39650626e-01],\n",
       "       [-3.59486959e-01, -1.52965610e+00, -2.65935920e-01],\n",
       "       [ 8.68205587e-01,  2.21666209e+00, -1.32481115e+00],\n",
       "       [ 1.50211922e+00,  1.96591856e+00, -4.79805003e-01],\n",
       "       [ 1.98791189e+00,  1.87641122e+00, -1.16698139e+00],\n",
       "       [ 6.67702743e-01,  1.16327404e+00, -5.31483608e-01],\n",
       "       [ 3.47034341e-01,  8.28343419e-01, -8.83379973e-01],\n",
       "       [ 6.13500037e-01,  5.78252893e-01, -7.54480367e-01],\n",
       "       [ 1.50047565e-01,  1.50095056e-01, -6.62504006e-01],\n",
       "       [ 6.94088240e-01, -1.94098640e-02, -6.18981888e-01],\n",
       "       [ 2.87090405e+00,  2.12120489e-01, -5.13810161e-01],\n",
       "       [ 2.78925705e+00, -8.66064940e-02, -6.82840114e-01],\n",
       "       [ 2.56057640e+00, -3.28618901e-01, -1.57451994e+00],\n",
       "       [ 2.64517643e+00, -6.48244540e-01, -1.26039718e+00],\n",
       "       [-1.40749244e+00,  1.46531751e+00,  7.55316885e-02],\n",
       "       [-1.59853761e+00,  1.15816922e+00, -2.40144228e-01],\n",
       "       [-8.98184401e-01,  9.57441209e-01,  3.47062181e-01],\n",
       "       [-7.46980116e-01,  6.82227528e-01,  4.46991307e-01],\n",
       "       [-9.41650151e-01,  3.75060287e-01,  1.24447211e-01],\n",
       "       [-5.70067453e-01,  1.28425433e-01,  4.30067583e-01],\n",
       "       [-8.60874852e-01, -1.98616153e-01,  7.50136562e-02],\n",
       "       [-7.78443456e-01, -4.73402009e-01,  3.85528877e-02],\n",
       "       [-2.39658604e-01, -6.83862308e-01,  3.88284205e-01],\n",
       "       [-1.61771735e-01, -9.54796451e-01,  3.13274704e-01],\n",
       "       [-6.70608496e-03, -1.21955505e+00,  3.39910673e-01],\n",
       "       [-1.37571863e+00,  1.46976085e+00,  1.02693600e-01],\n",
       "       [-1.37552601e+00,  1.18059809e+00,  1.81509685e-02],\n",
       "       [-1.23167491e+00,  9.09719619e-01,  7.03612143e-02],\n",
       "       [-1.23513788e+00,  6.18708452e-01, -6.97654464e-03],\n",
       "       [-1.17040058e+00,  3.38517597e-01, -3.59242404e-02],\n",
       "       [-1.12112206e+00,  5.65494197e-02, -8.10570043e-02],\n",
       "       [-1.04177484e+00, -2.21344883e-01, -9.94733578e-02],\n",
       "       [-9.12565291e-01, -4.87705335e-01, -1.10498179e-01],\n",
       "       [-6.53442556e-01, -7.27308748e-01, -7.68210687e-02],\n",
       "       [-6.09397492e-01, -1.00300269e+00, -1.80549667e-01],\n",
       "       [-5.95895205e-01, -1.28521556e+00, -2.93024112e-01],\n",
       "       [-4.89362689e-01, -1.56003235e+00, -2.82606984e-01],\n",
       "       [-1.06602649e+00, -2.26069210e-01, -1.09908237e-01],\n",
       "       [-9.45895479e-01, -4.91113617e-01, -1.48667708e-01],\n",
       "       [-7.22731987e-01, -7.29617280e-01, -1.93072217e-01],\n",
       "       [-6.58420175e-01, -1.00904054e+00, -2.28772987e-01],\n",
       "       [-7.13000758e-01, -1.32242799e+00, -2.32173711e-01],\n",
       "       [-6.72321418e-01, -1.60460100e+00, -2.92364749e-01],\n",
       "       [-9.27142592e-01, -4.92258329e-01, -1.03535412e-01],\n",
       "       [-6.49974169e-01, -7.15776544e-01, -1.59195438e-01],\n",
       "       [-5.26319525e-01, -9.79408066e-01, -2.02050713e-01],\n",
       "       [-4.76908137e-01, -1.24687878e+00, -3.58919142e-01],\n",
       "       [-4.30972130e-01, -1.52781072e+00, -4.18525037e-01],\n",
       "       [-4.24201107e-01, -6.92489226e-01,  9.78120460e-02],\n",
       "       [ 1.86211285e-03, -8.71484923e-01, -1.36522125e-02],\n",
       "       [ 2.38731422e-01, -1.07370852e+00, -3.11797288e-01],\n",
       "       [ 4.33600770e-01, -1.32231782e+00, -3.32888901e-01],\n",
       "       [-7.74763350e-01, -1.04999394e+00, -1.37548300e-01],\n",
       "       [-3.35979091e-01, -1.27290569e+00,  1.14855552e-01],\n",
       "       [ 6.26347175e-02, -1.50681447e+00,  3.74475960e-01]])"
      ]
     },
     "execution_count": 126,
     "metadata": {},
     "output_type": "execute_result"
    }
   ],
   "source": [
    "# Transforming the data into the principal component space\n",
    "\n",
    "# This will transform our our three-dimensional data set into vectors along its three principal components (with zero loss).\n",
    "\n",
    "non_pca.transform(non.values)"
   ]
  },
  {
   "cell_type": "code",
   "execution_count": null,
   "metadata": {},
   "outputs": [],
   "source": [
    "# Comparing PCA-transformed features to features prior to being PCA-transformed"
   ]
  },
  {
   "cell_type": "code",
   "execution_count": 127,
   "metadata": {},
   "outputs": [
    {
     "data": {
      "text/html": [
       "<div>\n",
       "<style scoped>\n",
       "    .dataframe tbody tr th:only-of-type {\n",
       "        vertical-align: middle;\n",
       "    }\n",
       "\n",
       "    .dataframe tbody tr th {\n",
       "        vertical-align: top;\n",
       "    }\n",
       "\n",
       "    .dataframe thead th {\n",
       "        text-align: right;\n",
       "    }\n",
       "</style>\n",
       "<table border=\"1\" class=\"dataframe\">\n",
       "  <thead>\n",
       "    <tr style=\"text-align: right;\">\n",
       "      <th></th>\n",
       "      <th>0</th>\n",
       "      <th>1</th>\n",
       "      <th>2</th>\n",
       "    </tr>\n",
       "  </thead>\n",
       "  <tbody>\n",
       "    <tr>\n",
       "      <th>0</th>\n",
       "      <td>-1.759083</td>\n",
       "      <td>1.441440</td>\n",
       "      <td>0.947676</td>\n",
       "    </tr>\n",
       "    <tr>\n",
       "      <th>1</th>\n",
       "      <td>-1.470193</td>\n",
       "      <td>1.075255</td>\n",
       "      <td>0.436091</td>\n",
       "    </tr>\n",
       "    <tr>\n",
       "      <th>2</th>\n",
       "      <td>-1.181303</td>\n",
       "      <td>1.369072</td>\n",
       "      <td>2.126312</td>\n",
       "    </tr>\n",
       "    <tr>\n",
       "      <th>3</th>\n",
       "      <td>-0.892413</td>\n",
       "      <td>1.037749</td>\n",
       "      <td>1.151281</td>\n",
       "    </tr>\n",
       "    <tr>\n",
       "      <th>4</th>\n",
       "      <td>-0.603523</td>\n",
       "      <td>1.067203</td>\n",
       "      <td>0.663708</td>\n",
       "    </tr>\n",
       "    <tr>\n",
       "      <th>5</th>\n",
       "      <td>-0.314633</td>\n",
       "      <td>0.809296</td>\n",
       "      <td>0.036152</td>\n",
       "    </tr>\n",
       "    <tr>\n",
       "      <th>6</th>\n",
       "      <td>-0.025743</td>\n",
       "      <td>0.686025</td>\n",
       "      <td>0.829719</td>\n",
       "    </tr>\n",
       "    <tr>\n",
       "      <th>7</th>\n",
       "      <td>0.263147</td>\n",
       "      <td>0.924220</td>\n",
       "      <td>1.516428</td>\n",
       "    </tr>\n",
       "    <tr>\n",
       "      <th>8</th>\n",
       "      <td>0.552037</td>\n",
       "      <td>1.781518</td>\n",
       "      <td>2.725723</td>\n",
       "    </tr>\n",
       "    <tr>\n",
       "      <th>9</th>\n",
       "      <td>0.840927</td>\n",
       "      <td>2.020489</td>\n",
       "      <td>3.186661</td>\n",
       "    </tr>\n",
       "  </tbody>\n",
       "</table>\n",
       "</div>"
      ],
      "text/plain": [
       "          0         1         2\n",
       "0 -1.759083  1.441440  0.947676\n",
       "1 -1.470193  1.075255  0.436091\n",
       "2 -1.181303  1.369072  2.126312\n",
       "3 -0.892413  1.037749  1.151281\n",
       "4 -0.603523  1.067203  0.663708\n",
       "5 -0.314633  0.809296  0.036152\n",
       "6 -0.025743  0.686025  0.829719\n",
       "7  0.263147  0.924220  1.516428\n",
       "8  0.552037  1.781518  2.725723\n",
       "9  0.840927  2.020489  3.186661"
      ]
     },
     "execution_count": 127,
     "metadata": {},
     "output_type": "execute_result"
    }
   ],
   "source": [
    "pd.DataFrame(non.values).head(10)"
   ]
  },
  {
   "cell_type": "code",
   "execution_count": 128,
   "metadata": {
    "scrolled": true
   },
   "outputs": [
    {
     "data": {
      "text/html": [
       "<div>\n",
       "<style scoped>\n",
       "    .dataframe tbody tr th:only-of-type {\n",
       "        vertical-align: middle;\n",
       "    }\n",
       "\n",
       "    .dataframe tbody tr th {\n",
       "        vertical-align: top;\n",
       "    }\n",
       "\n",
       "    .dataframe thead th {\n",
       "        text-align: right;\n",
       "    }\n",
       "</style>\n",
       "<table border=\"1\" class=\"dataframe\">\n",
       "  <thead>\n",
       "    <tr style=\"text-align: right;\">\n",
       "      <th></th>\n",
       "      <th>0</th>\n",
       "      <th>1</th>\n",
       "      <th>2</th>\n",
       "    </tr>\n",
       "  </thead>\n",
       "  <tbody>\n",
       "    <tr>\n",
       "      <th>0</th>\n",
       "      <td>1.210203</td>\n",
       "      <td>2.143751</td>\n",
       "      <td>-0.099759</td>\n",
       "    </tr>\n",
       "    <tr>\n",
       "      <th>1</th>\n",
       "      <td>0.676075</td>\n",
       "      <td>1.728963</td>\n",
       "      <td>-0.247837</td>\n",
       "    </tr>\n",
       "    <tr>\n",
       "      <th>2</th>\n",
       "      <td>2.121321</td>\n",
       "      <td>1.665749</td>\n",
       "      <td>0.718548</td>\n",
       "    </tr>\n",
       "    <tr>\n",
       "      <th>3</th>\n",
       "      <td>1.288043</td>\n",
       "      <td>1.221912</td>\n",
       "      <td>0.215982</td>\n",
       "    </tr>\n",
       "    <tr>\n",
       "      <th>4</th>\n",
       "      <td>1.038087</td>\n",
       "      <td>0.911434</td>\n",
       "      <td>-0.187971</td>\n",
       "    </tr>\n",
       "    <tr>\n",
       "      <th>5</th>\n",
       "      <td>0.496400</td>\n",
       "      <td>0.515128</td>\n",
       "      <td>-0.493448</td>\n",
       "    </tr>\n",
       "    <tr>\n",
       "      <th>6</th>\n",
       "      <td>1.035315</td>\n",
       "      <td>0.270378</td>\n",
       "      <td>0.121425</td>\n",
       "    </tr>\n",
       "    <tr>\n",
       "      <th>7</th>\n",
       "      <td>1.744172</td>\n",
       "      <td>0.110349</td>\n",
       "      <td>0.410693</td>\n",
       "    </tr>\n",
       "    <tr>\n",
       "      <th>8</th>\n",
       "      <td>3.235443</td>\n",
       "      <td>0.153383</td>\n",
       "      <td>0.645371</td>\n",
       "    </tr>\n",
       "    <tr>\n",
       "      <th>9</th>\n",
       "      <td>3.787609</td>\n",
       "      <td>-0.024991</td>\n",
       "      <td>0.773130</td>\n",
       "    </tr>\n",
       "  </tbody>\n",
       "</table>\n",
       "</div>"
      ],
      "text/plain": [
       "          0         1         2\n",
       "0  1.210203  2.143751 -0.099759\n",
       "1  0.676075  1.728963 -0.247837\n",
       "2  2.121321  1.665749  0.718548\n",
       "3  1.288043  1.221912  0.215982\n",
       "4  1.038087  0.911434 -0.187971\n",
       "5  0.496400  0.515128 -0.493448\n",
       "6  1.035315  0.270378  0.121425\n",
       "7  1.744172  0.110349  0.410693\n",
       "8  3.235443  0.153383  0.645371\n",
       "9  3.787609 -0.024991  0.773130"
      ]
     },
     "execution_count": 128,
     "metadata": {},
     "output_type": "execute_result"
    }
   ],
   "source": [
    "pd.DataFrame(non_pca.transform(non.values)).head(10)"
   ]
  },
  {
   "cell_type": "markdown",
   "metadata": {},
   "source": [
    "### Using PCA ro reduce dimensionality"
   ]
  },
  {
   "cell_type": "code",
   "execution_count": null,
   "metadata": {},
   "outputs": [],
   "source": []
  },
  {
   "cell_type": "code",
   "execution_count": null,
   "metadata": {},
   "outputs": [],
   "source": []
  },
  {
   "cell_type": "code",
   "execution_count": null,
   "metadata": {},
   "outputs": [],
   "source": []
  },
  {
   "cell_type": "code",
   "execution_count": null,
   "metadata": {},
   "outputs": [],
   "source": []
  },
  {
   "cell_type": "code",
   "execution_count": null,
   "metadata": {},
   "outputs": [],
   "source": []
  },
  {
   "cell_type": "code",
   "execution_count": null,
   "metadata": {},
   "outputs": [],
   "source": []
  },
  {
   "cell_type": "code",
   "execution_count": null,
   "metadata": {},
   "outputs": [],
   "source": []
  },
  {
   "cell_type": "code",
   "execution_count": null,
   "metadata": {},
   "outputs": [],
   "source": []
  },
  {
   "cell_type": "code",
   "execution_count": null,
   "metadata": {},
   "outputs": [],
   "source": []
  },
  {
   "cell_type": "code",
   "execution_count": null,
   "metadata": {},
   "outputs": [],
   "source": []
  },
  {
   "cell_type": "code",
   "execution_count": null,
   "metadata": {},
   "outputs": [],
   "source": []
  },
  {
   "cell_type": "code",
   "execution_count": null,
   "metadata": {},
   "outputs": [],
   "source": []
  },
  {
   "cell_type": "markdown",
   "metadata": {},
   "source": [
    "## Modeling"
   ]
  },
  {
   "cell_type": "code",
   "execution_count": 59,
   "metadata": {},
   "outputs": [],
   "source": [
    "X = df.loc[:, ['month', 'revenue', 'handle', 'taxes']]"
   ]
  },
  {
   "cell_type": "code",
   "execution_count": 60,
   "metadata": {},
   "outputs": [
    {
     "data": {
      "text/html": [
       "<div>\n",
       "<style scoped>\n",
       "    .dataframe tbody tr th:only-of-type {\n",
       "        vertical-align: middle;\n",
       "    }\n",
       "\n",
       "    .dataframe tbody tr th {\n",
       "        vertical-align: top;\n",
       "    }\n",
       "\n",
       "    .dataframe thead th {\n",
       "        text-align: right;\n",
       "    }\n",
       "</style>\n",
       "<table border=\"1\" class=\"dataframe\">\n",
       "  <thead>\n",
       "    <tr style=\"text-align: right;\">\n",
       "      <th></th>\n",
       "      <th>month</th>\n",
       "      <th>revenue</th>\n",
       "      <th>handle</th>\n",
       "      <th>taxes</th>\n",
       "    </tr>\n",
       "  </thead>\n",
       "  <tbody>\n",
       "    <tr>\n",
       "      <th>0</th>\n",
       "      <td>1</td>\n",
       "      <td>18777582</td>\n",
       "      <td>385279662.0</td>\n",
       "      <td>2532619</td>\n",
       "    </tr>\n",
       "    <tr>\n",
       "      <th>1</th>\n",
       "      <td>2</td>\n",
       "      <td>12732740</td>\n",
       "      <td>320368087.0</td>\n",
       "      <td>1817553</td>\n",
       "    </tr>\n",
       "    <tr>\n",
       "      <th>2</th>\n",
       "      <td>3</td>\n",
       "      <td>31669387</td>\n",
       "      <td>372451342.0</td>\n",
       "      <td>4180051</td>\n",
       "    </tr>\n",
       "    <tr>\n",
       "      <th>3</th>\n",
       "      <td>4</td>\n",
       "      <td>21215747</td>\n",
       "      <td>313719562.0</td>\n",
       "      <td>2817206</td>\n",
       "    </tr>\n",
       "    <tr>\n",
       "      <th>4</th>\n",
       "      <td>5</td>\n",
       "      <td>15536384</td>\n",
       "      <td>318940677.0</td>\n",
       "      <td>2135704</td>\n",
       "    </tr>\n",
       "  </tbody>\n",
       "</table>\n",
       "</div>"
      ],
      "text/plain": [
       "   month   revenue       handle    taxes\n",
       "0      1  18777582  385279662.0  2532619\n",
       "1      2  12732740  320368087.0  1817553\n",
       "2      3  31669387  372451342.0  4180051\n",
       "3      4  21215747  313719562.0  2817206\n",
       "4      5  15536384  318940677.0  2135704"
      ]
     },
     "execution_count": 60,
     "metadata": {},
     "output_type": "execute_result"
    }
   ],
   "source": [
    "X.head()"
   ]
  },
  {
   "cell_type": "code",
   "execution_count": 58,
   "metadata": {},
   "outputs": [
    {
     "data": {
      "image/png": "[encoded data removed]",
      "text/plain": [
       "<Figure size 720x360 with 1 Axes>"
      ]
     },
     "metadata": {
      "needs_background": "light"
     },
     "output_type": "display_data"
    }
   ],
   "source": [
    "# For my reference\n",
    "\n",
    "state_revenue_plot = df.plot(kind = \"scatter\", x = \"month\", y = \"revenue\",\n",
    "             figsize=(10,5),\n",
    "             s = 12)\n",
    "\n",
    "plt.xlabel(\"month\", fontsize = 15)\n",
    "plt.ylabel(\"revenue\", fontsize = 15)\n",
    "\n",
    "state_revenue_plot.tick_params(axis = 'both',\n",
    "               which = 'minor',\n",
    "               labelsize = 14)"
   ]
  },
  {
   "cell_type": "code",
   "execution_count": 61,
   "metadata": {},
   "outputs": [],
   "source": [
    "# Initializing an instance of KMeans\n",
    "# K = 3 clusters\n",
    "\n",
    "km = KMeans(n_clusters = 3)"
   ]
  },
  {
   "cell_type": "code",
   "execution_count": 62,
   "metadata": {},
   "outputs": [
    {
     "data": {
      "text/plain": [
       "KMeans(algorithm='auto', copy_x=True, init='k-means++', max_iter=300,\n",
       "       n_clusters=3, n_init=10, n_jobs=None, precompute_distances='auto',\n",
       "       random_state=None, tol=0.0001, verbose=0)"
      ]
     },
     "execution_count": 62,
     "metadata": {},
     "output_type": "execute_result"
    }
   ],
   "source": [
    "# Fitting our sliced df\n",
    "\n",
    "km.fit(X)"
   ]
  },
  {
   "cell_type": "code",
   "execution_count": 63,
   "metadata": {},
   "outputs": [],
   "source": [
    "# Assigning clusters\n",
    "\n",
    "df[\"cluster\"] = km.labels_"
   ]
  },
  {
   "cell_type": "code",
   "execution_count": 64,
   "metadata": {},
   "outputs": [
    {
     "data": {
      "text/html": [
       "<div>\n",
       "<style scoped>\n",
       "    .dataframe tbody tr th:only-of-type {\n",
       "        vertical-align: middle;\n",
       "    }\n",
       "\n",
       "    .dataframe tbody tr th {\n",
       "        vertical-align: top;\n",
       "    }\n",
       "\n",
       "    .dataframe thead th {\n",
       "        text-align: right;\n",
       "    }\n",
       "</style>\n",
       "<table border=\"1\" class=\"dataframe\">\n",
       "  <thead>\n",
       "    <tr style=\"text-align: right;\">\n",
       "      <th></th>\n",
       "      <th>state</th>\n",
       "      <th>month</th>\n",
       "      <th>year</th>\n",
       "      <th>handle</th>\n",
       "      <th>revenue</th>\n",
       "      <th>taxes</th>\n",
       "      <th>cluster</th>\n",
       "      <th>color</th>\n",
       "    </tr>\n",
       "  </thead>\n",
       "  <tbody>\n",
       "    <tr>\n",
       "      <th>0</th>\n",
       "      <td>NJ</td>\n",
       "      <td>1</td>\n",
       "      <td>2019</td>\n",
       "      <td>385279662.0</td>\n",
       "      <td>18777582</td>\n",
       "      <td>2532619</td>\n",
       "      <td>1</td>\n",
       "      <td>black</td>\n",
       "    </tr>\n",
       "    <tr>\n",
       "      <th>1</th>\n",
       "      <td>NJ</td>\n",
       "      <td>2</td>\n",
       "      <td>2019</td>\n",
       "      <td>320368087.0</td>\n",
       "      <td>12732740</td>\n",
       "      <td>1817553</td>\n",
       "      <td>1</td>\n",
       "      <td>black</td>\n",
       "    </tr>\n",
       "    <tr>\n",
       "      <th>2</th>\n",
       "      <td>NJ</td>\n",
       "      <td>3</td>\n",
       "      <td>2019</td>\n",
       "      <td>372451342.0</td>\n",
       "      <td>31669387</td>\n",
       "      <td>4180051</td>\n",
       "      <td>1</td>\n",
       "      <td>blue</td>\n",
       "    </tr>\n",
       "    <tr>\n",
       "      <th>3</th>\n",
       "      <td>NJ</td>\n",
       "      <td>4</td>\n",
       "      <td>2019</td>\n",
       "      <td>313719562.0</td>\n",
       "      <td>21215747</td>\n",
       "      <td>2817206</td>\n",
       "      <td>1</td>\n",
       "      <td>black</td>\n",
       "    </tr>\n",
       "    <tr>\n",
       "      <th>4</th>\n",
       "      <td>NJ</td>\n",
       "      <td>5</td>\n",
       "      <td>2019</td>\n",
       "      <td>318940677.0</td>\n",
       "      <td>15536384</td>\n",
       "      <td>2135704</td>\n",
       "      <td>1</td>\n",
       "      <td>black</td>\n",
       "    </tr>\n",
       "    <tr>\n",
       "      <th>5</th>\n",
       "      <td>NJ</td>\n",
       "      <td>6</td>\n",
       "      <td>2019</td>\n",
       "      <td>273222975.0</td>\n",
       "      <td>9701925</td>\n",
       "      <td>1258541</td>\n",
       "      <td>1</td>\n",
       "      <td>black</td>\n",
       "    </tr>\n",
       "    <tr>\n",
       "      <th>6</th>\n",
       "      <td>NJ</td>\n",
       "      <td>7</td>\n",
       "      <td>2019</td>\n",
       "      <td>251371272.0</td>\n",
       "      <td>17884790</td>\n",
       "      <td>2367745</td>\n",
       "      <td>1</td>\n",
       "      <td>pink</td>\n",
       "    </tr>\n",
       "    <tr>\n",
       "      <th>7</th>\n",
       "      <td>NJ</td>\n",
       "      <td>8</td>\n",
       "      <td>2019</td>\n",
       "      <td>293594862.0</td>\n",
       "      <td>25210342</td>\n",
       "      <td>3327589</td>\n",
       "      <td>1</td>\n",
       "      <td>blue</td>\n",
       "    </tr>\n",
       "    <tr>\n",
       "      <th>8</th>\n",
       "      <td>NJ</td>\n",
       "      <td>9</td>\n",
       "      <td>2019</td>\n",
       "      <td>445563503.0</td>\n",
       "      <td>37883375</td>\n",
       "      <td>5017875</td>\n",
       "      <td>2</td>\n",
       "      <td>blue</td>\n",
       "    </tr>\n",
       "    <tr>\n",
       "      <th>9</th>\n",
       "      <td>NJ</td>\n",
       "      <td>10</td>\n",
       "      <td>2019</td>\n",
       "      <td>487924504.0</td>\n",
       "      <td>46393537</td>\n",
       "      <td>5662148</td>\n",
       "      <td>2</td>\n",
       "      <td>blue</td>\n",
       "    </tr>\n",
       "  </tbody>\n",
       "</table>\n",
       "</div>"
      ],
      "text/plain": [
       "  state  month  year       handle   revenue    taxes  cluster  color\n",
       "0    NJ      1  2019  385279662.0  18777582  2532619        1  black\n",
       "1    NJ      2  2019  320368087.0  12732740  1817553        1  black\n",
       "2    NJ      3  2019  372451342.0  31669387  4180051        1   blue\n",
       "3    NJ      4  2019  313719562.0  21215747  2817206        1  black\n",
       "4    NJ      5  2019  318940677.0  15536384  2135704        1  black\n",
       "5    NJ      6  2019  273222975.0   9701925  1258541        1  black\n",
       "6    NJ      7  2019  251371272.0  17884790  2367745        1   pink\n",
       "7    NJ      8  2019  293594862.0  25210342  3327589        1   blue\n",
       "8    NJ      9  2019  445563503.0  37883375  5017875        2   blue\n",
       "9    NJ     10  2019  487924504.0  46393537  5662148        2   blue"
      ]
     },
     "execution_count": 64,
     "metadata": {},
     "output_type": "execute_result"
    }
   ],
   "source": [
    "df.head(10)"
   ]
  },
  {
   "cell_type": "code",
   "execution_count": 66,
   "metadata": {},
   "outputs": [],
   "source": [
    "# Plotting the centroids from the model object with the scatter of \n",
    "# \"month\" and \"revenue\"\n",
    "\n",
    "centroid = pd.DataFrame(km.cluster_centers_, columns = [\"month\", \"revenue\", \"handle\", \"taxes\"])\n",
    "                                        "
   ]
  },
  {
   "cell_type": "code",
   "execution_count": 67,
   "metadata": {
    "scrolled": true
   },
   "outputs": [
    {
     "data": {
      "text/html": [
       "<div>\n",
       "<style scoped>\n",
       "    .dataframe tbody tr th:only-of-type {\n",
       "        vertical-align: middle;\n",
       "    }\n",
       "\n",
       "    .dataframe tbody tr th {\n",
       "        vertical-align: top;\n",
       "    }\n",
       "\n",
       "    .dataframe thead th {\n",
       "        text-align: right;\n",
       "    }\n",
       "</style>\n",
       "<table border=\"1\" class=\"dataframe\">\n",
       "  <thead>\n",
       "    <tr style=\"text-align: right;\">\n",
       "      <th></th>\n",
       "      <th>month</th>\n",
       "      <th>revenue</th>\n",
       "      <th>handle</th>\n",
       "      <th>taxes</th>\n",
       "    </tr>\n",
       "  </thead>\n",
       "  <tbody>\n",
       "    <tr>\n",
       "      <th>0</th>\n",
       "      <td>7.095890</td>\n",
       "      <td>2.756441e+06</td>\n",
       "      <td>2.889667e+07</td>\n",
       "      <td>5.488931e+05</td>\n",
       "    </tr>\n",
       "    <tr>\n",
       "      <th>1</th>\n",
       "      <td>6.352941</td>\n",
       "      <td>1.811690e+07</td>\n",
       "      <td>3.008626e+08</td>\n",
       "      <td>2.699417e+06</td>\n",
       "    </tr>\n",
       "    <tr>\n",
       "      <th>2</th>\n",
       "      <td>8.181818</td>\n",
       "      <td>3.607794e+07</td>\n",
       "      <td>5.347260e+08</td>\n",
       "      <td>3.277243e+06</td>\n",
       "    </tr>\n",
       "  </tbody>\n",
       "</table>\n",
       "</div>"
      ],
      "text/plain": [
       "      month       revenue        handle         taxes\n",
       "0  7.095890  2.756441e+06  2.889667e+07  5.488931e+05\n",
       "1  6.352941  1.811690e+07  3.008626e+08  2.699417e+06\n",
       "2  8.181818  3.607794e+07  5.347260e+08  3.277243e+06"
      ]
     },
     "execution_count": 67,
     "metadata": {},
     "output_type": "execute_result"
    }
   ],
   "source": [
    "centroid.head()"
   ]
  },
  {
   "cell_type": "markdown",
   "metadata": {},
   "source": [
    "Plotting methodology:\n",
    "\n",
    "1. Setting the plot figure with a fig size\n",
    "2. Assigning colors to centroids\n",
    "3. Mapping clusters\n",
    "4. Setting up the plot of clusters\n",
    "5. Adding the centroids to the plot"
   ]
  },
  {
   "cell_type": "code",
   "execution_count": 43,
   "metadata": {},
   "outputs": [
    {
     "data": {
      "text/plain": [
       "<matplotlib.axes._subplots.AxesSubplot at 0x139e0cd50>"
      ]
     },
     "execution_count": 43,
     "metadata": {},
     "output_type": "execute_result"
    },
    {
     "data": {
      "text/plain": [
       "<Figure size 720x576 with 0 Axes>"
      ]
     },
     "metadata": {},
     "output_type": "display_data"
    },
    {
     "data": {
      "image/png": "[encoded data removed]",
      "text/plain": [
       "<Figure size 864x720 with 1 Axes>"
      ]
     },
     "metadata": {
      "needs_background": "light"
     },
     "output_type": "display_data"
    }
   ],
   "source": [
    "plt.figure(figsize =(10, 8))\n",
    "colors = [\"black\", \"pink\", \"blue\"]\n",
    "df[\"color\"] = df[\"cluster\"].map(lambda p: colors[p])\n",
    "\n",
    "ax = df.plot(kind = \"scatter\", x = \"month\", y = \"revenue\",\n",
    "    figsize =(12, 10),\n",
    "    c = df[\"color\"])\n",
    "\n",
    "centroid.plot(kind = \"scatter\", x = \"month\", y = \"revenue\", \n",
    "    marker = \"*\", \n",
    "    c = [\"black\", \"pink\", \"blue\"], \n",
    "    s = 1000,\n",
    "    ax = ax)"
   ]
  },
  {
   "cell_type": "markdown",
   "metadata": {},
   "source": [
    "Scaling Methodology:\n",
    "\n",
    "1. Set up StandardScaller\n",
    "2. Set up X feature and transforming it\n",
    "3. Set up KMeans\n",
    "4. Fitting\n",
    "5. Assinging next round of clusters\n",
    "6. Creating a df for next round of centroids\n",
    "7. Plotting"
   ]
  },
  {
   "cell_type": "code",
   "execution_count": 44,
   "metadata": {},
   "outputs": [],
   "source": [
    "ss = StandardScaler()"
   ]
  },
  {
   "cell_type": "code",
   "execution_count": 45,
   "metadata": {},
   "outputs": [],
   "source": [
    "X_2 = ss.fit_transform(df.loc[:, [\"month\", \"revenue\"]])"
   ]
  },
  {
   "cell_type": "code",
   "execution_count": 47,
   "metadata": {},
   "outputs": [],
   "source": [
    "km_2 = KMeans(n_clusters = 3)"
   ]
  },
  {
   "cell_type": "code",
   "execution_count": 48,
   "metadata": {},
   "outputs": [
    {
     "data": {
      "text/plain": [
       "KMeans(algorithm='auto', copy_x=True, init='k-means++', max_iter=300,\n",
       "       n_clusters=3, n_init=10, n_jobs=None, precompute_distances='auto',\n",
       "       random_state=None, tol=0.0001, verbose=0)"
      ]
     },
     "execution_count": 48,
     "metadata": {},
     "output_type": "execute_result"
    }
   ],
   "source": [
    "km_2.fit(X_2)"
   ]
  },
  {
   "cell_type": "code",
   "execution_count": 49,
   "metadata": {},
   "outputs": [],
   "source": [
    "df['cluster'] = km_2.labels_"
   ]
  },
  {
   "cell_type": "code",
   "execution_count": 50,
   "metadata": {},
   "outputs": [
    {
     "data": {
      "text/html": [
       "<div>\n",
       "<style scoped>\n",
       "    .dataframe tbody tr th:only-of-type {\n",
       "        vertical-align: middle;\n",
       "    }\n",
       "\n",
       "    .dataframe tbody tr th {\n",
       "        vertical-align: top;\n",
       "    }\n",
       "\n",
       "    .dataframe thead th {\n",
       "        text-align: right;\n",
       "    }\n",
       "</style>\n",
       "<table border=\"1\" class=\"dataframe\">\n",
       "  <thead>\n",
       "    <tr style=\"text-align: right;\">\n",
       "      <th></th>\n",
       "      <th>state</th>\n",
       "      <th>month</th>\n",
       "      <th>year</th>\n",
       "      <th>handle</th>\n",
       "      <th>revenue</th>\n",
       "      <th>taxes</th>\n",
       "      <th>cluster</th>\n",
       "      <th>color</th>\n",
       "    </tr>\n",
       "  </thead>\n",
       "  <tbody>\n",
       "    <tr>\n",
       "      <th>0</th>\n",
       "      <td>NJ</td>\n",
       "      <td>1</td>\n",
       "      <td>2019</td>\n",
       "      <td>385279662.0</td>\n",
       "      <td>18777582</td>\n",
       "      <td>2532619</td>\n",
       "      <td>0</td>\n",
       "      <td>blue</td>\n",
       "    </tr>\n",
       "    <tr>\n",
       "      <th>1</th>\n",
       "      <td>NJ</td>\n",
       "      <td>2</td>\n",
       "      <td>2019</td>\n",
       "      <td>320368087.0</td>\n",
       "      <td>12732740</td>\n",
       "      <td>1817553</td>\n",
       "      <td>0</td>\n",
       "      <td>blue</td>\n",
       "    </tr>\n",
       "    <tr>\n",
       "      <th>2</th>\n",
       "      <td>NJ</td>\n",
       "      <td>3</td>\n",
       "      <td>2019</td>\n",
       "      <td>372451342.0</td>\n",
       "      <td>31669387</td>\n",
       "      <td>4180051</td>\n",
       "      <td>2</td>\n",
       "      <td>pink</td>\n",
       "    </tr>\n",
       "    <tr>\n",
       "      <th>3</th>\n",
       "      <td>NJ</td>\n",
       "      <td>4</td>\n",
       "      <td>2019</td>\n",
       "      <td>313719562.0</td>\n",
       "      <td>21215747</td>\n",
       "      <td>2817206</td>\n",
       "      <td>0</td>\n",
       "      <td>blue</td>\n",
       "    </tr>\n",
       "    <tr>\n",
       "      <th>4</th>\n",
       "      <td>NJ</td>\n",
       "      <td>5</td>\n",
       "      <td>2019</td>\n",
       "      <td>318940677.0</td>\n",
       "      <td>15536384</td>\n",
       "      <td>2135704</td>\n",
       "      <td>0</td>\n",
       "      <td>blue</td>\n",
       "    </tr>\n",
       "    <tr>\n",
       "      <th>5</th>\n",
       "      <td>NJ</td>\n",
       "      <td>6</td>\n",
       "      <td>2019</td>\n",
       "      <td>273222975.0</td>\n",
       "      <td>9701925</td>\n",
       "      <td>1258541</td>\n",
       "      <td>0</td>\n",
       "      <td>blue</td>\n",
       "    </tr>\n",
       "    <tr>\n",
       "      <th>6</th>\n",
       "      <td>NJ</td>\n",
       "      <td>7</td>\n",
       "      <td>2019</td>\n",
       "      <td>251371272.0</td>\n",
       "      <td>17884790</td>\n",
       "      <td>2367745</td>\n",
       "      <td>1</td>\n",
       "      <td>blue</td>\n",
       "    </tr>\n",
       "    <tr>\n",
       "      <th>7</th>\n",
       "      <td>NJ</td>\n",
       "      <td>8</td>\n",
       "      <td>2019</td>\n",
       "      <td>293594862.0</td>\n",
       "      <td>25210342</td>\n",
       "      <td>3327589</td>\n",
       "      <td>2</td>\n",
       "      <td>blue</td>\n",
       "    </tr>\n",
       "    <tr>\n",
       "      <th>8</th>\n",
       "      <td>NJ</td>\n",
       "      <td>9</td>\n",
       "      <td>2019</td>\n",
       "      <td>445563503.0</td>\n",
       "      <td>37883375</td>\n",
       "      <td>5017875</td>\n",
       "      <td>2</td>\n",
       "      <td>pink</td>\n",
       "    </tr>\n",
       "    <tr>\n",
       "      <th>9</th>\n",
       "      <td>NJ</td>\n",
       "      <td>10</td>\n",
       "      <td>2019</td>\n",
       "      <td>487924504.0</td>\n",
       "      <td>46393537</td>\n",
       "      <td>5662148</td>\n",
       "      <td>2</td>\n",
       "      <td>pink</td>\n",
       "    </tr>\n",
       "  </tbody>\n",
       "</table>\n",
       "</div>"
      ],
      "text/plain": [
       "  state  month  year       handle   revenue    taxes  cluster color\n",
       "0    NJ      1  2019  385279662.0  18777582  2532619        0  blue\n",
       "1    NJ      2  2019  320368087.0  12732740  1817553        0  blue\n",
       "2    NJ      3  2019  372451342.0  31669387  4180051        2  pink\n",
       "3    NJ      4  2019  313719562.0  21215747  2817206        0  blue\n",
       "4    NJ      5  2019  318940677.0  15536384  2135704        0  blue\n",
       "5    NJ      6  2019  273222975.0   9701925  1258541        0  blue\n",
       "6    NJ      7  2019  251371272.0  17884790  2367745        1  blue\n",
       "7    NJ      8  2019  293594862.0  25210342  3327589        2  blue\n",
       "8    NJ      9  2019  445563503.0  37883375  5017875        2  pink\n",
       "9    NJ     10  2019  487924504.0  46393537  5662148        2  pink"
      ]
     },
     "execution_count": 50,
     "metadata": {},
     "output_type": "execute_result"
    }
   ],
   "source": [
    "df.head(10)"
   ]
  },
  {
   "cell_type": "code",
   "execution_count": 51,
   "metadata": {},
   "outputs": [],
   "source": [
    "centroid = pd.DataFrame(ss.inverse_transform(km_2.cluster_centers_), \n",
    "      columns =[\"month\", \"revenue\"])"
   ]
  },
  {
   "cell_type": "code",
   "execution_count": 52,
   "metadata": {},
   "outputs": [
    {
     "data": {
      "text/html": [
       "<div>\n",
       "<style scoped>\n",
       "    .dataframe tbody tr th:only-of-type {\n",
       "        vertical-align: middle;\n",
       "    }\n",
       "\n",
       "    .dataframe tbody tr th {\n",
       "        vertical-align: top;\n",
       "    }\n",
       "\n",
       "    .dataframe thead th {\n",
       "        text-align: right;\n",
       "    }\n",
       "</style>\n",
       "<table border=\"1\" class=\"dataframe\">\n",
       "  <thead>\n",
       "    <tr style=\"text-align: right;\">\n",
       "      <th></th>\n",
       "      <th>month</th>\n",
       "      <th>revenue</th>\n",
       "    </tr>\n",
       "  </thead>\n",
       "  <tbody>\n",
       "    <tr>\n",
       "      <th>0</th>\n",
       "      <td>3.564103</td>\n",
       "      <td>4.975514e+06</td>\n",
       "    </tr>\n",
       "    <tr>\n",
       "      <th>1</th>\n",
       "      <td>9.540000</td>\n",
       "      <td>5.458175e+06</td>\n",
       "    </tr>\n",
       "    <tr>\n",
       "      <th>2</th>\n",
       "      <td>8.333333</td>\n",
       "      <td>3.659259e+07</td>\n",
       "    </tr>\n",
       "  </tbody>\n",
       "</table>\n",
       "</div>"
      ],
      "text/plain": [
       "      month       revenue\n",
       "0  3.564103  4.975514e+06\n",
       "1  9.540000  5.458175e+06\n",
       "2  8.333333  3.659259e+07"
      ]
     },
     "execution_count": 52,
     "metadata": {},
     "output_type": "execute_result"
    }
   ],
   "source": [
    "centroid.head(10) "
   ]
  },
  {
   "cell_type": "code",
   "execution_count": 54,
   "metadata": {},
   "outputs": [
    {
     "data": {
      "text/plain": [
       "<matplotlib.axes._subplots.AxesSubplot at 0x136ba2710>"
      ]
     },
     "execution_count": 54,
     "metadata": {},
     "output_type": "execute_result"
    },
    {
     "data": {
      "text/plain": [
       "<Figure size 720x432 with 0 Axes>"
      ]
     },
     "metadata": {},
     "output_type": "display_data"
    },
    {
     "data": {
      "image/png": "[encoded data removed]",
      "text/plain": [
       "<Figure size 720x432 with 1 Axes>"
      ]
     },
     "metadata": {
      "needs_background": "light"
     },
     "output_type": "display_data"
    }
   ],
   "source": [
    "plt.figure(figsize=(10,6))\n",
    "\n",
    "colors = [\"black\", \"pink\", \"blue\"]\n",
    "\n",
    "df['color'] = df['cluster'].map(lambda p: colors[p])\n",
    "\n",
    "ax = df.plot(    \n",
    "    kind = \"scatter\",  x = \"month\", y = \"revenue\", \n",
    "    figsize = (10,6),\n",
    "    c = df[\"color\"])\n",
    "\n",
    "centroid.plot(kind = \"scatter\", x =\"month\", y = \"revenue\",\n",
    "    marker = \"*\", \n",
    "    c = [\"black\", \"pink\", \"blue\"],\n",
    "    s = 1000,\n",
    "    ax = ax)"
   ]
  },
  {
   "cell_type": "code",
   "execution_count": 55,
   "metadata": {},
   "outputs": [
    {
     "data": {
      "text/plain": [
       "0.47801145951363855"
      ]
     },
     "execution_count": 55,
     "metadata": {},
     "output_type": "execute_result"
    }
   ],
   "source": [
    "silhouette_score(X_2, km_2.labels_)"
   ]
  },
  {
   "cell_type": "code",
   "execution_count": null,
   "metadata": {},
   "outputs": [],
   "source": []
  }
 ],
 "metadata": {
  "kernelspec": {
   "display_name": "Python 3",
   "language": "python",
   "name": "python3"
  },
  "language_info": {
   "codemirror_mode": {
    "name": "ipython",
    "version": 3
   },
   "file_extension": ".py",
   "mimetype": "text/x-python",
   "name": "python",
   "nbconvert_exporter": "python",
   "pygments_lexer": "ipython3",
   "version": "3.7.4"
  }
 },
 "nbformat": 4,
 "nbformat_minor": 2
}
