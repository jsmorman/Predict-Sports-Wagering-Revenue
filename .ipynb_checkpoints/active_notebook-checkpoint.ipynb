{
 "cells": [
  {
   "cell_type": "markdown",
   "metadata": {},
   "source": [
    "# Capstone Project: Predicting additional tax revenue for the state of Connecticut if sports wagering is legalized"
   ]
  },
  {
   "cell_type": "markdown",
   "metadata": {},
   "source": [
    "## Problem Statement"
   ]
  },
  {
   "cell_type": "markdown",
   "metadata": {},
   "source": [
    "The State Legislature of Connecticut is reviewing a bill to legalize sports wagering within the state. The State Legislature must carefully weigh pros and cons when deciding pass or reject the bill. If they pass the bill, the bill moves on to the Sentate for final approval. If the Senate approves, Connecticut would become the 12th state in the United States where sports wagering has been legalized.\n",
    "\n",
    "A major consideration by the State Legislature is the potential revenue gain in the State General fund. All sources of gaming share revenue with the state and make transfers into the State General fund at the end of the fiscal year. While sports wagering itsself is likely to bring in new revenue for the state, the state must consider reductions in other revenue streams that the new sports wagering revenue stream may cause. \n",
    "\n",
    "Using Sports Wagering year-end reports we have for each state where sports wagering was legal in 2019 as well as state annual reports showing other streams of revenue, we will build and leverage an unsupervised linear regression model that will help predict if legazing sports wagering will lead to an increase or decrease in total revenue for Connectiut, using the other states as prototypes. After modeling, We will exmaine the model's mean squared error, helping us determine the success of the model. Our goal is to provide the state with a model that can predict revenue as closely as possible, giving the state more confidence to make their decision more clear."
   ]
  },
  {
   "cell_type": "code",
   "execution_count": 26,
   "metadata": {},
   "outputs": [],
   "source": [
    "import numpy as np\n",
    "import pandas as pd\n",
    "import time\n",
    "import datetime as dt\n",
    "import requests\n",
    "import matplotlib.pyplot as plt\n",
    "import regex as re\n",
    "import seaborn as sns\n",
    "%matplotlib inline\n",
    "\n",
    "from sklearn.cluster import KMeans\n",
    "from sklearn.preprocessing import StandardScaler\n",
    "from sklearn.metrics import silhouette_score\n",
    "\n",
    "from sklearn.feature_extraction.text import CountVectorizer, TfidfVectorizer\n",
    "from sklearn.model_selection import train_test_split, cross_val_score, GridSearchCV\n",
    "from sklearn.naive_bayes import BernoulliNB, MultinomialNB"
   ]
  },
  {
   "cell_type": "code",
   "execution_count": 2,
   "metadata": {},
   "outputs": [],
   "source": [
    "df = pd.read_csv('./data/state_reports.csv')"
   ]
  },
  {
   "cell_type": "code",
   "execution_count": 3,
   "metadata": {},
   "outputs": [
    {
     "data": {
      "text/html": [
       "<div>\n",
       "<style scoped>\n",
       "    .dataframe tbody tr th:only-of-type {\n",
       "        vertical-align: middle;\n",
       "    }\n",
       "\n",
       "    .dataframe tbody tr th {\n",
       "        vertical-align: top;\n",
       "    }\n",
       "\n",
       "    .dataframe thead th {\n",
       "        text-align: right;\n",
       "    }\n",
       "</style>\n",
       "<table border=\"1\" class=\"dataframe\">\n",
       "  <thead>\n",
       "    <tr style=\"text-align: right;\">\n",
       "      <th></th>\n",
       "      <th>state</th>\n",
       "      <th>month</th>\n",
       "      <th>year</th>\n",
       "      <th>handle</th>\n",
       "      <th>revenue</th>\n",
       "      <th>taxes</th>\n",
       "    </tr>\n",
       "  </thead>\n",
       "  <tbody>\n",
       "    <tr>\n",
       "      <th>0</th>\n",
       "      <td>NJ</td>\n",
       "      <td>1</td>\n",
       "      <td>2019</td>\n",
       "      <td>385279662.0</td>\n",
       "      <td>18777582</td>\n",
       "      <td>2532619</td>\n",
       "    </tr>\n",
       "    <tr>\n",
       "      <th>1</th>\n",
       "      <td>NJ</td>\n",
       "      <td>2</td>\n",
       "      <td>2019</td>\n",
       "      <td>320368087.0</td>\n",
       "      <td>12732740</td>\n",
       "      <td>1817553</td>\n",
       "    </tr>\n",
       "    <tr>\n",
       "      <th>2</th>\n",
       "      <td>NJ</td>\n",
       "      <td>3</td>\n",
       "      <td>2019</td>\n",
       "      <td>372451342.0</td>\n",
       "      <td>31669387</td>\n",
       "      <td>4180051</td>\n",
       "    </tr>\n",
       "    <tr>\n",
       "      <th>3</th>\n",
       "      <td>NJ</td>\n",
       "      <td>4</td>\n",
       "      <td>2019</td>\n",
       "      <td>313719562.0</td>\n",
       "      <td>21215747</td>\n",
       "      <td>2817206</td>\n",
       "    </tr>\n",
       "    <tr>\n",
       "      <th>4</th>\n",
       "      <td>NJ</td>\n",
       "      <td>5</td>\n",
       "      <td>2019</td>\n",
       "      <td>318940677.0</td>\n",
       "      <td>15536384</td>\n",
       "      <td>2135704</td>\n",
       "    </tr>\n",
       "    <tr>\n",
       "      <th>...</th>\n",
       "      <td>...</td>\n",
       "      <td>...</td>\n",
       "      <td>...</td>\n",
       "      <td>...</td>\n",
       "      <td>...</td>\n",
       "      <td>...</td>\n",
       "    </tr>\n",
       "    <tr>\n",
       "      <th>96</th>\n",
       "      <td>IN</td>\n",
       "      <td>11</td>\n",
       "      <td>2019</td>\n",
       "      <td>147276912.0</td>\n",
       "      <td>10593321</td>\n",
       "      <td>1006365</td>\n",
       "    </tr>\n",
       "    <tr>\n",
       "      <th>97</th>\n",
       "      <td>IN</td>\n",
       "      <td>12</td>\n",
       "      <td>2019</td>\n",
       "      <td>161808924.0</td>\n",
       "      <td>12068114</td>\n",
       "      <td>1146471</td>\n",
       "    </tr>\n",
       "    <tr>\n",
       "      <th>98</th>\n",
       "      <td>OR</td>\n",
       "      <td>10</td>\n",
       "      <td>2019</td>\n",
       "      <td>5603136.0</td>\n",
       "      <td>218107</td>\n",
       "      <td>196296</td>\n",
       "    </tr>\n",
       "    <tr>\n",
       "      <th>99</th>\n",
       "      <td>OR</td>\n",
       "      <td>11</td>\n",
       "      <td>2019</td>\n",
       "      <td>17089383.0</td>\n",
       "      <td>943687</td>\n",
       "      <td>849318</td>\n",
       "    </tr>\n",
       "    <tr>\n",
       "      <th>100</th>\n",
       "      <td>OR</td>\n",
       "      <td>12</td>\n",
       "      <td>2019</td>\n",
       "      <td>22375049.0</td>\n",
       "      <td>1632412</td>\n",
       "      <td>1469171</td>\n",
       "    </tr>\n",
       "  </tbody>\n",
       "</table>\n",
       "<p>101 rows × 6 columns</p>\n",
       "</div>"
      ],
      "text/plain": [
       "    state  month  year       handle   revenue    taxes\n",
       "0      NJ      1  2019  385279662.0  18777582  2532619\n",
       "1      NJ      2  2019  320368087.0  12732740  1817553\n",
       "2      NJ      3  2019  372451342.0  31669387  4180051\n",
       "3      NJ      4  2019  313719562.0  21215747  2817206\n",
       "4      NJ      5  2019  318940677.0  15536384  2135704\n",
       "..    ...    ...   ...          ...       ...      ...\n",
       "96     IN     11  2019  147276912.0  10593321  1006365\n",
       "97     IN     12  2019  161808924.0  12068114  1146471\n",
       "98     OR     10  2019    5603136.0    218107   196296\n",
       "99     OR     11  2019   17089383.0    943687   849318\n",
       "100    OR     12  2019   22375049.0   1632412  1469171\n",
       "\n",
       "[101 rows x 6 columns]"
      ]
     },
     "execution_count": 3,
     "metadata": {},
     "output_type": "execute_result"
    }
   ],
   "source": [
    "df"
   ]
  },
  {
   "cell_type": "markdown",
   "metadata": {},
   "source": [
    "## Cleaning / EDA"
   ]
  },
  {
   "cell_type": "code",
   "execution_count": 4,
   "metadata": {},
   "outputs": [
    {
     "data": {
      "text/plain": [
       "<bound method DataFrame.info of     state  month  year       handle   revenue    taxes\n",
       "0      NJ      1  2019  385279662.0  18777582  2532619\n",
       "1      NJ      2  2019  320368087.0  12732740  1817553\n",
       "2      NJ      3  2019  372451342.0  31669387  4180051\n",
       "3      NJ      4  2019  313719562.0  21215747  2817206\n",
       "4      NJ      5  2019  318940677.0  15536384  2135704\n",
       "..    ...    ...   ...          ...       ...      ...\n",
       "96     IN     11  2019  147276912.0  10593321  1006365\n",
       "97     IN     12  2019  161808924.0  12068114  1146471\n",
       "98     OR     10  2019    5603136.0    218107   196296\n",
       "99     OR     11  2019   17089383.0    943687   849318\n",
       "100    OR     12  2019   22375049.0   1632412  1469171\n",
       "\n",
       "[101 rows x 6 columns]>"
      ]
     },
     "execution_count": 4,
     "metadata": {},
     "output_type": "execute_result"
    }
   ],
   "source": [
    "df.info"
   ]
  },
  {
   "cell_type": "code",
   "execution_count": 5,
   "metadata": {},
   "outputs": [
    {
     "data": {
      "text/plain": [
       "Index(['state', 'month', 'year', 'handle', 'revenue', 'taxes'], dtype='object')"
      ]
     },
     "execution_count": 5,
     "metadata": {},
     "output_type": "execute_result"
    }
   ],
   "source": [
    "df.columns"
   ]
  },
  {
   "cell_type": "code",
   "execution_count": 6,
   "metadata": {},
   "outputs": [
    {
     "data": {
      "text/plain": [
       "(101, 6)"
      ]
     },
     "execution_count": 6,
     "metadata": {},
     "output_type": "execute_result"
    }
   ],
   "source": [
    "df.shape"
   ]
  },
  {
   "cell_type": "code",
   "execution_count": 7,
   "metadata": {
    "scrolled": true
   },
   "outputs": [
    {
     "data": {
      "text/plain": [
       "<bound method DataFrame.count of     state  month  year       handle   revenue    taxes\n",
       "0      NJ      1  2019  385279662.0  18777582  2532619\n",
       "1      NJ      2  2019  320368087.0  12732740  1817553\n",
       "2      NJ      3  2019  372451342.0  31669387  4180051\n",
       "3      NJ      4  2019  313719562.0  21215747  2817206\n",
       "4      NJ      5  2019  318940677.0  15536384  2135704\n",
       "..    ...    ...   ...          ...       ...      ...\n",
       "96     IN     11  2019  147276912.0  10593321  1006365\n",
       "97     IN     12  2019  161808924.0  12068114  1146471\n",
       "98     OR     10  2019    5603136.0    218107   196296\n",
       "99     OR     11  2019   17089383.0    943687   849318\n",
       "100    OR     12  2019   22375049.0   1632412  1469171\n",
       "\n",
       "[101 rows x 6 columns]>"
      ]
     },
     "execution_count": 7,
     "metadata": {},
     "output_type": "execute_result"
    }
   ],
   "source": [
    "df.count"
   ]
  },
  {
   "cell_type": "code",
   "execution_count": 10,
   "metadata": {
    "scrolled": true
   },
   "outputs": [
    {
     "data": {
      "text/plain": [
       "<bound method NDFrame.describe of     state  month  year       handle   revenue    taxes\n",
       "0      NJ      1  2019  385279662.0  18777582  2532619\n",
       "1      NJ      2  2019  320368087.0  12732740  1817553\n",
       "2      NJ      3  2019  372451342.0  31669387  4180051\n",
       "3      NJ      4  2019  313719562.0  21215747  2817206\n",
       "4      NJ      5  2019  318940677.0  15536384  2135704\n",
       "..    ...    ...   ...          ...       ...      ...\n",
       "96     IN     11  2019  147276912.0  10593321  1006365\n",
       "97     IN     12  2019  161808924.0  12068114  1146471\n",
       "98     OR     10  2019    5603136.0    218107   196296\n",
       "99     OR     11  2019   17089383.0    943687   849318\n",
       "100    OR     12  2019   22375049.0   1632412  1469171\n",
       "\n",
       "[101 rows x 6 columns]>"
      ]
     },
     "execution_count": 10,
     "metadata": {},
     "output_type": "execute_result"
    }
   ],
   "source": [
    "df.describe"
   ]
  },
  {
   "cell_type": "code",
   "execution_count": 11,
   "metadata": {},
   "outputs": [
    {
     "data": {
      "text/plain": [
       "Index(['state', 'month', 'year', 'handle', 'revenue', 'taxes'], dtype='object')"
      ]
     },
     "execution_count": 11,
     "metadata": {},
     "output_type": "execute_result"
    }
   ],
   "source": [
    "df.columns"
   ]
  },
  {
   "cell_type": "code",
   "execution_count": 12,
   "metadata": {},
   "outputs": [
    {
     "data": {
      "text/plain": [
       "state       object\n",
       "month        int64\n",
       "year         int64\n",
       "handle     float64\n",
       "revenue      int64\n",
       "taxes        int64\n",
       "dtype: object"
      ]
     },
     "execution_count": 12,
     "metadata": {},
     "output_type": "execute_result"
    }
   ],
   "source": [
    "df.dtypes"
   ]
  },
  {
   "cell_type": "code",
   "execution_count": 13,
   "metadata": {},
   "outputs": [
    {
     "data": {
      "text/plain": [
       "handle     6\n",
       "taxes      0\n",
       "revenue    0\n",
       "year       0\n",
       "month      0\n",
       "state      0\n",
       "dtype: int64"
      ]
     },
     "execution_count": 13,
     "metadata": {},
     "output_type": "execute_result"
    }
   ],
   "source": [
    "df.isnull().sum().sort_values(ascending = False)"
   ]
  },
  {
   "cell_type": "code",
   "execution_count": 14,
   "metadata": {
    "scrolled": false
   },
   "outputs": [
    {
     "data": {
      "text/html": [
       "<div>\n",
       "<style scoped>\n",
       "    .dataframe tbody tr th:only-of-type {\n",
       "        vertical-align: middle;\n",
       "    }\n",
       "\n",
       "    .dataframe tbody tr th {\n",
       "        vertical-align: top;\n",
       "    }\n",
       "\n",
       "    .dataframe thead th {\n",
       "        text-align: right;\n",
       "    }\n",
       "</style>\n",
       "<table border=\"1\" class=\"dataframe\">\n",
       "  <thead>\n",
       "    <tr style=\"text-align: right;\">\n",
       "      <th></th>\n",
       "      <th>state</th>\n",
       "      <th>month</th>\n",
       "      <th>year</th>\n",
       "      <th>handle</th>\n",
       "      <th>revenue</th>\n",
       "      <th>taxes</th>\n",
       "    </tr>\n",
       "  </thead>\n",
       "  <tbody>\n",
       "    <tr>\n",
       "      <th>83</th>\n",
       "      <td>NY</td>\n",
       "      <td>7</td>\n",
       "      <td>2019</td>\n",
       "      <td>NaN</td>\n",
       "      <td>349468</td>\n",
       "      <td>34947</td>\n",
       "    </tr>\n",
       "    <tr>\n",
       "      <th>84</th>\n",
       "      <td>NY</td>\n",
       "      <td>8</td>\n",
       "      <td>2019</td>\n",
       "      <td>NaN</td>\n",
       "      <td>828152</td>\n",
       "      <td>82815</td>\n",
       "    </tr>\n",
       "    <tr>\n",
       "      <th>85</th>\n",
       "      <td>NY</td>\n",
       "      <td>9</td>\n",
       "      <td>2019</td>\n",
       "      <td>NaN</td>\n",
       "      <td>2283865</td>\n",
       "      <td>228387</td>\n",
       "    </tr>\n",
       "    <tr>\n",
       "      <th>86</th>\n",
       "      <td>NY</td>\n",
       "      <td>10</td>\n",
       "      <td>2019</td>\n",
       "      <td>NaN</td>\n",
       "      <td>2233227</td>\n",
       "      <td>223323</td>\n",
       "    </tr>\n",
       "    <tr>\n",
       "      <th>87</th>\n",
       "      <td>NY</td>\n",
       "      <td>11</td>\n",
       "      <td>2019</td>\n",
       "      <td>NaN</td>\n",
       "      <td>1308296</td>\n",
       "      <td>130830</td>\n",
       "    </tr>\n",
       "    <tr>\n",
       "      <th>88</th>\n",
       "      <td>NY</td>\n",
       "      <td>12</td>\n",
       "      <td>2019</td>\n",
       "      <td>NaN</td>\n",
       "      <td>780418</td>\n",
       "      <td>78042</td>\n",
       "    </tr>\n",
       "  </tbody>\n",
       "</table>\n",
       "</div>"
      ],
      "text/plain": [
       "   state  month  year  handle  revenue   taxes\n",
       "83    NY      7  2019     NaN   349468   34947\n",
       "84    NY      8  2019     NaN   828152   82815\n",
       "85    NY      9  2019     NaN  2283865  228387\n",
       "86    NY     10  2019     NaN  2233227  223323\n",
       "87    NY     11  2019     NaN  1308296  130830\n",
       "88    NY     12  2019     NaN   780418   78042"
      ]
     },
     "execution_count": 14,
     "metadata": {},
     "output_type": "execute_result"
    }
   ],
   "source": [
    "df[df.isna().any(axis=1)]\n"
   ]
  },
  {
   "cell_type": "code",
   "execution_count": 15,
   "metadata": {},
   "outputs": [],
   "source": [
    "df.loc[83, 'handle'] = 5098389\n",
    "df.loc[84, 'handle'] = 12081910\n",
    "df.loc[85, 'handle'] = 33319306\n",
    "df.loc[86, 'handle'] = 32580549\n",
    "df.loc[87, 'handle'] = 12086730\n",
    "df.loc[88, 'handle'] = 11385518"
   ]
  },
  {
   "cell_type": "code",
   "execution_count": 16,
   "metadata": {
    "scrolled": false
   },
   "outputs": [
    {
     "data": {
      "text/plain": [
       "taxes      0\n",
       "revenue    0\n",
       "handle     0\n",
       "year       0\n",
       "month      0\n",
       "state      0\n",
       "dtype: int64"
      ]
     },
     "execution_count": 16,
     "metadata": {},
     "output_type": "execute_result"
    }
   ],
   "source": [
    "df.isnull().sum().sort_values(ascending = False)"
   ]
  },
  {
   "cell_type": "markdown",
   "metadata": {},
   "source": [
    "### Visualizing"
   ]
  },
  {
   "cell_type": "code",
   "execution_count": 17,
   "metadata": {},
   "outputs": [
    {
     "data": {
      "image/png": "[encoded data removed]",
      "text/plain": [
       "<Figure size 432x288 with 1 Axes>"
      ]
     },
     "metadata": {
      "needs_background": "light"
     },
     "output_type": "display_data"
    }
   ],
   "source": [
    "plt.scatter(df[\"state\"], df[\"revenue\"])\n",
    "plt.xlabel(\"state\", fontsize = 20)\n",
    "plt.ylabel(\"revenue in hundreds of millions\", fontsize = 20);"
   ]
  },
  {
   "cell_type": "code",
   "execution_count": 18,
   "metadata": {},
   "outputs": [
    {
     "data": {
      "image/png": "[encoded data removed]",
      "text/plain": [
       "<Figure size 576x360 with 1 Axes>"
      ]
     },
     "metadata": {
      "needs_background": "light"
     },
     "output_type": "display_data"
    }
   ],
   "source": [
    "df.groupby(\"state\")[[\"revenue\"]].mean().plot(kind = \"barh\", color=\"darkcyan\", figsize=(8,5))\n",
    "plt.ylabel(\"state\", fontsize=18)\n",
    "plt.xlabel(\"revenue\", fontsize=18)\n",
    "plt.title(\"revenue distribution\", fontsize=20);"
   ]
  },
  {
   "cell_type": "code",
   "execution_count": 19,
   "metadata": {},
   "outputs": [
    {
     "data": {
      "image/png": "[encoded data removed]",
      "text/plain": [
       "<Figure size 432x288 with 1 Axes>"
      ]
     },
     "metadata": {
      "needs_background": "light"
     },
     "output_type": "display_data"
    }
   ],
   "source": [
    "plt.scatter(df['revenue'], df['state']);"
   ]
  },
  {
   "cell_type": "code",
   "execution_count": 20,
   "metadata": {},
   "outputs": [
    {
     "data": {
      "image/png": "[encoded data removed]",
      "text/plain": [
       "<Figure size 432x288 with 1 Axes>"
      ]
     },
     "metadata": {
      "needs_background": "light"
     },
     "output_type": "display_data"
    }
   ],
   "source": [
    "plt.scatter(df['revenue'], df['month']);"
   ]
  },
  {
   "cell_type": "code",
   "execution_count": 25,
   "metadata": {},
   "outputs": [
    {
     "data": {
      "image/png": "[encoded data removed]",
      "text/plain": [
       "<Figure size 576x360 with 1 Axes>"
      ]
     },
     "metadata": {
      "needs_background": "light"
     },
     "output_type": "display_data"
    }
   ],
   "source": [
    "df.groupby(\"month\")[[\"revenue\"]].mean().plot(kind = \"barh\", color=\"darkcyan\", figsize=(8,5))\n",
    "plt.ylabel(\"month\", fontsize=18)\n",
    "plt.xlabel(\"revenue\", fontsize=18)\n",
    "plt.title(\"revenue by month\", fontsize=20);"
   ]
  },
  {
   "cell_type": "markdown",
   "metadata": {},
   "source": [
    "## Preprocessing"
   ]
  },
  {
   "cell_type": "code",
   "execution_count": 30,
   "metadata": {},
   "outputs": [],
   "source": [
    "X = df.loc[:, ['month', 'revenue']]\n"
   ]
  },
  {
   "cell_type": "code",
   "execution_count": 31,
   "metadata": {},
   "outputs": [
    {
     "data": {
      "text/html": [
       "<div>\n",
       "<style scoped>\n",
       "    .dataframe tbody tr th:only-of-type {\n",
       "        vertical-align: middle;\n",
       "    }\n",
       "\n",
       "    .dataframe tbody tr th {\n",
       "        vertical-align: top;\n",
       "    }\n",
       "\n",
       "    .dataframe thead th {\n",
       "        text-align: right;\n",
       "    }\n",
       "</style>\n",
       "<table border=\"1\" class=\"dataframe\">\n",
       "  <thead>\n",
       "    <tr style=\"text-align: right;\">\n",
       "      <th></th>\n",
       "      <th>month</th>\n",
       "      <th>revenue</th>\n",
       "    </tr>\n",
       "  </thead>\n",
       "  <tbody>\n",
       "    <tr>\n",
       "      <th>0</th>\n",
       "      <td>1</td>\n",
       "      <td>18777582</td>\n",
       "    </tr>\n",
       "    <tr>\n",
       "      <th>1</th>\n",
       "      <td>2</td>\n",
       "      <td>12732740</td>\n",
       "    </tr>\n",
       "    <tr>\n",
       "      <th>2</th>\n",
       "      <td>3</td>\n",
       "      <td>31669387</td>\n",
       "    </tr>\n",
       "    <tr>\n",
       "      <th>3</th>\n",
       "      <td>4</td>\n",
       "      <td>21215747</td>\n",
       "    </tr>\n",
       "    <tr>\n",
       "      <th>4</th>\n",
       "      <td>5</td>\n",
       "      <td>15536384</td>\n",
       "    </tr>\n",
       "    <tr>\n",
       "      <th>...</th>\n",
       "      <td>...</td>\n",
       "      <td>...</td>\n",
       "    </tr>\n",
       "    <tr>\n",
       "      <th>96</th>\n",
       "      <td>11</td>\n",
       "      <td>10593321</td>\n",
       "    </tr>\n",
       "    <tr>\n",
       "      <th>97</th>\n",
       "      <td>12</td>\n",
       "      <td>12068114</td>\n",
       "    </tr>\n",
       "    <tr>\n",
       "      <th>98</th>\n",
       "      <td>10</td>\n",
       "      <td>218107</td>\n",
       "    </tr>\n",
       "    <tr>\n",
       "      <th>99</th>\n",
       "      <td>11</td>\n",
       "      <td>943687</td>\n",
       "    </tr>\n",
       "    <tr>\n",
       "      <th>100</th>\n",
       "      <td>12</td>\n",
       "      <td>1632412</td>\n",
       "    </tr>\n",
       "  </tbody>\n",
       "</table>\n",
       "<p>101 rows × 2 columns</p>\n",
       "</div>"
      ],
      "text/plain": [
       "     month   revenue\n",
       "0        1  18777582\n",
       "1        2  12732740\n",
       "2        3  31669387\n",
       "3        4  21215747\n",
       "4        5  15536384\n",
       "..     ...       ...\n",
       "96      11  10593321\n",
       "97      12  12068114\n",
       "98      10    218107\n",
       "99      11    943687\n",
       "100     12   1632412\n",
       "\n",
       "[101 rows x 2 columns]"
      ]
     },
     "execution_count": 31,
     "metadata": {},
     "output_type": "execute_result"
    }
   ],
   "source": [
    "X"
   ]
  },
  {
   "cell_type": "code",
   "execution_count": 32,
   "metadata": {},
   "outputs": [
    {
     "data": {
      "image/png": "[encoded data removed]",
      "text/plain": [
       "<Figure size 720x360 with 1 Axes>"
      ]
     },
     "metadata": {
      "needs_background": "light"
     },
     "output_type": "display_data"
    }
   ],
   "source": [
    "pu_plot = df.plot(kind = \"scatter\", x = \"month\", y = \"revenue\",\n",
    "             figsize=(10,5),\n",
    "             s = 12)\n",
    "\n",
    "plt.xlabel(\"month\", fontsize = 15)\n",
    "plt.ylabel(\"revenue\", fontsize = 15)\n",
    "\n",
    "pu_plot.tick_params(axis = 'both',\n",
    "               which = 'minor',\n",
    "               labelsize = 14)"
   ]
  },
  {
   "cell_type": "code",
   "execution_count": 34,
   "metadata": {},
   "outputs": [],
   "source": [
    "# Initializing an instance of KMeans\n",
    "# K = 3 clusters\n",
    "\n",
    "km = KMeans(n_clusters = 3)"
   ]
  },
  {
   "cell_type": "code",
   "execution_count": 35,
   "metadata": {},
   "outputs": [
    {
     "data": {
      "text/plain": [
       "KMeans(algorithm='auto', copy_x=True, init='k-means++', max_iter=300,\n",
       "       n_clusters=3, n_init=10, n_jobs=None, precompute_distances='auto',\n",
       "       random_state=None, tol=0.0001, verbose=0)"
      ]
     },
     "execution_count": 35,
     "metadata": {},
     "output_type": "execute_result"
    }
   ],
   "source": [
    "# Fitting our sliced df\n",
    "\n",
    "km.fit(X)"
   ]
  },
  {
   "cell_type": "code",
   "execution_count": 36,
   "metadata": {},
   "outputs": [],
   "source": [
    "# Assigning clusters\n",
    "\n",
    "df[\"cluster\"] = km.labels_"
   ]
  },
  {
   "cell_type": "code",
   "execution_count": 37,
   "metadata": {},
   "outputs": [
    {
     "data": {
      "text/html": [
       "<div>\n",
       "<style scoped>\n",
       "    .dataframe tbody tr th:only-of-type {\n",
       "        vertical-align: middle;\n",
       "    }\n",
       "\n",
       "    .dataframe tbody tr th {\n",
       "        vertical-align: top;\n",
       "    }\n",
       "\n",
       "    .dataframe thead th {\n",
       "        text-align: right;\n",
       "    }\n",
       "</style>\n",
       "<table border=\"1\" class=\"dataframe\">\n",
       "  <thead>\n",
       "    <tr style=\"text-align: right;\">\n",
       "      <th></th>\n",
       "      <th>state</th>\n",
       "      <th>month</th>\n",
       "      <th>year</th>\n",
       "      <th>handle</th>\n",
       "      <th>revenue</th>\n",
       "      <th>taxes</th>\n",
       "      <th>cluster</th>\n",
       "    </tr>\n",
       "  </thead>\n",
       "  <tbody>\n",
       "    <tr>\n",
       "      <th>0</th>\n",
       "      <td>NJ</td>\n",
       "      <td>1</td>\n",
       "      <td>2019</td>\n",
       "      <td>385279662.0</td>\n",
       "      <td>18777582</td>\n",
       "      <td>2532619</td>\n",
       "      <td>2</td>\n",
       "    </tr>\n",
       "    <tr>\n",
       "      <th>1</th>\n",
       "      <td>NJ</td>\n",
       "      <td>2</td>\n",
       "      <td>2019</td>\n",
       "      <td>320368087.0</td>\n",
       "      <td>12732740</td>\n",
       "      <td>1817553</td>\n",
       "      <td>2</td>\n",
       "    </tr>\n",
       "    <tr>\n",
       "      <th>2</th>\n",
       "      <td>NJ</td>\n",
       "      <td>3</td>\n",
       "      <td>2019</td>\n",
       "      <td>372451342.0</td>\n",
       "      <td>31669387</td>\n",
       "      <td>4180051</td>\n",
       "      <td>1</td>\n",
       "    </tr>\n",
       "    <tr>\n",
       "      <th>3</th>\n",
       "      <td>NJ</td>\n",
       "      <td>4</td>\n",
       "      <td>2019</td>\n",
       "      <td>313719562.0</td>\n",
       "      <td>21215747</td>\n",
       "      <td>2817206</td>\n",
       "      <td>2</td>\n",
       "    </tr>\n",
       "    <tr>\n",
       "      <th>4</th>\n",
       "      <td>NJ</td>\n",
       "      <td>5</td>\n",
       "      <td>2019</td>\n",
       "      <td>318940677.0</td>\n",
       "      <td>15536384</td>\n",
       "      <td>2135704</td>\n",
       "      <td>2</td>\n",
       "    </tr>\n",
       "    <tr>\n",
       "      <th>5</th>\n",
       "      <td>NJ</td>\n",
       "      <td>6</td>\n",
       "      <td>2019</td>\n",
       "      <td>273222975.0</td>\n",
       "      <td>9701925</td>\n",
       "      <td>1258541</td>\n",
       "      <td>2</td>\n",
       "    </tr>\n",
       "    <tr>\n",
       "      <th>6</th>\n",
       "      <td>NJ</td>\n",
       "      <td>7</td>\n",
       "      <td>2019</td>\n",
       "      <td>251371272.0</td>\n",
       "      <td>17884790</td>\n",
       "      <td>2367745</td>\n",
       "      <td>2</td>\n",
       "    </tr>\n",
       "    <tr>\n",
       "      <th>7</th>\n",
       "      <td>NJ</td>\n",
       "      <td>8</td>\n",
       "      <td>2019</td>\n",
       "      <td>293594862.0</td>\n",
       "      <td>25210342</td>\n",
       "      <td>3327589</td>\n",
       "      <td>2</td>\n",
       "    </tr>\n",
       "    <tr>\n",
       "      <th>8</th>\n",
       "      <td>NJ</td>\n",
       "      <td>9</td>\n",
       "      <td>2019</td>\n",
       "      <td>445563503.0</td>\n",
       "      <td>37883375</td>\n",
       "      <td>5017875</td>\n",
       "      <td>1</td>\n",
       "    </tr>\n",
       "    <tr>\n",
       "      <th>9</th>\n",
       "      <td>NJ</td>\n",
       "      <td>10</td>\n",
       "      <td>2019</td>\n",
       "      <td>487924504.0</td>\n",
       "      <td>46393537</td>\n",
       "      <td>5662148</td>\n",
       "      <td>1</td>\n",
       "    </tr>\n",
       "  </tbody>\n",
       "</table>\n",
       "</div>"
      ],
      "text/plain": [
       "  state  month  year       handle   revenue    taxes  cluster\n",
       "0    NJ      1  2019  385279662.0  18777582  2532619        2\n",
       "1    NJ      2  2019  320368087.0  12732740  1817553        2\n",
       "2    NJ      3  2019  372451342.0  31669387  4180051        1\n",
       "3    NJ      4  2019  313719562.0  21215747  2817206        2\n",
       "4    NJ      5  2019  318940677.0  15536384  2135704        2\n",
       "5    NJ      6  2019  273222975.0   9701925  1258541        2\n",
       "6    NJ      7  2019  251371272.0  17884790  2367745        2\n",
       "7    NJ      8  2019  293594862.0  25210342  3327589        2\n",
       "8    NJ      9  2019  445563503.0  37883375  5017875        1\n",
       "9    NJ     10  2019  487924504.0  46393537  5662148        1"
      ]
     },
     "execution_count": 37,
     "metadata": {},
     "output_type": "execute_result"
    }
   ],
   "source": [
    "df.head(10)"
   ]
  },
  {
   "cell_type": "code",
   "execution_count": 40,
   "metadata": {},
   "outputs": [],
   "source": [
    "# Plotting the centroids from the model object with the scatter of \n",
    "# \"month\" and \"revenue\"\n",
    "\n",
    "centroid = pd.DataFrame(km.cluster_centers_, columns = [\"month\", \"revenue\"])\n",
    "                                        "
   ]
  },
  {
   "cell_type": "code",
   "execution_count": 41,
   "metadata": {
    "scrolled": true
   },
   "outputs": [
    {
     "data": {
      "text/html": [
       "<div>\n",
       "<style scoped>\n",
       "    .dataframe tbody tr th:only-of-type {\n",
       "        vertical-align: middle;\n",
       "    }\n",
       "\n",
       "    .dataframe tbody tr th {\n",
       "        vertical-align: top;\n",
       "    }\n",
       "\n",
       "    .dataframe thead th {\n",
       "        text-align: right;\n",
       "    }\n",
       "</style>\n",
       "<table border=\"1\" class=\"dataframe\">\n",
       "  <thead>\n",
       "    <tr style=\"text-align: right;\">\n",
       "      <th></th>\n",
       "      <th>month</th>\n",
       "      <th>revenue</th>\n",
       "    </tr>\n",
       "  </thead>\n",
       "  <tbody>\n",
       "    <tr>\n",
       "      <th>0</th>\n",
       "      <td>6.867647</td>\n",
       "      <td>2.129957e+06</td>\n",
       "    </tr>\n",
       "    <tr>\n",
       "      <th>1</th>\n",
       "      <td>8.363636</td>\n",
       "      <td>3.762734e+07</td>\n",
       "    </tr>\n",
       "    <tr>\n",
       "      <th>2</th>\n",
       "      <td>7.136364</td>\n",
       "      <td>1.578759e+07</td>\n",
       "    </tr>\n",
       "  </tbody>\n",
       "</table>\n",
       "</div>"
      ],
      "text/plain": [
       "      month       revenue\n",
       "0  6.867647  2.129957e+06\n",
       "1  8.363636  3.762734e+07\n",
       "2  7.136364  1.578759e+07"
      ]
     },
     "execution_count": 41,
     "metadata": {},
     "output_type": "execute_result"
    }
   ],
   "source": [
    "centroid.head()"
   ]
  },
  {
   "cell_type": "markdown",
   "metadata": {},
   "source": [
    "Plotting methodology:\n",
    "\n",
    "1. Setting the plot figure with a fig size\n",
    "2. Assigning colors to centroids\n",
    "3. Mapping clusters\n",
    "4. Setting up the plot of clusters\n",
    "5. Adding the centroids to the plot"
   ]
  },
  {
   "cell_type": "code",
   "execution_count": 43,
   "metadata": {},
   "outputs": [
    {
     "data": {
      "text/plain": [
       "<matplotlib.axes._subplots.AxesSubplot at 0x139e0cd50>"
      ]
     },
     "execution_count": 43,
     "metadata": {},
     "output_type": "execute_result"
    },
    {
     "data": {
      "text/plain": [
       "<Figure size 720x576 with 0 Axes>"
      ]
     },
     "metadata": {},
     "output_type": "display_data"
    },
    {
     "data": {
      "image/png": "[encoded data removed]",
      "text/plain": [
       "<Figure size 864x720 with 1 Axes>"
      ]
     },
     "metadata": {
      "needs_background": "light"
     },
     "output_type": "display_data"
    }
   ],
   "source": [
    "plt.figure(figsize =(10, 8))\n",
    "colors = [\"black\", \"pink\", \"blue\"]\n",
    "df[\"color\"] = df[\"cluster\"].map(lambda p: colors[p])\n",
    "\n",
    "ax = df.plot(kind = \"scatter\", x = \"month\", y = \"revenue\",\n",
    "    figsize =(12, 10),\n",
    "    c = df[\"color\"])\n",
    "\n",
    "centroid.plot(kind = \"scatter\", x = \"month\", y = \"revenue\", \n",
    "    marker = \"*\", \n",
    "    c = [\"black\", \"pink\", \"blue\"], \n",
    "    s = 1000,\n",
    "    ax = ax)"
   ]
  },
  {
   "cell_type": "markdown",
   "metadata": {},
   "source": [
    "Scaling Methodology:\n",
    "\n",
    "1. Set up StandardScaller\n",
    "2. Set up X feature and transforming it\n",
    "3. Set up KMeans\n",
    "4. Fitting\n",
    "5. Assinging next round of clusters\n",
    "6. Creating a df for next round of centroids\n",
    "7. Plotting"
   ]
  },
  {
   "cell_type": "code",
   "execution_count": 44,
   "metadata": {},
   "outputs": [],
   "source": [
    "ss = StandardScaler()"
   ]
  },
  {
   "cell_type": "code",
   "execution_count": 45,
   "metadata": {},
   "outputs": [],
   "source": [
    "X_2 = ss.fit_transform(df.loc[:, [\"month\", \"revenue\"]])"
   ]
  },
  {
   "cell_type": "code",
   "execution_count": 47,
   "metadata": {},
   "outputs": [],
   "source": [
    "km_2 = KMeans(n_clusters = 3)"
   ]
  },
  {
   "cell_type": "code",
   "execution_count": 48,
   "metadata": {},
   "outputs": [
    {
     "data": {
      "text/plain": [
       "KMeans(algorithm='auto', copy_x=True, init='k-means++', max_iter=300,\n",
       "       n_clusters=3, n_init=10, n_jobs=None, precompute_distances='auto',\n",
       "       random_state=None, tol=0.0001, verbose=0)"
      ]
     },
     "execution_count": 48,
     "metadata": {},
     "output_type": "execute_result"
    }
   ],
   "source": [
    "km_2.fit(X_2)"
   ]
  },
  {
   "cell_type": "code",
   "execution_count": 49,
   "metadata": {},
   "outputs": [],
   "source": [
    "df['cluster'] = km_2.labels_"
   ]
  },
  {
   "cell_type": "code",
   "execution_count": 50,
   "metadata": {},
   "outputs": [
    {
     "data": {
      "text/html": [
       "<div>\n",
       "<style scoped>\n",
       "    .dataframe tbody tr th:only-of-type {\n",
       "        vertical-align: middle;\n",
       "    }\n",
       "\n",
       "    .dataframe tbody tr th {\n",
       "        vertical-align: top;\n",
       "    }\n",
       "\n",
       "    .dataframe thead th {\n",
       "        text-align: right;\n",
       "    }\n",
       "</style>\n",
       "<table border=\"1\" class=\"dataframe\">\n",
       "  <thead>\n",
       "    <tr style=\"text-align: right;\">\n",
       "      <th></th>\n",
       "      <th>state</th>\n",
       "      <th>month</th>\n",
       "      <th>year</th>\n",
       "      <th>handle</th>\n",
       "      <th>revenue</th>\n",
       "      <th>taxes</th>\n",
       "      <th>cluster</th>\n",
       "      <th>color</th>\n",
       "    </tr>\n",
       "  </thead>\n",
       "  <tbody>\n",
       "    <tr>\n",
       "      <th>0</th>\n",
       "      <td>NJ</td>\n",
       "      <td>1</td>\n",
       "      <td>2019</td>\n",
       "      <td>385279662.0</td>\n",
       "      <td>18777582</td>\n",
       "      <td>2532619</td>\n",
       "      <td>0</td>\n",
       "      <td>blue</td>\n",
       "    </tr>\n",
       "    <tr>\n",
       "      <th>1</th>\n",
       "      <td>NJ</td>\n",
       "      <td>2</td>\n",
       "      <td>2019</td>\n",
       "      <td>320368087.0</td>\n",
       "      <td>12732740</td>\n",
       "      <td>1817553</td>\n",
       "      <td>0</td>\n",
       "      <td>blue</td>\n",
       "    </tr>\n",
       "    <tr>\n",
       "      <th>2</th>\n",
       "      <td>NJ</td>\n",
       "      <td>3</td>\n",
       "      <td>2019</td>\n",
       "      <td>372451342.0</td>\n",
       "      <td>31669387</td>\n",
       "      <td>4180051</td>\n",
       "      <td>2</td>\n",
       "      <td>pink</td>\n",
       "    </tr>\n",
       "    <tr>\n",
       "      <th>3</th>\n",
       "      <td>NJ</td>\n",
       "      <td>4</td>\n",
       "      <td>2019</td>\n",
       "      <td>313719562.0</td>\n",
       "      <td>21215747</td>\n",
       "      <td>2817206</td>\n",
       "      <td>0</td>\n",
       "      <td>blue</td>\n",
       "    </tr>\n",
       "    <tr>\n",
       "      <th>4</th>\n",
       "      <td>NJ</td>\n",
       "      <td>5</td>\n",
       "      <td>2019</td>\n",
       "      <td>318940677.0</td>\n",
       "      <td>15536384</td>\n",
       "      <td>2135704</td>\n",
       "      <td>0</td>\n",
       "      <td>blue</td>\n",
       "    </tr>\n",
       "    <tr>\n",
       "      <th>5</th>\n",
       "      <td>NJ</td>\n",
       "      <td>6</td>\n",
       "      <td>2019</td>\n",
       "      <td>273222975.0</td>\n",
       "      <td>9701925</td>\n",
       "      <td>1258541</td>\n",
       "      <td>0</td>\n",
       "      <td>blue</td>\n",
       "    </tr>\n",
       "    <tr>\n",
       "      <th>6</th>\n",
       "      <td>NJ</td>\n",
       "      <td>7</td>\n",
       "      <td>2019</td>\n",
       "      <td>251371272.0</td>\n",
       "      <td>17884790</td>\n",
       "      <td>2367745</td>\n",
       "      <td>1</td>\n",
       "      <td>blue</td>\n",
       "    </tr>\n",
       "    <tr>\n",
       "      <th>7</th>\n",
       "      <td>NJ</td>\n",
       "      <td>8</td>\n",
       "      <td>2019</td>\n",
       "      <td>293594862.0</td>\n",
       "      <td>25210342</td>\n",
       "      <td>3327589</td>\n",
       "      <td>2</td>\n",
       "      <td>blue</td>\n",
       "    </tr>\n",
       "    <tr>\n",
       "      <th>8</th>\n",
       "      <td>NJ</td>\n",
       "      <td>9</td>\n",
       "      <td>2019</td>\n",
       "      <td>445563503.0</td>\n",
       "      <td>37883375</td>\n",
       "      <td>5017875</td>\n",
       "      <td>2</td>\n",
       "      <td>pink</td>\n",
       "    </tr>\n",
       "    <tr>\n",
       "      <th>9</th>\n",
       "      <td>NJ</td>\n",
       "      <td>10</td>\n",
       "      <td>2019</td>\n",
       "      <td>487924504.0</td>\n",
       "      <td>46393537</td>\n",
       "      <td>5662148</td>\n",
       "      <td>2</td>\n",
       "      <td>pink</td>\n",
       "    </tr>\n",
       "  </tbody>\n",
       "</table>\n",
       "</div>"
      ],
      "text/plain": [
       "  state  month  year       handle   revenue    taxes  cluster color\n",
       "0    NJ      1  2019  385279662.0  18777582  2532619        0  blue\n",
       "1    NJ      2  2019  320368087.0  12732740  1817553        0  blue\n",
       "2    NJ      3  2019  372451342.0  31669387  4180051        2  pink\n",
       "3    NJ      4  2019  313719562.0  21215747  2817206        0  blue\n",
       "4    NJ      5  2019  318940677.0  15536384  2135704        0  blue\n",
       "5    NJ      6  2019  273222975.0   9701925  1258541        0  blue\n",
       "6    NJ      7  2019  251371272.0  17884790  2367745        1  blue\n",
       "7    NJ      8  2019  293594862.0  25210342  3327589        2  blue\n",
       "8    NJ      9  2019  445563503.0  37883375  5017875        2  pink\n",
       "9    NJ     10  2019  487924504.0  46393537  5662148        2  pink"
      ]
     },
     "execution_count": 50,
     "metadata": {},
     "output_type": "execute_result"
    }
   ],
   "source": [
    "df.head(10)"
   ]
  },
  {
   "cell_type": "code",
   "execution_count": 51,
   "metadata": {},
   "outputs": [],
   "source": [
    "centroid = pd.DataFrame(ss.inverse_transform(km_2.cluster_centers_), \n",
    "      columns =[\"month\", \"revenue\"])"
   ]
  },
  {
   "cell_type": "code",
   "execution_count": 52,
   "metadata": {},
   "outputs": [
    {
     "data": {
      "text/html": [
       "<div>\n",
       "<style scoped>\n",
       "    .dataframe tbody tr th:only-of-type {\n",
       "        vertical-align: middle;\n",
       "    }\n",
       "\n",
       "    .dataframe tbody tr th {\n",
       "        vertical-align: top;\n",
       "    }\n",
       "\n",
       "    .dataframe thead th {\n",
       "        text-align: right;\n",
       "    }\n",
       "</style>\n",
       "<table border=\"1\" class=\"dataframe\">\n",
       "  <thead>\n",
       "    <tr style=\"text-align: right;\">\n",
       "      <th></th>\n",
       "      <th>month</th>\n",
       "      <th>revenue</th>\n",
       "    </tr>\n",
       "  </thead>\n",
       "  <tbody>\n",
       "    <tr>\n",
       "      <th>0</th>\n",
       "      <td>3.564103</td>\n",
       "      <td>4.975514e+06</td>\n",
       "    </tr>\n",
       "    <tr>\n",
       "      <th>1</th>\n",
       "      <td>9.540000</td>\n",
       "      <td>5.458175e+06</td>\n",
       "    </tr>\n",
       "    <tr>\n",
       "      <th>2</th>\n",
       "      <td>8.333333</td>\n",
       "      <td>3.659259e+07</td>\n",
       "    </tr>\n",
       "  </tbody>\n",
       "</table>\n",
       "</div>"
      ],
      "text/plain": [
       "      month       revenue\n",
       "0  3.564103  4.975514e+06\n",
       "1  9.540000  5.458175e+06\n",
       "2  8.333333  3.659259e+07"
      ]
     },
     "execution_count": 52,
     "metadata": {},
     "output_type": "execute_result"
    }
   ],
   "source": [
    "centroid.head(10) "
   ]
  },
  {
   "cell_type": "code",
   "execution_count": 54,
   "metadata": {},
   "outputs": [
    {
     "data": {
      "text/plain": [
       "<matplotlib.axes._subplots.AxesSubplot at 0x136ba2710>"
      ]
     },
     "execution_count": 54,
     "metadata": {},
     "output_type": "execute_result"
    },
    {
     "data": {
      "text/plain": [
       "<Figure size 720x432 with 0 Axes>"
      ]
     },
     "metadata": {},
     "output_type": "display_data"
    },
    {
     "data": {
      "image/png": "[encoded data removed]",
      "text/plain": [
       "<Figure size 720x432 with 1 Axes>"
      ]
     },
     "metadata": {
      "needs_background": "light"
     },
     "output_type": "display_data"
    }
   ],
   "source": [
    "plt.figure(figsize=(10,6))\n",
    "\n",
    "colors = [\"black\", \"pink\", \"blue\"]\n",
    "\n",
    "df['color'] = df['cluster'].map(lambda p: colors[p])\n",
    "\n",
    "ax = df.plot(    \n",
    "    kind = \"scatter\",  x = \"month\", y = \"revenue\", \n",
    "    figsize = (10,6),\n",
    "    c = df[\"color\"])\n",
    "\n",
    "centroid.plot(kind = \"scatter\", x =\"month\", y = \"revenue\",\n",
    "    marker = \"*\", \n",
    "    c = [\"black\", \"pink\", \"blue\"],\n",
    "    s = 1000,\n",
    "    ax = ax)"
   ]
  },
  {
   "cell_type": "code",
   "execution_count": 55,
   "metadata": {},
   "outputs": [
    {
     "data": {
      "text/plain": [
       "0.47801145951363855"
      ]
     },
     "execution_count": 55,
     "metadata": {},
     "output_type": "execute_result"
    }
   ],
   "source": [
    "silhouette_score(X_2, km_2.labels_)"
   ]
  },
  {
   "cell_type": "code",
   "execution_count": null,
   "metadata": {},
   "outputs": [],
   "source": []
  }
 ],
 "metadata": {
  "kernelspec": {
   "display_name": "Python 3",
   "language": "python",
   "name": "python3"
  },
  "language_info": {
   "codemirror_mode": {
    "name": "ipython",
    "version": 3
   },
   "file_extension": ".py",
   "mimetype": "text/x-python",
   "name": "python",
   "nbconvert_exporter": "python",
   "pygments_lexer": "ipython3",
   "version": "3.7.4"
  }
 },
 "nbformat": 4,
 "nbformat_minor": 2
}
