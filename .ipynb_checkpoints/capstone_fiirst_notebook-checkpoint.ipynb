{
 "cells": [
  {
   "cell_type": "markdown",
   "metadata": {},
   "source": [
    "# Capstone Project: Predicting additional tax revenue for the state of Connecticut if sports wagering is legalized"
   ]
  },
  {
   "cell_type": "markdown",
   "metadata": {},
   "source": [
    "## Problem Statement"
   ]
  },
  {
   "cell_type": "markdown",
   "metadata": {},
   "source": [
    "The State Legislature of Connecticut is reviewing a bill to legalize sports wagering within the state. The State Legislature must carefully weigh pros and cons when deciding pass or reject the bill. If they pass the bill, the bill moves on to the Sentate for final approval. If the Senate approves, Connecticut would become the 12th state in the United States where sports wagering has been legalized.\n",
    "\n",
    "A major consideration by the State Legislature is the potential revenue gain in the State General fund. All sources of gaming share revenue with the state and make transfers into the State General fund at the end of the fiscal year. While sports wagering itsself is likely to bring in new revenue for the state, the state must consider reductions in other revenue streams that the new sports wagering revenue stream may cause. \n",
    "\n",
    "Using Sports Wagering year-end reports we have for each state where sports wagering was legal in 2019 as well as state annual reports showing other streams of revenue, we will build and leverage an unsupervised linear regression model that will help predict if legazing sports wagering will lead to an increase or decrease in total revenue for Connectiut, using the other states as prototypes. After modeling, We will exmaine the model's mean squared error, helping us determine the success of the model. Our goal is to provide the state with a model that can predict revenue as closely as possible, giving the state more confidence to make their decision more clear."
   ]
  },
  {
   "cell_type": "code",
   "execution_count": 14,
   "metadata": {},
   "outputs": [],
   "source": [
    "import numpy as np\n",
    "import pandas as pd\n",
    "import time\n",
    "import datetime as dt\n",
    "import requests\n",
    "import matplotlib.pyplot as plt\n",
    "import regex as re\n",
    "import seaborn as sns\n",
    "%matplotlib inline\n",
    "\n",
    "from sklearn.feature_extraction.text import CountVectorizer, TfidfVectorizer\n",
    "from sklearn.model_selection import train_test_split, cross_val_score, GridSearchCV\n",
    "from sklearn.naive_bayes import BernoulliNB, MultinomialNB"
   ]
  },
  {
   "cell_type": "code",
   "execution_count": 15,
   "metadata": {},
   "outputs": [],
   "source": [
    "df = pd.read_csv('./data/state_reports.csv')"
   ]
  },
  {
   "cell_type": "code",
   "execution_count": 16,
   "metadata": {},
   "outputs": [
    {
     "data": {
      "text/html": [
       "<div>\n",
       "<style scoped>\n",
       "    .dataframe tbody tr th:only-of-type {\n",
       "        vertical-align: middle;\n",
       "    }\n",
       "\n",
       "    .dataframe tbody tr th {\n",
       "        vertical-align: top;\n",
       "    }\n",
       "\n",
       "    .dataframe thead th {\n",
       "        text-align: right;\n",
       "    }\n",
       "</style>\n",
       "<table border=\"1\" class=\"dataframe\">\n",
       "  <thead>\n",
       "    <tr style=\"text-align: right;\">\n",
       "      <th></th>\n",
       "      <th>state</th>\n",
       "      <th>month_year</th>\n",
       "      <th>handle</th>\n",
       "      <th>revenue</th>\n",
       "      <th>hold</th>\n",
       "      <th>taxes</th>\n",
       "    </tr>\n",
       "  </thead>\n",
       "  <tbody>\n",
       "    <tr>\n",
       "      <th>0</th>\n",
       "      <td>NJ</td>\n",
       "      <td>19-Jan</td>\n",
       "      <td>$385,279,662</td>\n",
       "      <td>$18,777,582</td>\n",
       "      <td>4.90%</td>\n",
       "      <td>$2,532,619</td>\n",
       "    </tr>\n",
       "    <tr>\n",
       "      <th>1</th>\n",
       "      <td>NaN</td>\n",
       "      <td>19-Feb</td>\n",
       "      <td>$320,368,087</td>\n",
       "      <td>$12,732,740</td>\n",
       "      <td>4.00%</td>\n",
       "      <td>$1,817,553</td>\n",
       "    </tr>\n",
       "    <tr>\n",
       "      <th>2</th>\n",
       "      <td>NaN</td>\n",
       "      <td>19-Mar</td>\n",
       "      <td>$372,451,342</td>\n",
       "      <td>$31,669,387</td>\n",
       "      <td>8.50%</td>\n",
       "      <td>$4,180,051</td>\n",
       "    </tr>\n",
       "    <tr>\n",
       "      <th>3</th>\n",
       "      <td>NaN</td>\n",
       "      <td>19-Apr</td>\n",
       "      <td>$313,719,562</td>\n",
       "      <td>$21,215,747</td>\n",
       "      <td>6.80%</td>\n",
       "      <td>$2,817,206</td>\n",
       "    </tr>\n",
       "    <tr>\n",
       "      <th>4</th>\n",
       "      <td>NaN</td>\n",
       "      <td>19-May</td>\n",
       "      <td>$318,940,677</td>\n",
       "      <td>$15,536,384</td>\n",
       "      <td>4.90%</td>\n",
       "      <td>$2,135,704</td>\n",
       "    </tr>\n",
       "    <tr>\n",
       "      <th>...</th>\n",
       "      <td>...</td>\n",
       "      <td>...</td>\n",
       "      <td>...</td>\n",
       "      <td>...</td>\n",
       "      <td>...</td>\n",
       "      <td>...</td>\n",
       "    </tr>\n",
       "    <tr>\n",
       "      <th>147</th>\n",
       "      <td>state</td>\n",
       "      <td>month_year</td>\n",
       "      <td>handle</td>\n",
       "      <td>revenue</td>\n",
       "      <td>hold</td>\n",
       "      <td>taxes</td>\n",
       "    </tr>\n",
       "    <tr>\n",
       "      <th>148</th>\n",
       "      <td>OR</td>\n",
       "      <td>19-Oct</td>\n",
       "      <td>$5,603,136</td>\n",
       "      <td>$218,107</td>\n",
       "      <td>3.90%</td>\n",
       "      <td>$196,296</td>\n",
       "    </tr>\n",
       "    <tr>\n",
       "      <th>149</th>\n",
       "      <td>NaN</td>\n",
       "      <td>19-Nov</td>\n",
       "      <td>$17,089,383</td>\n",
       "      <td>$943,687</td>\n",
       "      <td>5.50%</td>\n",
       "      <td>$849,318</td>\n",
       "    </tr>\n",
       "    <tr>\n",
       "      <th>150</th>\n",
       "      <td>NaN</td>\n",
       "      <td>19-Dec</td>\n",
       "      <td>$22,375,049</td>\n",
       "      <td>$1,632,412</td>\n",
       "      <td>7.30%</td>\n",
       "      <td>$1,469,171</td>\n",
       "    </tr>\n",
       "    <tr>\n",
       "      <th>151</th>\n",
       "      <td>NaN</td>\n",
       "      <td>Total-19</td>\n",
       "      <td>$1,557,191,900</td>\n",
       "      <td>$151,789,939</td>\n",
       "      <td>5.57%</td>\n",
       "      <td>$15,964,888</td>\n",
       "    </tr>\n",
       "  </tbody>\n",
       "</table>\n",
       "<p>152 rows × 6 columns</p>\n",
       "</div>"
      ],
      "text/plain": [
       "     state  month_year           handle        revenue   hold         taxes\n",
       "0       NJ      19-Jan    $385,279,662    $18,777,582   4.90%   $2,532,619 \n",
       "1      NaN      19-Feb    $320,368,087    $12,732,740   4.00%   $1,817,553 \n",
       "2      NaN      19-Mar    $372,451,342    $31,669,387   8.50%   $4,180,051 \n",
       "3      NaN      19-Apr    $313,719,562    $21,215,747   6.80%   $2,817,206 \n",
       "4      NaN      19-May    $318,940,677    $15,536,384   4.90%   $2,135,704 \n",
       "..     ...         ...              ...            ...    ...           ...\n",
       "147  state  month_year           handle        revenue   hold         taxes\n",
       "148     OR      19-Oct      $5,603,136       $218,107   3.90%     $196,296 \n",
       "149    NaN      19-Nov     $17,089,383       $943,687   5.50%     $849,318 \n",
       "150    NaN      19-Dec     $22,375,049     $1,632,412   7.30%   $1,469,171 \n",
       "151    NaN    Total-19  $1,557,191,900   $151,789,939   5.57%  $15,964,888 \n",
       "\n",
       "[152 rows x 6 columns]"
      ]
     },
     "execution_count": 16,
     "metadata": {},
     "output_type": "execute_result"
    }
   ],
   "source": [
    "df"
   ]
  },
  {
   "cell_type": "markdown",
   "metadata": {},
   "source": [
    "## Cleaning / EDA"
   ]
  },
  {
   "cell_type": "code",
   "execution_count": 22,
   "metadata": {},
   "outputs": [
    {
     "data": {
      "text/plain": [
       "<bound method DataFrame.info of      state  month_year           handle        revenue   hold         taxes\n",
       "0       NJ      19-Jan    $385,279,662    $18,777,582   4.90%   $2,532,619 \n",
       "1      NaN      19-Feb    $320,368,087    $12,732,740   4.00%   $1,817,553 \n",
       "2      NaN      19-Mar    $372,451,342    $31,669,387   8.50%   $4,180,051 \n",
       "3      NaN      19-Apr    $313,719,562    $21,215,747   6.80%   $2,817,206 \n",
       "4      NaN      19-May    $318,940,677    $15,536,384   4.90%   $2,135,704 \n",
       "..     ...         ...              ...            ...    ...           ...\n",
       "147  state  month_year           handle        revenue   hold         taxes\n",
       "148     OR      19-Oct      $5,603,136       $218,107   3.90%     $196,296 \n",
       "149    NaN      19-Nov     $17,089,383       $943,687   5.50%     $849,318 \n",
       "150    NaN      19-Dec     $22,375,049     $1,632,412   7.30%   $1,469,171 \n",
       "151    NaN    Total-19  $1,557,191,900   $151,789,939   5.57%  $15,964,888 \n",
       "\n",
       "[152 rows x 6 columns]>"
      ]
     },
     "execution_count": 22,
     "metadata": {},
     "output_type": "execute_result"
    }
   ],
   "source": [
    "df.info"
   ]
  },
  {
   "cell_type": "code",
   "execution_count": 23,
   "metadata": {},
   "outputs": [
    {
     "data": {
      "text/plain": [
       "Index(['state', 'month_year', 'handle', 'revenue', 'hold', 'taxes'], dtype='object')"
      ]
     },
     "execution_count": 23,
     "metadata": {},
     "output_type": "execute_result"
    }
   ],
   "source": [
    "df.columns"
   ]
  },
  {
   "cell_type": "code",
   "execution_count": 24,
   "metadata": {
    "scrolled": true
   },
   "outputs": [
    {
     "data": {
      "text/plain": [
       "state         object\n",
       "month_year    object\n",
       "handle        object\n",
       "revenue       object\n",
       "hold          object\n",
       "taxes         object\n",
       "dtype: object"
      ]
     },
     "execution_count": 24,
     "metadata": {},
     "output_type": "execute_result"
    }
   ],
   "source": [
    "df.dtypes"
   ]
  },
  {
   "cell_type": "code",
   "execution_count": 25,
   "metadata": {},
   "outputs": [
    {
     "data": {
      "text/plain": [
       "(152, 6)"
      ]
     },
     "execution_count": 25,
     "metadata": {},
     "output_type": "execute_result"
    }
   ],
   "source": [
    "df.shape"
   ]
  },
  {
   "cell_type": "code",
   "execution_count": 26,
   "metadata": {
    "scrolled": false
   },
   "outputs": [
    {
     "data": {
      "text/plain": [
       "<bound method DataFrame.count of      state  month_year           handle        revenue   hold         taxes\n",
       "0       NJ      19-Jan    $385,279,662    $18,777,582   4.90%   $2,532,619 \n",
       "1      NaN      19-Feb    $320,368,087    $12,732,740   4.00%   $1,817,553 \n",
       "2      NaN      19-Mar    $372,451,342    $31,669,387   8.50%   $4,180,051 \n",
       "3      NaN      19-Apr    $313,719,562    $21,215,747   6.80%   $2,817,206 \n",
       "4      NaN      19-May    $318,940,677    $15,536,384   4.90%   $2,135,704 \n",
       "..     ...         ...              ...            ...    ...           ...\n",
       "147  state  month_year           handle        revenue   hold         taxes\n",
       "148     OR      19-Oct      $5,603,136       $218,107   3.90%     $196,296 \n",
       "149    NaN      19-Nov     $17,089,383       $943,687   5.50%     $849,318 \n",
       "150    NaN      19-Dec     $22,375,049     $1,632,412   7.30%   $1,469,171 \n",
       "151    NaN    Total-19  $1,557,191,900   $151,789,939   5.57%  $15,964,888 \n",
       "\n",
       "[152 rows x 6 columns]>"
      ]
     },
     "execution_count": 26,
     "metadata": {},
     "output_type": "execute_result"
    }
   ],
   "source": [
    "df.count"
   ]
  },
  {
   "cell_type": "code",
   "execution_count": 28,
   "metadata": {},
   "outputs": [
    {
     "data": {
      "text/plain": [
       "state         131\n",
       "taxes          30\n",
       "hold           30\n",
       "revenue        30\n",
       "handle         30\n",
       "month_year     30\n",
       "dtype: int64"
      ]
     },
     "execution_count": 28,
     "metadata": {},
     "output_type": "execute_result"
    }
   ],
   "source": [
    "df.isnull().sum().sort_values(ascending = False)"
   ]
  },
  {
   "cell_type": "code",
   "execution_count": 29,
   "metadata": {},
   "outputs": [],
   "source": [
    "df.fillna(' ', inplace = True)"
   ]
  },
  {
   "cell_type": "code",
   "execution_count": 30,
   "metadata": {},
   "outputs": [
    {
     "data": {
      "text/plain": [
       "state         0\n",
       "month_year    0\n",
       "handle        0\n",
       "revenue       0\n",
       "hold          0\n",
       "taxes         0\n",
       "dtype: int64"
      ]
     },
     "execution_count": 30,
     "metadata": {},
     "output_type": "execute_result"
    }
   ],
   "source": [
    "df.isnull().sum().sort_values()"
   ]
  },
  {
   "cell_type": "code",
   "execution_count": 32,
   "metadata": {},
   "outputs": [
    {
     "data": {
      "text/html": [
       "<div>\n",
       "<style scoped>\n",
       "    .dataframe tbody tr th:only-of-type {\n",
       "        vertical-align: middle;\n",
       "    }\n",
       "\n",
       "    .dataframe tbody tr th {\n",
       "        vertical-align: top;\n",
       "    }\n",
       "\n",
       "    .dataframe thead th {\n",
       "        text-align: right;\n",
       "    }\n",
       "</style>\n",
       "<table border=\"1\" class=\"dataframe\">\n",
       "  <thead>\n",
       "    <tr style=\"text-align: right;\">\n",
       "      <th></th>\n",
       "      <th>state</th>\n",
       "      <th>month_year</th>\n",
       "      <th>handle</th>\n",
       "      <th>revenue</th>\n",
       "      <th>hold</th>\n",
       "      <th>taxes</th>\n",
       "    </tr>\n",
       "  </thead>\n",
       "  <tbody>\n",
       "    <tr>\n",
       "      <th>0</th>\n",
       "      <td>NJ</td>\n",
       "      <td>19-Jan</td>\n",
       "      <td>$385,279,662</td>\n",
       "      <td>$18,777,582</td>\n",
       "      <td>4.90%</td>\n",
       "      <td>$2,532,619</td>\n",
       "    </tr>\n",
       "    <tr>\n",
       "      <th>1</th>\n",
       "      <td></td>\n",
       "      <td>19-Feb</td>\n",
       "      <td>$320,368,087</td>\n",
       "      <td>$12,732,740</td>\n",
       "      <td>4.00%</td>\n",
       "      <td>$1,817,553</td>\n",
       "    </tr>\n",
       "    <tr>\n",
       "      <th>2</th>\n",
       "      <td></td>\n",
       "      <td>19-Mar</td>\n",
       "      <td>$372,451,342</td>\n",
       "      <td>$31,669,387</td>\n",
       "      <td>8.50%</td>\n",
       "      <td>$4,180,051</td>\n",
       "    </tr>\n",
       "    <tr>\n",
       "      <th>3</th>\n",
       "      <td></td>\n",
       "      <td>19-Apr</td>\n",
       "      <td>$313,719,562</td>\n",
       "      <td>$21,215,747</td>\n",
       "      <td>6.80%</td>\n",
       "      <td>$2,817,206</td>\n",
       "    </tr>\n",
       "    <tr>\n",
       "      <th>4</th>\n",
       "      <td></td>\n",
       "      <td>19-May</td>\n",
       "      <td>$318,940,677</td>\n",
       "      <td>$15,536,384</td>\n",
       "      <td>4.90%</td>\n",
       "      <td>$2,135,704</td>\n",
       "    </tr>\n",
       "  </tbody>\n",
       "</table>\n",
       "</div>"
      ],
      "text/plain": [
       "  state month_year         handle       revenue   hold        taxes\n",
       "0    NJ     19-Jan  $385,279,662   $18,777,582   4.90%  $2,532,619 \n",
       "1           19-Feb  $320,368,087   $12,732,740   4.00%  $1,817,553 \n",
       "2           19-Mar  $372,451,342   $31,669,387   8.50%  $4,180,051 \n",
       "3           19-Apr  $313,719,562   $21,215,747   6.80%  $2,817,206 \n",
       "4           19-May  $318,940,677   $15,536,384   4.90%  $2,135,704 "
      ]
     },
     "execution_count": 32,
     "metadata": {},
     "output_type": "execute_result"
    }
   ],
   "source": [
    "df.head()"
   ]
  },
  {
   "cell_type": "code",
   "execution_count": 33,
   "metadata": {},
   "outputs": [
    {
     "data": {
      "text/plain": [
       "<bound method NDFrame.describe of      state  month_year           handle        revenue   hold         taxes\n",
       "0       NJ      19-Jan    $385,279,662    $18,777,582   4.90%   $2,532,619 \n",
       "1               19-Feb    $320,368,087    $12,732,740   4.00%   $1,817,553 \n",
       "2               19-Mar    $372,451,342    $31,669,387   8.50%   $4,180,051 \n",
       "3               19-Apr    $313,719,562    $21,215,747   6.80%   $2,817,206 \n",
       "4               19-May    $318,940,677    $15,536,384   4.90%   $2,135,704 \n",
       "..     ...         ...              ...            ...    ...           ...\n",
       "147  state  month_year           handle        revenue   hold         taxes\n",
       "148     OR      19-Oct      $5,603,136       $218,107   3.90%     $196,296 \n",
       "149             19-Nov     $17,089,383       $943,687   5.50%     $849,318 \n",
       "150             19-Dec     $22,375,049     $1,632,412   7.30%   $1,469,171 \n",
       "151           Total-19  $1,557,191,900   $151,789,939   5.57%  $15,964,888 \n",
       "\n",
       "[152 rows x 6 columns]>"
      ]
     },
     "execution_count": 33,
     "metadata": {},
     "output_type": "execute_result"
    }
   ],
   "source": [
    "df.describe"
   ]
  },
  {
   "cell_type": "code",
   "execution_count": null,
   "metadata": {},
   "outputs": [],
   "source": []
  }
 ],
 "metadata": {
  "kernelspec": {
   "display_name": "Python 3",
   "language": "python",
   "name": "python3"
  },
  "language_info": {
   "codemirror_mode": {
    "name": "ipython",
    "version": 3
   },
   "file_extension": ".py",
   "mimetype": "text/x-python",
   "name": "python",
   "nbconvert_exporter": "python",
   "pygments_lexer": "ipython3",
   "version": "3.7.4"
  }
 },
 "nbformat": 4,
 "nbformat_minor": 2
}
