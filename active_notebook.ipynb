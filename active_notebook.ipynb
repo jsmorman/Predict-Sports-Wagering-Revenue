{
 "cells": [
  {
   "cell_type": "markdown",
   "metadata": {},
   "source": [
    "# Capstone Project: Predicting additional tax revenue for the state of Connecticut if sports wagering is legalized"
   ]
  },
  {
   "cell_type": "markdown",
   "metadata": {},
   "source": [
    "## Problem Statement"
   ]
  },
  {
   "cell_type": "markdown",
   "metadata": {},
   "source": [
    "The State Legislature of Connecticut is reviewing a bill to legalize sports wagering within the state. The State Legislature must carefully weigh pros and cons when deciding pass or reject the bill. If they pass the bill, the bill moves on to the Sentate for final approval. If the Senate approves, Connecticut would become the 12th state in the United States where sports wagering has been legalized.\n",
    "\n",
    "A major consideration by the State Legislature is the potential revenue gain in the State General fund. All sources of gaming share revenue with the state and make transfers into the State General fund at the end of the fiscal year. While sports wagering itsself is likely to bring in new revenue for the state, the state must consider reductions in other revenue streams that the new sports wagering revenue stream may cause. \n",
    "\n",
    "Using West Virginia has a protype, we will build a SARIMAX time series model that will predict tax revenue for one year, broken down on a weekly basis. After modeling, we will use root mean squared error to measure the model's succes. Our goal is to provide the state with a model that can predict tax revenue as closely as possible, giving the state more confidence to make their decision."
   ]
  },
  {
   "cell_type": "markdown",
   "metadata": {},
   "source": [
    "## Table of Contents:\n",
    "- [Imports](#Imports)\n",
    "- [Data Cleaning and Exploratory Data Analysis](#Data-Cleaning-and-Exploratory-Data-Analysis)\n",
    "    - [Data Assimilation](#Data-Assimilation)\n",
    "    - [Data Cleaning](#Data-Cleaning)\n",
    "    - [Feature Relationship Study](#Feature-Relationship-Study)\n",
    "    - [Time Series Data Analysis](#Time-Series-Data-Analysis)\n",
    "    - [Autocorrelation and Partial Autocorrelation Functions](#Autocorrelation-and-Partial-Autocorrelation-Functions)\n",
    "- [Preprocessing](#Preprocessing)\n",
    "    - [Data Manipulation](#Data-Manipulation)\n",
    "    - [Train-Test-Split](#Train-Test-Split)\n",
    "- [Modeling](#Modeling)\n",
    "    - [Autoregressive Modeling](#Autoregressive-Modeling)\n",
    "    - [SARIMAX Modeling](#SARIMAX-Modeling)\n",
    "    - [Model Comparison](#Model-Comparison)\n",
    "- [Conclusions and Recommendations](#Conclusions-and-Recommendations)"
   ]
  },
  {
   "cell_type": "markdown",
   "metadata": {},
   "source": [
    "### Imports"
   ]
  },
  {
   "cell_type": "code",
   "execution_count": 1,
   "metadata": {},
   "outputs": [],
   "source": [
    "import numpy as np\n",
    "import pandas as pd\n",
    "import matplotlib.pyplot as plt\n",
    "import regex as re\n",
    "import seaborn as sns\n",
    "\n",
    "from statsmodels.graphics.tsaplots import plot_acf,plot_pacf\n",
    "from statsmodels.tsa.arima_model import ARIMA, ARMA\n",
    "from statsmodels.tsa.statespace.sarimax import SARIMAX\n",
    "from statsmodels.tsa.stattools import adfuller  \n",
    "from sklearn.metrics import mean_squared_error\n",
    "from sklearn.model_selection import train_test_split\n",
    "import statsmodels.api as sm\n",
    "pd.set_option('display.float_format', lambda x: '%.3f' % x)\n",
    "\n",
    "from math import sqrt\n",
    "from multiprocessing import cpu_count\n",
    "from joblib import Parallel\n",
    "from joblib import delayed\n",
    "from warnings import catch_warnings\n",
    "from warnings import filterwarnings \n",
    "import warnings\n",
    "warnings.simplefilter(action=\"ignore\")\n",
    "\n",
    "np.random.seed(42)\n",
    "sns.set_style(\"whitegrid\")\n",
    "\n",
    "%matplotlib inline\n",
    "%config InlineBackend.figure_format = 'retina'"
   ]
  },
  {
   "cell_type": "markdown",
   "metadata": {},
   "source": [
    "The data set that is being used in our modeling, and is being read in below, includes 52 weeks of data. The data was provided by West Virginia Lottery, in the form of Sports Wagering reports."
   ]
  },
  {
   "cell_type": "code",
   "execution_count": 2,
   "metadata": {},
   "outputs": [],
   "source": [
    "# Reading in the data\n",
    "\n",
    "df = pd.read_csv('./data/wv_combined.csv')"
   ]
  },
  {
   "cell_type": "markdown",
   "metadata": {},
   "source": [
    "## Data Cleaning and Exploratory Data Analysis"
   ]
  },
  {
   "cell_type": "markdown",
   "metadata": {},
   "source": [
    "### Data Assimilation"
   ]
  },
  {
   "cell_type": "code",
   "execution_count": 3,
   "metadata": {},
   "outputs": [
    {
     "name": "stdout",
     "output_type": "stream",
     "text": [
      "<class 'pandas.core.frame.DataFrame'>\n",
      "RangeIndex: 52 entries, 0 to 51\n",
      "Data columns (total 10 columns):\n",
      "week_ending                52 non-null object\n",
      "tickets_written            52 non-null int64\n",
      " voids                     52 non-null int64\n",
      "tickets_cashed             52 non-null int64\n",
      "mobile_taxable_receipts    31 non-null float64\n",
      "retail_taxable_receipts    52 non-null int64\n",
      "total_taxable_receipts     52 non-null int64\n",
      "privilege_tax              52 non-null int64\n",
      "admin_share                52 non-null int64\n",
      "state_share                52 non-null int64\n",
      "dtypes: float64(1), int64(8), object(1)\n",
      "memory usage: 4.2+ KB\n"
     ]
    }
   ],
   "source": [
    "df.info()"
   ]
  },
  {
   "cell_type": "code",
   "execution_count": 4,
   "metadata": {},
   "outputs": [
    {
     "data": {
      "text/plain": [
       "Index(['week_ending', 'tickets_written', ' voids  ', 'tickets_cashed',\n",
       "       'mobile_taxable_receipts', 'retail_taxable_receipts',\n",
       "       'total_taxable_receipts', 'privilege_tax', 'admin_share',\n",
       "       'state_share'],\n",
       "      dtype='object')"
      ]
     },
     "execution_count": 4,
     "metadata": {},
     "output_type": "execute_result"
    }
   ],
   "source": [
    "df.columns"
   ]
  },
  {
   "cell_type": "code",
   "execution_count": 5,
   "metadata": {},
   "outputs": [
    {
     "data": {
      "text/plain": [
       "(52, 10)"
      ]
     },
     "execution_count": 5,
     "metadata": {},
     "output_type": "execute_result"
    }
   ],
   "source": [
    "df.shape"
   ]
  },
  {
   "cell_type": "code",
   "execution_count": 6,
   "metadata": {
    "scrolled": true
   },
   "outputs": [
    {
     "data": {
      "text/html": [
       "<div>\n",
       "<style scoped>\n",
       "    .dataframe tbody tr th:only-of-type {\n",
       "        vertical-align: middle;\n",
       "    }\n",
       "\n",
       "    .dataframe tbody tr th {\n",
       "        vertical-align: top;\n",
       "    }\n",
       "\n",
       "    .dataframe thead th {\n",
       "        text-align: right;\n",
       "    }\n",
       "</style>\n",
       "<table border=\"1\" class=\"dataframe\">\n",
       "  <thead>\n",
       "    <tr style=\"text-align: right;\">\n",
       "      <th></th>\n",
       "      <th>tickets_written</th>\n",
       "      <th>voids</th>\n",
       "      <th>tickets_cashed</th>\n",
       "      <th>mobile_taxable_receipts</th>\n",
       "      <th>retail_taxable_receipts</th>\n",
       "      <th>total_taxable_receipts</th>\n",
       "      <th>privilege_tax</th>\n",
       "      <th>admin_share</th>\n",
       "      <th>state_share</th>\n",
       "    </tr>\n",
       "  </thead>\n",
       "  <tbody>\n",
       "    <tr>\n",
       "      <th>count</th>\n",
       "      <td>52.000</td>\n",
       "      <td>52.000</td>\n",
       "      <td>52.000</td>\n",
       "      <td>31.000</td>\n",
       "      <td>52.000</td>\n",
       "      <td>52.000</td>\n",
       "      <td>52.000</td>\n",
       "      <td>52.000</td>\n",
       "      <td>52.000</td>\n",
       "    </tr>\n",
       "    <tr>\n",
       "      <th>mean</th>\n",
       "      <td>3260718.269</td>\n",
       "      <td>70093.481</td>\n",
       "      <td>3912400.519</td>\n",
       "      <td>170215.161</td>\n",
       "      <td>266680.423</td>\n",
       "      <td>368154.865</td>\n",
       "      <td>36815.481</td>\n",
       "      <td>5522.308</td>\n",
       "      <td>31293.192</td>\n",
       "    </tr>\n",
       "    <tr>\n",
       "      <th>std</th>\n",
       "      <td>1103890.972</td>\n",
       "      <td>30709.032</td>\n",
       "      <td>2228876.644</td>\n",
       "      <td>221671.646</td>\n",
       "      <td>374279.472</td>\n",
       "      <td>501747.822</td>\n",
       "      <td>50174.777</td>\n",
       "      <td>7526.214</td>\n",
       "      <td>42648.612</td>\n",
       "    </tr>\n",
       "    <tr>\n",
       "      <th>min</th>\n",
       "      <td>1110150.000</td>\n",
       "      <td>19058.000</td>\n",
       "      <td>1181917.000</td>\n",
       "      <td>-571570.000</td>\n",
       "      <td>-844841.000</td>\n",
       "      <td>-1416411.000</td>\n",
       "      <td>-141641.000</td>\n",
       "      <td>-21246.000</td>\n",
       "      <td>-120395.000</td>\n",
       "    </tr>\n",
       "    <tr>\n",
       "      <th>25%</th>\n",
       "      <td>2202031.000</td>\n",
       "      <td>46195.000</td>\n",
       "      <td>1954432.500</td>\n",
       "      <td>35048.000</td>\n",
       "      <td>126691.250</td>\n",
       "      <td>154329.250</td>\n",
       "      <td>15433.250</td>\n",
       "      <td>2315.000</td>\n",
       "      <td>13118.250</td>\n",
       "    </tr>\n",
       "    <tr>\n",
       "      <th>50%</th>\n",
       "      <td>3702858.000</td>\n",
       "      <td>67988.000</td>\n",
       "      <td>3563424.000</td>\n",
       "      <td>149607.000</td>\n",
       "      <td>244725.000</td>\n",
       "      <td>295824.500</td>\n",
       "      <td>29582.500</td>\n",
       "      <td>4437.000</td>\n",
       "      <td>25145.000</td>\n",
       "    </tr>\n",
       "    <tr>\n",
       "      <th>75%</th>\n",
       "      <td>4164717.750</td>\n",
       "      <td>91458.250</td>\n",
       "      <td>5706824.000</td>\n",
       "      <td>276460.000</td>\n",
       "      <td>417141.500</td>\n",
       "      <td>681037.000</td>\n",
       "      <td>68103.750</td>\n",
       "      <td>10215.500</td>\n",
       "      <td>57888.250</td>\n",
       "    </tr>\n",
       "    <tr>\n",
       "      <th>max</th>\n",
       "      <td>4902465.000</td>\n",
       "      <td>154935.000</td>\n",
       "      <td>9404206.000</td>\n",
       "      <td>601782.000</td>\n",
       "      <td>1388791.000</td>\n",
       "      <td>1664244.000</td>\n",
       "      <td>166424.000</td>\n",
       "      <td>24964.000</td>\n",
       "      <td>141461.000</td>\n",
       "    </tr>\n",
       "  </tbody>\n",
       "</table>\n",
       "</div>"
      ],
      "text/plain": [
       "       tickets_written    voids    tickets_cashed  mobile_taxable_receipts  \\\n",
       "count           52.000     52.000          52.000                   31.000   \n",
       "mean       3260718.269  70093.481     3912400.519               170215.161   \n",
       "std        1103890.972  30709.032     2228876.644               221671.646   \n",
       "min        1110150.000  19058.000     1181917.000              -571570.000   \n",
       "25%        2202031.000  46195.000     1954432.500                35048.000   \n",
       "50%        3702858.000  67988.000     3563424.000               149607.000   \n",
       "75%        4164717.750  91458.250     5706824.000               276460.000   \n",
       "max        4902465.000 154935.000     9404206.000               601782.000   \n",
       "\n",
       "       retail_taxable_receipts  total_taxable_receipts  privilege_tax  \\\n",
       "count                   52.000                  52.000         52.000   \n",
       "mean                266680.423              368154.865      36815.481   \n",
       "std                 374279.472              501747.822      50174.777   \n",
       "min                -844841.000            -1416411.000    -141641.000   \n",
       "25%                 126691.250              154329.250      15433.250   \n",
       "50%                 244725.000              295824.500      29582.500   \n",
       "75%                 417141.500              681037.000      68103.750   \n",
       "max                1388791.000             1664244.000     166424.000   \n",
       "\n",
       "       admin_share  state_share  \n",
       "count       52.000       52.000  \n",
       "mean      5522.308    31293.192  \n",
       "std       7526.214    42648.612  \n",
       "min     -21246.000  -120395.000  \n",
       "25%       2315.000    13118.250  \n",
       "50%       4437.000    25145.000  \n",
       "75%      10215.500    57888.250  \n",
       "max      24964.000   141461.000  "
      ]
     },
     "execution_count": 6,
     "metadata": {},
     "output_type": "execute_result"
    }
   ],
   "source": [
    "df.describe()"
   ]
  },
  {
   "cell_type": "code",
   "execution_count": 7,
   "metadata": {
    "scrolled": true
   },
   "outputs": [
    {
     "data": {
      "text/plain": [
       "week_ending                 object\n",
       "tickets_written              int64\n",
       " voids                       int64\n",
       "tickets_cashed               int64\n",
       "mobile_taxable_receipts    float64\n",
       "retail_taxable_receipts      int64\n",
       "total_taxable_receipts       int64\n",
       "privilege_tax                int64\n",
       "admin_share                  int64\n",
       "state_share                  int64\n",
       "dtype: object"
      ]
     },
     "execution_count": 7,
     "metadata": {},
     "output_type": "execute_result"
    }
   ],
   "source": [
    "df.dtypes"
   ]
  },
  {
   "cell_type": "code",
   "execution_count": null,
   "metadata": {},
   "outputs": [],
   "source": [
    "df.describe()"
   ]
  },
  {
   "cell_type": "code",
   "execution_count": null,
   "metadata": {},
   "outputs": [],
   "source": [
    "# Finding null values\n",
    "\n",
    "df.isnull().sum().sort_values(ascending = False)"
   ]
  },
  {
   "cell_type": "code",
   "execution_count": null,
   "metadata": {},
   "outputs": [],
   "source": [
    "# Taking a closer look at null values in relation to the rest of the data\n",
    "\n",
    "df[df.isna().any(axis=1)]"
   ]
  },
  {
   "cell_type": "markdown",
   "metadata": {},
   "source": [
    "#### Data Cleaning"
   ]
  },
  {
   "cell_type": "code",
   "execution_count": null,
   "metadata": {},
   "outputs": [],
   "source": [
    "# Filling null values with zeros\n",
    "\n",
    "df.fillna(0, inplace=True)"
   ]
  },
  {
   "cell_type": "code",
   "execution_count": null,
   "metadata": {},
   "outputs": [],
   "source": [
    "# Confirming we no longer have null values\n",
    "\n",
    "df.isnull().sum().sort_values(ascending = False)"
   ]
  },
  {
   "cell_type": "code",
   "execution_count": null,
   "metadata": {},
   "outputs": [],
   "source": [
    "# Stripping blank spaces out column titles\n",
    "\n",
    "df.columns = [col.strip() for col in df.columns]"
   ]
  },
  {
   "cell_type": "code",
   "execution_count": 8,
   "metadata": {},
   "outputs": [],
   "source": [
    "# Converting \"week_ending\" from a object dtype to a datetime64 dtype\n",
    "\n",
    "df['week_ending'] = pd.to_datetime(df['week_ending'])"
   ]
  },
  {
   "cell_type": "markdown",
   "metadata": {},
   "source": [
    "#### Feature Relationship Study"
   ]
  },
  {
   "cell_type": "code",
   "execution_count": 16,
   "metadata": {},
   "outputs": [],
   "source": [
    "# Framework for a bar chart\n",
    "\n",
    "#df.groupby(\"Overall Qual\")[[\"SalePrice\"]].mean().plot(kind = \"barh\", color=\"darkcyan\", figsize=(8,5))\n",
    "#plt.ylabel(\"Overall Quality\", fontsize=18)\n",
    "#plt.xlabel(\"Sale Price\", fontsize=18)\n",
    "#plt.title(\"Sale Price Distribution\", fontsize=20);"
   ]
  },
  {
   "cell_type": "code",
   "execution_count": 17,
   "metadata": {
    "scrolled": true
   },
   "outputs": [
    {
     "data": {
      "image/png": "[encoded data removed]",
      "text/plain": [
       "<Figure size 432x288 with 1 Axes>"
      ]
     },
     "metadata": {
      "image/png": {
       "height": 266,
       "width": 431
      },
      "needs_background": "light"
     },
     "output_type": "display_data"
    }
   ],
   "source": [
    "plt.scatter(df[\"tickets_written\"], df[\"total_taxable_receipts\"])\n",
    "plt.xlabel(\"tickets written\", fontsize = 16)\n",
    "plt.ylabel(\"total taxable receipts\", fontsize = 16);"
   ]
  },
  {
   "cell_type": "code",
   "execution_count": 18,
   "metadata": {},
   "outputs": [
    {
     "data": {
      "image/png": "[encoded data removed]",
      "text/plain": [
       "<Figure size 432x288 with 1 Axes>"
      ]
     },
     "metadata": {
      "image/png": {
       "height": 270,
       "width": 414
      },
      "needs_background": "light"
     },
     "output_type": "display_data"
    }
   ],
   "source": [
    "plt.scatter(df['mobile_taxable_receipts'], df['retail_taxable_receipts'])\n",
    "plt.xlabel(\"mobile taxable receipts\", fontsize = 16)\n",
    "plt.ylabel(\"retail taxable receipts\", fontsize = 16);"
   ]
  },
  {
   "cell_type": "code",
   "execution_count": 19,
   "metadata": {
    "scrolled": false
   },
   "outputs": [
    {
     "data": {
      "image/png": "[encoded data removed]",
      "text/plain": [
       "<Figure size 432x288 with 1 Axes>"
      ]
     },
     "metadata": {
      "image/png": {
       "height": 270,
       "width": 430
      },
      "needs_background": "light"
     },
     "output_type": "display_data"
    }
   ],
   "source": [
    "plt.scatter(df['tickets_written'], df['total_taxable_receipts'])\n",
    "plt.xlabel('tickets written', fontsize = 20)\n",
    "plt.ylabel('total taxable receipts', fontsize = 14);"
   ]
  },
  {
   "cell_type": "code",
   "execution_count": 20,
   "metadata": {},
   "outputs": [
    {
     "data": {
      "image/png": "[encoded data removed]",
      "text/plain": [
       "<Figure size 432x288 with 1 Axes>"
      ]
     },
     "metadata": {
      "image/png": {
       "height": 270,
       "width": 430
      },
      "needs_background": "light"
     },
     "output_type": "display_data"
    }
   ],
   "source": [
    "plt.scatter(df['voids'], df['total_taxable_receipts'])\n",
    "plt.xlabel('voids', fontsize = 20)\n",
    "plt.ylabel('total taxable receipts', fontsize = 14);"
   ]
  },
  {
   "cell_type": "code",
   "execution_count": 21,
   "metadata": {},
   "outputs": [
    {
     "data": {
      "image/png": "[encoded data removed]",
      "text/plain": [
       "<Figure size 576x432 with 2 Axes>"
      ]
     },
     "metadata": {
      "image/png": {
       "height": 357,
       "width": 551
      },
      "needs_background": "light"
     },
     "output_type": "display_data"
    }
   ],
   "source": [
    "# Heatmap of the corrleations of features and revenue\n",
    "plt.figure(figsize = (8,6))\n",
    "sns.heatmap(df.corr()[[\"total_taxable_receipts\"]].sort_values(by = 'total_taxable_receipts', ascending = False),\n",
    "                            annot = True,\n",
    "                            cmap=\"RdBu\",\n",
    "                            vmin = -1,\n",
    "                            vmax = 1);"
   ]
  },
  {
   "cell_type": "code",
   "execution_count": 22,
   "metadata": {},
   "outputs": [],
   "source": [
    "# Add Interpretation\n",
    "\n"
   ]
  },
  {
   "cell_type": "markdown",
   "metadata": {},
   "source": [
    "#### Time Series Data Analysis"
   ]
  },
  {
   "cell_type": "code",
   "execution_count": null,
   "metadata": {},
   "outputs": [],
   "source": [
    "# Line plot for \"Total Taxable Receipts\" over time\n",
    "\n",
    "plt.figure(figsize=(8,6))\n",
    "plt.plot(total_taxable_receipts, color ='pink')\n",
    "plt.xticks(fontsize=12)\n",
    "plt.yticks(fontsize=12)\n",
    "\n",
    "# x-axis is time\n",
    "plt.xlabel('Date', fontsize=14)\n",
    "\n",
    "# y-axis is total taxable receipts\n",
    "plt.ylabel('Total Taxable Receipts', fontsize=14)\n",
    "\n",
    "plt.title('Total Taxable Receipts for West Virginia', fontsize=18);"
   ]
  },
  {
   "cell_type": "code",
   "execution_count": null,
   "metadata": {},
   "outputs": [],
   "source": [
    "# Calculating rolling means for Total Taxable Receipts\n",
    "\n",
    "rolling_mean_1  = total_taxable_receipts.rolling(window = 1).mean()\n",
    "rolling_mean_4 = total_taxable_receipts.rolling(window = 4).mean()\n",
    "rolling_mean_13 = total_taxable_receipts.rolling(window = 13).mean()"
   ]
  },
  {
   "cell_type": "code",
   "execution_count": null,
   "metadata": {},
   "outputs": [],
   "source": [
    "# Plot\n",
    "\n",
    "plt.figure(figsize=(18,12))\n",
    "plt.plot(rolling_mean_1, color='pink', label='Rolling Mean (1 week)')\n",
    "plt.plot(rolling_mean_4, color='blue', label='Rolling Mean (4 week)')\n",
    "plt.plot(rolling_mean_13, color='black', label='Rolling Mean (13 week)')\n",
    "\n",
    "plt.legend(loc='best')\n",
    "\n",
    "plt.title('Rolling Mean for 1, 4 and 13 Months')\n",
    "plt.show();"
   ]
  },
  {
   "cell_type": "markdown",
   "metadata": {},
   "source": [
    "1 week rolling mean: We see several significant spikes up and down over time. There is quite a large spike up in early September, and a very noticable spike down in late October, which has a large spike back following it, in early November. \n",
    "\n",
    "4 week rolling mean: We can see that there are changes over an approximate month of time. Those changes aren't steep spikes like the 1 week rolling mean line shows. but many less than the 1 week rolling mean line shows. The most noticable change is seen as an increase from September until November. This is when the NFL season gets underway.  \n",
    "\n",
    "13 week rolling mean: We use a 13-week rolling mean to represent an approximate season of the year. The line does not include signficant spikes, but we do see a considerable rise in total taxable receipts in the fall, during the NFL season, when MLB playoffs are underway, and when the NBA season is beginning.  "
   ]
  },
  {
   "cell_type": "code",
   "execution_count": null,
   "metadata": {},
   "outputs": [],
   "source": [
    "# Relationship between Total Taxable Receipts and 1-lag Total Taxable Receipts\n",
    "df[\"total_taxable_receipts\"].autocorr(lag=1)"
   ]
  },
  {
   "cell_type": "code",
   "execution_count": null,
   "metadata": {},
   "outputs": [],
   "source": [
    "# Relationship between Total Taxable Receipts and 4-lag Total Taxable Receipts\n",
    "df[\"total_taxable_receipts\"].autocorr(lag=2)"
   ]
  },
  {
   "cell_type": "code",
   "execution_count": null,
   "metadata": {},
   "outputs": [],
   "source": [
    "# Relationship between Total Taxable Receipts and 13-lag Total Taxable Receipts\n",
    "df[\"total_taxable_receipts\"].autocorr(lag=13)"
   ]
  },
  {
   "cell_type": "code",
   "execution_count": null,
   "metadata": {},
   "outputs": [],
   "source": [
    "df[\"total_taxable_receipts\"].autocorr(lag=50)"
   ]
  },
  {
   "cell_type": "code",
   "execution_count": null,
   "metadata": {},
   "outputs": [],
   "source": [
    "# Add interpretation"
   ]
  },
  {
   "cell_type": "markdown",
   "metadata": {},
   "source": [
    "#### Autocorrelation and Partial Autocorrelation Functions"
   ]
  },
  {
   "cell_type": "code",
   "execution_count": null,
   "metadata": {},
   "outputs": [],
   "source": [
    "# Using Autocorrelation and Partial Autocorrelation plots to help understand seasonality\n",
    "\n",
    "fig = plt.figure(figsize=(16,16))\n",
    "\n",
    "ax1 = fig.add_subplot(2,1,1)\n",
    "fig = plot_acf(df[['total_taxable_receipts']], lags=51, ax=ax1)\n",
    "\n",
    "ax2 = fig.add_subplot(2,1,2)\n",
    "fig = plot_pacf(df[['total_taxable_receipts']], lags=51, ax=ax2)\n",
    "plt.show();"
   ]
  },
  {
   "cell_type": "code",
   "execution_count": null,
   "metadata": {},
   "outputs": [],
   "source": [
    "# Add interpretation"
   ]
  },
  {
   "cell_type": "markdown",
   "metadata": {},
   "source": [
    "### Preprocessing"
   ]
  },
  {
   "cell_type": "markdown",
   "metadata": {},
   "source": [
    "#### Data Manipulation"
   ]
  },
  {
   "cell_type": "code",
   "execution_count": 23,
   "metadata": {},
   "outputs": [],
   "source": [
    "df.set_index('week_ending', inplace=True)"
   ]
  },
  {
   "cell_type": "code",
   "execution_count": 24,
   "metadata": {},
   "outputs": [],
   "source": [
    "total_taxable_receipts = pd.DataFrame(df['total_taxable_receipts'].groupby(df.index).sum())"
   ]
  },
  {
   "cell_type": "code",
   "execution_count": 25,
   "metadata": {},
   "outputs": [
    {
     "data": {
      "text/html": [
       "<div>\n",
       "<style scoped>\n",
       "    .dataframe tbody tr th:only-of-type {\n",
       "        vertical-align: middle;\n",
       "    }\n",
       "\n",
       "    .dataframe tbody tr th {\n",
       "        vertical-align: top;\n",
       "    }\n",
       "\n",
       "    .dataframe thead th {\n",
       "        text-align: right;\n",
       "    }\n",
       "</style>\n",
       "<table border=\"1\" class=\"dataframe\">\n",
       "  <thead>\n",
       "    <tr style=\"text-align: right;\">\n",
       "      <th></th>\n",
       "      <th>total_taxable_receipts</th>\n",
       "    </tr>\n",
       "    <tr>\n",
       "      <th>week_ending</th>\n",
       "      <th></th>\n",
       "    </tr>\n",
       "  </thead>\n",
       "  <tbody>\n",
       "    <tr>\n",
       "      <th>2019-01-05</th>\n",
       "      <td>264445</td>\n",
       "    </tr>\n",
       "    <tr>\n",
       "      <th>2019-01-12</th>\n",
       "      <td>310758</td>\n",
       "    </tr>\n",
       "    <tr>\n",
       "      <th>2019-01-19</th>\n",
       "      <td>519831</td>\n",
       "    </tr>\n",
       "    <tr>\n",
       "      <th>2019-01-26</th>\n",
       "      <td>-292867</td>\n",
       "    </tr>\n",
       "    <tr>\n",
       "      <th>2019-02-02</th>\n",
       "      <td>944066</td>\n",
       "    </tr>\n",
       "  </tbody>\n",
       "</table>\n",
       "</div>"
      ],
      "text/plain": [
       "             total_taxable_receipts\n",
       "week_ending                        \n",
       "2019-01-05                   264445\n",
       "2019-01-12                   310758\n",
       "2019-01-19                   519831\n",
       "2019-01-26                  -292867\n",
       "2019-02-02                   944066"
      ]
     },
     "execution_count": 25,
     "metadata": {},
     "output_type": "execute_result"
    }
   ],
   "source": [
    "df[['total_taxable_receipts']].head()"
   ]
  },
  {
   "cell_type": "markdown",
   "metadata": {},
   "source": [
    "#### Train-Test-Split"
   ]
  },
  {
   "cell_type": "code",
   "execution_count": 38,
   "metadata": {},
   "outputs": [],
   "source": [
    "# Using a 75-25 split, our training set will be 39 rows and our test will be 13 rows\n",
    "\n",
    "train = df.iloc[:40,]\n",
    "test = df.iloc[40:,]"
   ]
  },
  {
   "cell_type": "code",
   "execution_count": 39,
   "metadata": {},
   "outputs": [],
   "source": [
    "def train_test_plot(train, test):\n",
    "    plt.figure(figsize=(16, 8))\n",
    "    plt.plot(train, c='pink')\n",
    "    plt.plot(test, c='blue');"
   ]
  },
  {
   "cell_type": "code",
   "execution_count": 40,
   "metadata": {
    "scrolled": true
   },
   "outputs": [
    {
     "data": {
      "image/png": "[encoded data removed]",
      "text/plain": [
       "<Figure size 1152x576 with 1 Axes>"
      ]
     },
     "metadata": {
      "image/png": {
       "height": 465,
       "width": 958
      },
      "needs_background": "light"
     },
     "output_type": "display_data"
    }
   ],
   "source": [
    "train_test_plot(train[['total_taxable_receipts']], test[['total_taxable_receipts']])"
   ]
  },
  {
   "cell_type": "code",
   "execution_count": 41,
   "metadata": {},
   "outputs": [
    {
     "data": {
      "text/html": [
       "<div>\n",
       "<style scoped>\n",
       "    .dataframe tbody tr th:only-of-type {\n",
       "        vertical-align: middle;\n",
       "    }\n",
       "\n",
       "    .dataframe tbody tr th {\n",
       "        vertical-align: top;\n",
       "    }\n",
       "\n",
       "    .dataframe thead th {\n",
       "        text-align: right;\n",
       "    }\n",
       "</style>\n",
       "<table border=\"1\" class=\"dataframe\">\n",
       "  <thead>\n",
       "    <tr style=\"text-align: right;\">\n",
       "      <th></th>\n",
       "      <th>tickets_written</th>\n",
       "      <th>voids</th>\n",
       "      <th>tickets_cashed</th>\n",
       "      <th>mobile_taxable_receipts</th>\n",
       "      <th>retail_taxable_receipts</th>\n",
       "      <th>total_taxable_receipts</th>\n",
       "      <th>privilege_tax</th>\n",
       "      <th>admin_share</th>\n",
       "      <th>state_share</th>\n",
       "    </tr>\n",
       "    <tr>\n",
       "      <th>week_ending</th>\n",
       "      <th></th>\n",
       "      <th></th>\n",
       "      <th></th>\n",
       "      <th></th>\n",
       "      <th></th>\n",
       "      <th></th>\n",
       "      <th></th>\n",
       "      <th></th>\n",
       "      <th></th>\n",
       "    </tr>\n",
       "  </thead>\n",
       "  <tbody>\n",
       "    <tr>\n",
       "      <th>2019-01-05</th>\n",
       "      <td>4796300</td>\n",
       "      <td>154935</td>\n",
       "      <td>4376920</td>\n",
       "      <td>54089.000</td>\n",
       "      <td>210356</td>\n",
       "      <td>264445</td>\n",
       "      <td>26445</td>\n",
       "      <td>3967</td>\n",
       "      <td>22478</td>\n",
       "    </tr>\n",
       "    <tr>\n",
       "      <th>2019-01-12</th>\n",
       "      <td>4860953</td>\n",
       "      <td>138666</td>\n",
       "      <td>4411529</td>\n",
       "      <td>21356.000</td>\n",
       "      <td>289402</td>\n",
       "      <td>310758</td>\n",
       "      <td>31076</td>\n",
       "      <td>4661</td>\n",
       "      <td>26414</td>\n",
       "    </tr>\n",
       "    <tr>\n",
       "      <th>2019-01-19</th>\n",
       "      <td>4167883</td>\n",
       "      <td>75981</td>\n",
       "      <td>3572071</td>\n",
       "      <td>122956.000</td>\n",
       "      <td>396875</td>\n",
       "      <td>519831</td>\n",
       "      <td>51983</td>\n",
       "      <td>7797</td>\n",
       "      <td>44186</td>\n",
       "    </tr>\n",
       "    <tr>\n",
       "      <th>2019-01-26</th>\n",
       "      <td>3983320</td>\n",
       "      <td>73280</td>\n",
       "      <td>4202907</td>\n",
       "      <td>6185.000</td>\n",
       "      <td>-299052</td>\n",
       "      <td>-292867</td>\n",
       "      <td>-29287</td>\n",
       "      <td>-4393</td>\n",
       "      <td>-24894</td>\n",
       "    </tr>\n",
       "    <tr>\n",
       "      <th>2019-02-02</th>\n",
       "      <td>4622730</td>\n",
       "      <td>93425</td>\n",
       "      <td>3585239</td>\n",
       "      <td>81104.000</td>\n",
       "      <td>862961</td>\n",
       "      <td>944066</td>\n",
       "      <td>94407</td>\n",
       "      <td>14161</td>\n",
       "      <td>80246</td>\n",
       "    </tr>\n",
       "  </tbody>\n",
       "</table>\n",
       "</div>"
      ],
      "text/plain": [
       "             tickets_written   voids  tickets_cashed  mobile_taxable_receipts  \\\n",
       "week_ending                                                                     \n",
       "2019-01-05           4796300  154935         4376920                54089.000   \n",
       "2019-01-12           4860953  138666         4411529                21356.000   \n",
       "2019-01-19           4167883   75981         3572071               122956.000   \n",
       "2019-01-26           3983320   73280         4202907                 6185.000   \n",
       "2019-02-02           4622730   93425         3585239                81104.000   \n",
       "\n",
       "             retail_taxable_receipts  total_taxable_receipts  privilege_tax  \\\n",
       "week_ending                                                                   \n",
       "2019-01-05                    210356                  264445          26445   \n",
       "2019-01-12                    289402                  310758          31076   \n",
       "2019-01-19                    396875                  519831          51983   \n",
       "2019-01-26                   -299052                 -292867         -29287   \n",
       "2019-02-02                    862961                  944066          94407   \n",
       "\n",
       "             admin_share  state_share  \n",
       "week_ending                            \n",
       "2019-01-05          3967        22478  \n",
       "2019-01-12          4661        26414  \n",
       "2019-01-19          7797        44186  \n",
       "2019-01-26         -4393       -24894  \n",
       "2019-02-02         14161        80246  "
      ]
     },
     "execution_count": 41,
     "metadata": {},
     "output_type": "execute_result"
    }
   ],
   "source": [
    "train.head()\n",
    "\n",
    "#remove"
   ]
  },
  {
   "cell_type": "code",
   "execution_count": 42,
   "metadata": {
    "scrolled": true
   },
   "outputs": [
    {
     "data": {
      "text/html": [
       "<div>\n",
       "<style scoped>\n",
       "    .dataframe tbody tr th:only-of-type {\n",
       "        vertical-align: middle;\n",
       "    }\n",
       "\n",
       "    .dataframe tbody tr th {\n",
       "        vertical-align: top;\n",
       "    }\n",
       "\n",
       "    .dataframe thead th {\n",
       "        text-align: right;\n",
       "    }\n",
       "</style>\n",
       "<table border=\"1\" class=\"dataframe\">\n",
       "  <thead>\n",
       "    <tr style=\"text-align: right;\">\n",
       "      <th></th>\n",
       "      <th>tickets_written</th>\n",
       "      <th>voids</th>\n",
       "      <th>tickets_cashed</th>\n",
       "      <th>mobile_taxable_receipts</th>\n",
       "      <th>retail_taxable_receipts</th>\n",
       "      <th>total_taxable_receipts</th>\n",
       "      <th>privilege_tax</th>\n",
       "      <th>admin_share</th>\n",
       "      <th>state_share</th>\n",
       "    </tr>\n",
       "    <tr>\n",
       "      <th>week_ending</th>\n",
       "      <th></th>\n",
       "      <th></th>\n",
       "      <th></th>\n",
       "      <th></th>\n",
       "      <th></th>\n",
       "      <th></th>\n",
       "      <th></th>\n",
       "      <th></th>\n",
       "      <th></th>\n",
       "    </tr>\n",
       "  </thead>\n",
       "  <tbody>\n",
       "    <tr>\n",
       "      <th>2019-10-12</th>\n",
       "      <td>4478463</td>\n",
       "      <td>106603</td>\n",
       "      <td>6294572</td>\n",
       "      <td>406581.000</td>\n",
       "      <td>947614</td>\n",
       "      <td>1354195</td>\n",
       "      <td>135419</td>\n",
       "      <td>20313</td>\n",
       "      <td>115107</td>\n",
       "    </tr>\n",
       "    <tr>\n",
       "      <th>2019-10-19</th>\n",
       "      <td>3680379</td>\n",
       "      <td>94887</td>\n",
       "      <td>6082278</td>\n",
       "      <td>364190.000</td>\n",
       "      <td>214308</td>\n",
       "      <td>578497</td>\n",
       "      <td>57850</td>\n",
       "      <td>8677</td>\n",
       "      <td>49172</td>\n",
       "    </tr>\n",
       "    <tr>\n",
       "      <th>2019-10-26</th>\n",
       "      <td>4341311</td>\n",
       "      <td>82103</td>\n",
       "      <td>6399568</td>\n",
       "      <td>601782.000</td>\n",
       "      <td>765826</td>\n",
       "      <td>1367608</td>\n",
       "      <td>136761</td>\n",
       "      <td>20514</td>\n",
       "      <td>116247</td>\n",
       "    </tr>\n",
       "    <tr>\n",
       "      <th>2019-11-02</th>\n",
       "      <td>4165581</td>\n",
       "      <td>63569</td>\n",
       "      <td>9404206</td>\n",
       "      <td>-571570.000</td>\n",
       "      <td>-844841</td>\n",
       "      <td>-1416411</td>\n",
       "      <td>-141641</td>\n",
       "      <td>-21246</td>\n",
       "      <td>-120395</td>\n",
       "    </tr>\n",
       "    <tr>\n",
       "      <th>2019-11-09</th>\n",
       "      <td>4088691</td>\n",
       "      <td>88871</td>\n",
       "      <td>7335286</td>\n",
       "      <td>576236.000</td>\n",
       "      <td>348871</td>\n",
       "      <td>925107</td>\n",
       "      <td>92511</td>\n",
       "      <td>13877</td>\n",
       "      <td>78634</td>\n",
       "    </tr>\n",
       "  </tbody>\n",
       "</table>\n",
       "</div>"
      ],
      "text/plain": [
       "             tickets_written   voids  tickets_cashed  mobile_taxable_receipts  \\\n",
       "week_ending                                                                     \n",
       "2019-10-12           4478463  106603         6294572               406581.000   \n",
       "2019-10-19           3680379   94887         6082278               364190.000   \n",
       "2019-10-26           4341311   82103         6399568               601782.000   \n",
       "2019-11-02           4165581   63569         9404206              -571570.000   \n",
       "2019-11-09           4088691   88871         7335286               576236.000   \n",
       "\n",
       "             retail_taxable_receipts  total_taxable_receipts  privilege_tax  \\\n",
       "week_ending                                                                   \n",
       "2019-10-12                    947614                 1354195         135419   \n",
       "2019-10-19                    214308                  578497          57850   \n",
       "2019-10-26                    765826                 1367608         136761   \n",
       "2019-11-02                   -844841                -1416411        -141641   \n",
       "2019-11-09                    348871                  925107          92511   \n",
       "\n",
       "             admin_share  state_share  \n",
       "week_ending                            \n",
       "2019-10-12         20313       115107  \n",
       "2019-10-19          8677        49172  \n",
       "2019-10-26         20514       116247  \n",
       "2019-11-02        -21246      -120395  \n",
       "2019-11-09         13877        78634  "
      ]
     },
     "execution_count": 42,
     "metadata": {},
     "output_type": "execute_result"
    }
   ],
   "source": [
    "test.head()\n",
    "\n",
    "#remove"
   ]
  },
  {
   "cell_type": "markdown",
   "metadata": {},
   "source": [
    "### Modeling"
   ]
  },
  {
   "cell_type": "markdown",
   "metadata": {},
   "source": [
    "#### Autoregressive Modeling"
   ]
  },
  {
   "cell_type": "code",
   "execution_count": 126,
   "metadata": {},
   "outputs": [],
   "source": [
    "# Talk to Boom about this: Source\n",
    "\n",
    "# Split training data into train values and dates\n",
    "\n",
    "train_vals = train['total_taxable_receipts'].values\n",
    "train_dates = train.index"
   ]
  },
  {
   "cell_type": "code",
   "execution_count": 127,
   "metadata": {},
   "outputs": [],
   "source": [
    "# Talk to Boom about this: Source\n",
    "\n",
    "AR1 = ARIMA(endog = train_values,\n",
    "              dates = train.index,\n",
    "              order = (1,0,0)).fit()"
   ]
  },
  {
   "cell_type": "code",
   "execution_count": 128,
   "metadata": {},
   "outputs": [],
   "source": [
    "# Split test data into values and dates\n",
    "test_vals = test['total_taxable_receipts'].values\n",
    "test_dates  = test.index"
   ]
  },
  {
   "cell_type": "code",
   "execution_count": 129,
   "metadata": {},
   "outputs": [],
   "source": [
    "# Create start and end dates for predictions\n",
    "start = test.index[0]\n",
    "end = test.index[-1]"
   ]
  },
  {
   "cell_type": "code",
   "execution_count": 130,
   "metadata": {},
   "outputs": [],
   "source": [
    "AR1_pred = AR1.predict(start = start,\n",
    "                       end = end)"
   ]
  },
  {
   "cell_type": "code",
   "execution_count": 131,
   "metadata": {},
   "outputs": [],
   "source": [
    "# Put predictions into a dataframe with a date range\n",
    "\n",
    "date_list =  pd.date_range(start, periods=12, freq ='W')\n",
    "predictions = pd.DataFrame(AR1_pred, index=date_list, columns = ['total_taxable_receipts'])"
   ]
  },
  {
   "cell_type": "code",
   "execution_count": 142,
   "metadata": {},
   "outputs": [
    {
     "name": "stdout",
     "output_type": "stream",
     "text": [
      "Our Baseline Model has a Root Mean Squared Error of: 699780.8352595273\n"
     ]
    }
   ],
   "source": [
    "# Calculate and print RMSE\n",
    "ar_rmse = mean_squared_error(test_vals, predictions) **.5\n",
    "print(f'Our Baseline Model has a Root Mean Squared Error of: {rmse}')"
   ]
  },
  {
   "cell_type": "code",
   "execution_count": 143,
   "metadata": {},
   "outputs": [
    {
     "name": "stdout",
     "output_type": "stream",
     "text": [
      "Minimum TTR: -1416411\n",
      "Maximum TTR: 1664244\n"
     ]
    }
   ],
   "source": [
    "\n",
    "# Look at min and max total taxable receipts, as well as how our MSE compares to them\n",
    "\n",
    "print(f'Minimum TTR: {total_taxable_receipts[\"total_taxable_receipts\"].min()}')\n",
    "print(f'Maximum TTR: {total_taxable_receipts[\"total_taxable_receipts\"].max()}')"
   ]
  },
  {
   "cell_type": "code",
   "execution_count": 144,
   "metadata": {},
   "outputs": [
    {
     "name": "stdout",
     "output_type": "stream",
     "text": [
      "MSE relative to minimum values in series: -0.4940521044100387\n",
      "MSE relative to maximum values in series: 0.42047971046284516\n"
     ]
    }
   ],
   "source": [
    "#Look at how our RMSE compares to the minimum and maximum total taxable receipts\n",
    "\n",
    "print(f'MSE relative to minimum values in series: {rmse / total_taxable_receipts[\"total_taxable_receipts\"].min()}')\n",
    "print(f'MSE relative to maximum values in series: {rmse / total_taxable_receipts[\"total_taxable_receipts\"].max()}')"
   ]
  },
  {
   "cell_type": "code",
   "execution_count": null,
   "metadata": {},
   "outputs": [],
   "source": []
  },
  {
   "cell_type": "markdown",
   "metadata": {},
   "source": [
    "#### SARIMAX Modeling"
   ]
  },
  {
   "cell_type": "code",
   "execution_count": 134,
   "metadata": {},
   "outputs": [
    {
     "name": "stdout",
     "output_type": "stream",
     "text": [
      "P,D,Q values: ((0, 0, 0)), Root Mean Squared Error: 673483.0205334281\n",
      "P,D,Q values: ((0, 0, 1)), Root Mean Squared Error: 667225.076936715\n",
      "P,D,Q values: ((0, 0, 2)), Root Mean Squared Error: 663370.5729713754\n",
      "P,D,Q values: ((0, 1, 0)), Root Mean Squared Error: 1066851.7770107265\n",
      "P,D,Q values: ((0, 1, 1)), Root Mean Squared Error: 749649.0047628373\n",
      "P,D,Q values: ((0, 1, 2)), Root Mean Squared Error: 767938.7114808777\n",
      "P,D,Q values: ((1, 0, 0)), Root Mean Squared Error: 665858.6789678294\n",
      "P,D,Q values: ((1, 0, 1)), Root Mean Squared Error: 739505.2550290797\n",
      "P,D,Q values: ((1, 0, 2)), Root Mean Squared Error: 677071.4807066517\n",
      "P,D,Q values: ((1, 1, 0)), Root Mean Squared Error: 931039.6593838688\n",
      "P,D,Q values: ((1, 1, 1)), Root Mean Squared Error: 771060.0505427652\n",
      "P,D,Q values: ((1, 1, 2)), Root Mean Squared Error: 767245.0437204007\n",
      "P,D,Q values: ((2, 0, 0)), Root Mean Squared Error: 675548.3052874246\n",
      "P,D,Q values: ((2, 0, 1)), Root Mean Squared Error: 768936.6732635977\n",
      "P,D,Q values: ((2, 0, 2)), Root Mean Squared Error: 793736.9201900421\n",
      "P,D,Q values: ((2, 1, 0)), Root Mean Squared Error: 855811.3119619637\n",
      "P,D,Q values: ((2, 1, 1)), Root Mean Squared Error: 769851.2098000145\n",
      "P,D,Q values: ((2, 1, 2)), Root Mean Squared Error: 756684.1176825835\n",
      "-----------------------------------------------------------------------\n",
      "Best RMSE achieved: 663370.5729713754 with these p,d,q values: (0, 0, 2)\n"
     ]
    }
   ],
   "source": [
    "# We will loop through ranges to find the optimal number of autoregressive terms (p),\n",
    "# the number of nonseasonal differences (d) and the number of the moving-average terms (q)\n",
    "# looping idea from Jason Brownlee\n",
    "\n",
    "\n",
    "old_score = 1000000000000000000000\n",
    "\n",
    "for p in range(3):\n",
    "    for d in range(2):\n",
    "        for q in range(3):\n",
    "                # instantiate SARIMAX model\n",
    "                model = SARIMAX(endog = train['total_taxable_receipts'],\n",
    "                                exog = train[['tickets_written', 'voids']],\n",
    "                                order = (p,d,q),\n",
    "                                seasonal_order = (0,0,0,0)).fit()\n",
    "                # predict\n",
    "                y_hat = model.predict(start = test.index[0], \n",
    "                          end = test.index[-1],\n",
    "                          exog = test[['tickets_written', 'voids']])\n",
    "                \n",
    "                # score using root mean squared error\n",
    "                saved_score = mean_squared_error(test['total_taxable_receipts'].values, y_hat)**.5\n",
    "                \n",
    "                # print scores & parameters\n",
    "                print(f'P,D,Q values: ({p,d,q}), Root Mean Squared Error: {saved_score}')\n",
    "                \n",
    "                # finding and using our best score\n",
    "                if saved_score < old_score:\n",
    "                    old_score = saved_score\n",
    "                    best_params = (p,d,q)\n",
    "                    \n",
    "# print our best score and associated parameters\n",
    "print('-----------------------------------------------------------------------')\n",
    "print(f'Best RMSE achieved: {old_score} with these p,d,q values: {best_params}')"
   ]
  },
  {
   "cell_type": "code",
   "execution_count": 135,
   "metadata": {},
   "outputs": [],
   "source": [
    "final_model = SARIMAX(endog = train['total_taxable_receipts'],\n",
    "                 exog = train[['tickets_written', 'voids']],\n",
    "                 order = (0,0,2),\n",
    "                 seasonal_order = (0,0,0,0)).fit()"
   ]
  },
  {
   "cell_type": "code",
   "execution_count": 136,
   "metadata": {},
   "outputs": [],
   "source": [
    "# Use this if we include exongenous features\n",
    "y_hat = final_model.predict(start = test.index[0], \n",
    "                          end = test.index[-1],\n",
    "                          exog = test[['tickets_written', 'voids']])"
   ]
  },
  {
   "cell_type": "code",
   "execution_count": 137,
   "metadata": {
    "scrolled": true
   },
   "outputs": [
    {
     "data": {
      "text/plain": [
       "<bound method Series.round of 2019-10-12   655655.383\n",
       "2019-10-19   576385.478\n",
       "2019-10-26   465475.306\n",
       "2019-11-02   418510.921\n",
       "2019-11-09   459735.790\n",
       "2019-11-16   416379.892\n",
       "2019-11-23   433355.872\n",
       "2019-11-30   525360.163\n",
       "2019-12-07   421958.188\n",
       "2019-12-14   470823.825\n",
       "2019-12-21   459984.966\n",
       "2019-12-28   466674.296\n",
       "Freq: W-SAT, dtype: float64>"
      ]
     },
     "execution_count": 137,
     "metadata": {},
     "output_type": "execute_result"
    }
   ],
   "source": [
    "y_hat.round"
   ]
  },
  {
   "cell_type": "code",
   "execution_count": 146,
   "metadata": {
    "scrolled": true
   },
   "outputs": [
    {
     "data": {
      "text/plain": [
       "663370.5729713754"
      ]
     },
     "execution_count": 146,
     "metadata": {},
     "output_type": "execute_result"
    }
   ],
   "source": [
    "sarimax_rmse = mean_squared_error(test['total_taxable_receipts'].values, y_hat)**.5\n",
    "sarimax_rmse"
   ]
  },
  {
   "cell_type": "code",
   "execution_count": null,
   "metadata": {},
   "outputs": [],
   "source": []
  },
  {
   "cell_type": "code",
   "execution_count": null,
   "metadata": {},
   "outputs": [],
   "source": [
    "# The cells below was one idea of a baseline.... likely remove"
   ]
  },
  {
   "cell_type": "code",
   "execution_count": 139,
   "metadata": {},
   "outputs": [],
   "source": [
    "train_mean = train['total_taxable_receipts'].mean()"
   ]
  },
  {
   "cell_type": "code",
   "execution_count": 140,
   "metadata": {},
   "outputs": [],
   "source": [
    "baseline_preds = [train_mean for i in test['total_taxable_receipts']]"
   ]
  },
  {
   "cell_type": "code",
   "execution_count": 141,
   "metadata": {},
   "outputs": [
    {
     "data": {
      "text/plain": [
       "724164.1823981728"
      ]
     },
     "execution_count": 141,
     "metadata": {},
     "output_type": "execute_result"
    }
   ],
   "source": [
    "mean_squared_error(test['total_taxable_receipts'].values, baseline_preds)**0.5"
   ]
  },
  {
   "cell_type": "markdown",
   "metadata": {},
   "source": [
    "#### Model Comparison"
   ]
  },
  {
   "cell_type": "code",
   "execution_count": 147,
   "metadata": {},
   "outputs": [
    {
     "name": "stdout",
     "output_type": "stream",
     "text": [
      "AR Model RMSE: 699780.8352595273\n",
      "SARIMAX Model RMSE: 663370.5729713754\n"
     ]
    }
   ],
   "source": [
    "print(f'AR Model RMSE: {ar_rmse}')\n",
    "print(f'SARIMAX Model RMSE: {sarimax_rmse}')"
   ]
  },
  {
   "cell_type": "markdown",
   "metadata": {},
   "source": [
    "Our score improved as seen by the reduction in RMSE from our AR model to our SARIMAX model"
   ]
  },
  {
   "cell_type": "code",
   "execution_count": null,
   "metadata": {},
   "outputs": [],
   "source": []
  },
  {
   "cell_type": "code",
   "execution_count": null,
   "metadata": {},
   "outputs": [],
   "source": []
  },
  {
   "cell_type": "code",
   "execution_count": null,
   "metadata": {},
   "outputs": [],
   "source": [
    "# https://machinelearningmastery.com/how-to-grid-search-sarima-model-hyperparameters-for-time-series-forecasting-in-python/\n"
   ]
  },
  {
   "cell_type": "markdown",
   "metadata": {},
   "source": [
    "Model configurations and the RMSE are printed as the models are evaluated The top three model configurations and their error are reported at the end of the run.\n",
    "\n",
    "We can see that the best result was an RMSE of about 1,551 sales with the following configuration:\n",
    "\n",
    "Trend Order: (0, 0, 0)\n",
    "Seasonal Order: (1, 1, 0, 12)\n",
    "Trend Parameter: ‘t’ (linear trend)"
   ]
  },
  {
   "cell_type": "code",
   "execution_count": null,
   "metadata": {},
   "outputs": [],
   "source": [
    "from pylab import rcParams\n",
    "import warnings\n",
    "import itertools\n",
    "import numpy as np\n",
    "import matplotlib.pyplot as plt\n",
    "warnings.filterwarnings(\"ignore\")\n",
    "plt.style.use('fivethirtyeight')\n",
    "import pandas as pd\n",
    "import statsmodels.api as sm\n",
    "import matplotlib\n",
    "matplotlib.rcParams['axes.labelsize'] = 14\n",
    "matplotlib.rcParams['xtick.labelsize'] = 12\n",
    "matplotlib.rcParams['ytick.labelsize'] = 12\n",
    "matplotlib.rcParams['text.color'] = 'G'"
   ]
  },
  {
   "cell_type": "code",
   "execution_count": null,
   "metadata": {
    "scrolled": false
   },
   "outputs": [],
   "source": [
    "df.plot(figsize=(20, 10))\n",
    "plt.show()"
   ]
  },
  {
   "cell_type": "code",
   "execution_count": null,
   "metadata": {},
   "outputs": [],
   "source": [
    "p = d = q = range(0, 2)\n",
    "pdq = list(itertools.product(p, d, q))\n",
    "seasonal_pdq = [(x[0], x[1], x[2], 12) for x in list(itertools.product(p, d, q))]\n",
    "print('Examples of parameter for SARIMA...')\n",
    "print('SARIMAX: {} x {}'.format(pdq[1], seasonal_pdq[1]))\n",
    "print('SARIMAX: {} x {}'.format(pdq[1], seasonal_pdq[2]))\n",
    "print('SARIMAX: {} x {}'.format(pdq[2], seasonal_pdq[3]))\n",
    "print('SARIMAX: {} x {}'.format(pdq[2], seasonal_pdq[4]))"
   ]
  },
  {
   "cell_type": "markdown",
   "metadata": {},
   "source": [
    "Using the “sm.tsa.seasonal_decompose” command from the pylab library we can decompose the time-series into three distinct components: trend, seasonality, and noise."
   ]
  },
  {
   "cell_type": "code",
   "execution_count": null,
   "metadata": {},
   "outputs": [],
   "source": [
    "# Plotting all of the features in the data over the 52 weeks the data includes\n",
    "\n",
    "df.plot(figsize = (10, 8))\n",
    "plt.xlabel('2019', fontsize = 20)\n",
    "plt.ylabel('Total Taxable Receipts', fontsize = 14)\n",
    "plt.title(\"Non-Revenue Features Correlation\", fontsize = 18)\n",
    "plt.show();"
   ]
  },
  {
   "cell_type": "code",
   "execution_count": null,
   "metadata": {},
   "outputs": [],
   "source": []
  },
  {
   "cell_type": "markdown",
   "metadata": {},
   "source": [
    "### Conclusions and Recommendations"
   ]
  },
  {
   "cell_type": "code",
   "execution_count": null,
   "metadata": {},
   "outputs": [],
   "source": []
  },
  {
   "cell_type": "code",
   "execution_count": null,
   "metadata": {},
   "outputs": [],
   "source": []
  },
  {
   "cell_type": "code",
   "execution_count": null,
   "metadata": {},
   "outputs": [],
   "source": []
  },
  {
   "cell_type": "code",
   "execution_count": null,
   "metadata": {},
   "outputs": [],
   "source": []
  }
 ],
 "metadata": {
  "kernelspec": {
   "display_name": "Python 3",
   "language": "python",
   "name": "python3"
  },
  "language_info": {
   "codemirror_mode": {
    "name": "ipython",
    "version": 3
   },
   "file_extension": ".py",
   "mimetype": "text/x-python",
   "name": "python",
   "nbconvert_exporter": "python",
   "pygments_lexer": "ipython3",
   "version": "3.7.4"
  }
 },
 "nbformat": 4,
 "nbformat_minor": 2
}
