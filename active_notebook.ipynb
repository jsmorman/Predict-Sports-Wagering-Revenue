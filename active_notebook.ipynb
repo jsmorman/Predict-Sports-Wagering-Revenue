{
 "cells": [
  {
   "cell_type": "markdown",
   "metadata": {},
   "source": [
    "# Capstone Project: Predicting additional tax revenue for the state of Connecticut if sports wagering is legalized"
   ]
  },
  {
   "cell_type": "markdown",
   "metadata": {},
   "source": [
    "## Problem Statement"
   ]
  },
  {
   "cell_type": "markdown",
   "metadata": {},
   "source": [
    "The State Legislature of Connecticut is reviewing a bill to legalize sports wagering within the state. The State Legislature must carefully weigh pros and cons when deciding pass or reject the bill. If they pass the bill, the bill moves on to the Sentate for final approval. If the Senate approves, Connecticut would become the 12th state in the United States where sports wagering has been legalized.\n",
    "\n",
    "A major consideration by the State Legislature is the potential revenue gain in the State General fund. All sources of gaming share revenue with the state and make transfers into the State General fund at the end of the fiscal year. While sports wagering itsself is likely to bring in new revenue for the state, the state must consider reductions in other revenue streams that the new sports wagering revenue stream may cause. \n",
    "\n",
    "Using Sports Wagering year-end reports we have for each state where sports wagering was legal in 2019 as well as state annual reports showing other streams of revenue, we will build and leverage an unsupervised linear regression model that will help predict if legazing sports wagering will lead to an increase or decrease in total revenue for Connecticut, using the other states as prototypes. After modeling, we will exmaine the model's mean squared error, helping us determine the success of the model. Our goal is to provide the state with a model that can predict revenue as closely as possible, giving the state more confidence to make their decision more clear."
   ]
  },
  {
   "cell_type": "code",
   "execution_count": 1,
   "metadata": {},
   "outputs": [],
   "source": [
    "import numpy as np\n",
    "import pandas as pd\n",
    "import matplotlib.pyplot as plt\n",
    "import regex as re\n",
    "import seaborn as sns\n",
    "\n",
    "from sklearn.model_selection import cross_val_score\n",
    "from sklearn.linear_model import LinearRegression\n",
    "from sklearn.decomposition import PCA\n",
    "from sklearn.preprocessing import StandardScaler\n",
    "from sklearn.preprocessing import PolynomialFeatures\n",
    "from sklearn.cluster import KMeans\n",
    "from sklearn.metrics import silhouette_score\n",
    "\n",
    "from statsmodels.graphics.tsaplots import plot_acf,plot_pacf\n",
    "from statsmodels.tsa.arima_model import ARIMA, ARMA\n",
    "from statsmodels.tsa.statespace.sarimax import SARIMAX\n",
    "from sklearn.metrics import mean_absolute_error\n",
    "from statsmodels.tsa.stattools import adfuller  \n",
    "from sklearn.metrics import mean_squared_error\n",
    "from sklearn.model_selection import train_test_split\n",
    "pd.set_option('display.float_format', lambda x: '%.3f' % x)\n",
    "\n",
    "np.random.seed(42)\n",
    "sns.set_style(\"whitegrid\")\n",
    "\n",
    "%matplotlib inline\n",
    "%config InlineBackend.figure_format = 'retina'"
   ]
  },
  {
   "cell_type": "code",
   "execution_count": 2,
   "metadata": {},
   "outputs": [],
   "source": [
    "df = pd.read_csv('./data/wv_combined.csv')"
   ]
  },
  {
   "cell_type": "markdown",
   "metadata": {},
   "source": [
    "## Cleaning / EDA"
   ]
  },
  {
   "cell_type": "code",
   "execution_count": 3,
   "metadata": {},
   "outputs": [
    {
     "name": "stdout",
     "output_type": "stream",
     "text": [
      "<class 'pandas.core.frame.DataFrame'>\n",
      "RangeIndex: 53 entries, 0 to 52\n",
      "Data columns (total 10 columns):\n",
      "week_ending                53 non-null object\n",
      "tickets_written            53 non-null int64\n",
      " voids                     53 non-null int64\n",
      "tickets_cashed             53 non-null int64\n",
      "mobile_taxable_receipts    31 non-null float64\n",
      "retail_taxable_receipts    53 non-null int64\n",
      "total_taxable_receipts     53 non-null int64\n",
      "privilege_tax              53 non-null int64\n",
      "admin_share                53 non-null int64\n",
      "state_share                53 non-null int64\n",
      "dtypes: float64(1), int64(8), object(1)\n",
      "memory usage: 4.3+ KB\n"
     ]
    }
   ],
   "source": [
    "df.info()"
   ]
  },
  {
   "cell_type": "code",
   "execution_count": 4,
   "metadata": {},
   "outputs": [
    {
     "data": {
      "text/plain": [
       "Index(['week_ending', 'tickets_written', ' voids ', 'tickets_cashed',\n",
       "       'mobile_taxable_receipts', 'retail_taxable_receipts',\n",
       "       'total_taxable_receipts', 'privilege_tax', 'admin_share',\n",
       "       'state_share'],\n",
       "      dtype='object')"
      ]
     },
     "execution_count": 4,
     "metadata": {},
     "output_type": "execute_result"
    }
   ],
   "source": [
    "df.columns"
   ]
  },
  {
   "cell_type": "code",
   "execution_count": 5,
   "metadata": {},
   "outputs": [
    {
     "data": {
      "text/plain": [
       "(53, 10)"
      ]
     },
     "execution_count": 5,
     "metadata": {},
     "output_type": "execute_result"
    }
   ],
   "source": [
    "df.shape"
   ]
  },
  {
   "cell_type": "code",
   "execution_count": 6,
   "metadata": {
    "scrolled": true
   },
   "outputs": [
    {
     "data": {
      "text/html": [
       "<div>\n",
       "<style scoped>\n",
       "    .dataframe tbody tr th:only-of-type {\n",
       "        vertical-align: middle;\n",
       "    }\n",
       "\n",
       "    .dataframe tbody tr th {\n",
       "        vertical-align: top;\n",
       "    }\n",
       "\n",
       "    .dataframe thead th {\n",
       "        text-align: right;\n",
       "    }\n",
       "</style>\n",
       "<table border=\"1\" class=\"dataframe\">\n",
       "  <thead>\n",
       "    <tr style=\"text-align: right;\">\n",
       "      <th></th>\n",
       "      <th>tickets_written</th>\n",
       "      <th>voids</th>\n",
       "      <th>tickets_cashed</th>\n",
       "      <th>mobile_taxable_receipts</th>\n",
       "      <th>retail_taxable_receipts</th>\n",
       "      <th>total_taxable_receipts</th>\n",
       "      <th>privilege_tax</th>\n",
       "      <th>admin_share</th>\n",
       "      <th>state_share</th>\n",
       "    </tr>\n",
       "  </thead>\n",
       "  <tbody>\n",
       "    <tr>\n",
       "      <th>count</th>\n",
       "      <td>53.000</td>\n",
       "      <td>53.000</td>\n",
       "      <td>53.000</td>\n",
       "      <td>31.000</td>\n",
       "      <td>53.000</td>\n",
       "      <td>53.000</td>\n",
       "      <td>53.000</td>\n",
       "      <td>53.000</td>\n",
       "      <td>53.000</td>\n",
       "    </tr>\n",
       "    <tr>\n",
       "      <th>mean</th>\n",
       "      <td>3195297.132</td>\n",
       "      <td>68707.057</td>\n",
       "      <td>3834779.019</td>\n",
       "      <td>170215.161</td>\n",
       "      <td>261617.094</td>\n",
       "      <td>361176.925</td>\n",
       "      <td>36117.679</td>\n",
       "      <td>5417.642</td>\n",
       "      <td>30700.075</td>\n",
       "    </tr>\n",
       "    <tr>\n",
       "      <th>std</th>\n",
       "      <td>1182310.138</td>\n",
       "      <td>31901.788</td>\n",
       "      <td>2274218.808</td>\n",
       "      <td>221671.646</td>\n",
       "      <td>372453.863</td>\n",
       "      <td>499461.807</td>\n",
       "      <td>49946.174</td>\n",
       "      <td>7491.924</td>\n",
       "      <td>42454.302</td>\n",
       "    </tr>\n",
       "    <tr>\n",
       "      <th>min</th>\n",
       "      <td>206602.000</td>\n",
       "      <td>3387.000</td>\n",
       "      <td>201539.000</td>\n",
       "      <td>-571570.000</td>\n",
       "      <td>-844841.000</td>\n",
       "      <td>-1416411.000</td>\n",
       "      <td>-141641.000</td>\n",
       "      <td>-21246.000</td>\n",
       "      <td>-120395.000</td>\n",
       "    </tr>\n",
       "    <tr>\n",
       "      <th>25%</th>\n",
       "      <td>2176969.000</td>\n",
       "      <td>44266.000</td>\n",
       "      <td>1890579.000</td>\n",
       "      <td>35048.000</td>\n",
       "      <td>67688.000</td>\n",
       "      <td>146359.000</td>\n",
       "      <td>14636.000</td>\n",
       "      <td>2195.000</td>\n",
       "      <td>12441.000</td>\n",
       "    </tr>\n",
       "    <tr>\n",
       "      <th>50%</th>\n",
       "      <td>3680379.000</td>\n",
       "      <td>67621.000</td>\n",
       "      <td>3554777.000</td>\n",
       "      <td>149607.000</td>\n",
       "      <td>243657.000</td>\n",
       "      <td>284627.000</td>\n",
       "      <td>28463.000</td>\n",
       "      <td>4269.000</td>\n",
       "      <td>24193.000</td>\n",
       "    </tr>\n",
       "    <tr>\n",
       "      <th>75%</th>\n",
       "      <td>4164430.000</td>\n",
       "      <td>91090.000</td>\n",
       "      <td>5622406.000</td>\n",
       "      <td>276460.000</td>\n",
       "      <td>401287.000</td>\n",
       "      <td>674009.000</td>\n",
       "      <td>67401.000</td>\n",
       "      <td>10110.000</td>\n",
       "      <td>57291.000</td>\n",
       "    </tr>\n",
       "    <tr>\n",
       "      <th>max</th>\n",
       "      <td>4902465.000</td>\n",
       "      <td>154935.000</td>\n",
       "      <td>9404206.000</td>\n",
       "      <td>601782.000</td>\n",
       "      <td>1388791.000</td>\n",
       "      <td>1664244.000</td>\n",
       "      <td>166424.000</td>\n",
       "      <td>24964.000</td>\n",
       "      <td>141461.000</td>\n",
       "    </tr>\n",
       "  </tbody>\n",
       "</table>\n",
       "</div>"
      ],
      "text/plain": [
       "       tickets_written     voids   tickets_cashed  mobile_taxable_receipts  \\\n",
       "count           53.000     53.000          53.000                   31.000   \n",
       "mean       3195297.132  68707.057     3834779.019               170215.161   \n",
       "std        1182310.138  31901.788     2274218.808               221671.646   \n",
       "min         206602.000   3387.000      201539.000              -571570.000   \n",
       "25%        2176969.000  44266.000     1890579.000                35048.000   \n",
       "50%        3680379.000  67621.000     3554777.000               149607.000   \n",
       "75%        4164430.000  91090.000     5622406.000               276460.000   \n",
       "max        4902465.000 154935.000     9404206.000               601782.000   \n",
       "\n",
       "       retail_taxable_receipts  total_taxable_receipts  privilege_tax  \\\n",
       "count                   53.000                  53.000         53.000   \n",
       "mean                261617.094              361176.925      36117.679   \n",
       "std                 372453.863              499461.807      49946.174   \n",
       "min                -844841.000            -1416411.000    -141641.000   \n",
       "25%                  67688.000              146359.000      14636.000   \n",
       "50%                 243657.000              284627.000      28463.000   \n",
       "75%                 401287.000              674009.000      67401.000   \n",
       "max                1388791.000             1664244.000     166424.000   \n",
       "\n",
       "       admin_share  state_share  \n",
       "count       53.000       53.000  \n",
       "mean      5417.642    30700.075  \n",
       "std       7491.924    42454.302  \n",
       "min     -21246.000  -120395.000  \n",
       "25%       2195.000    12441.000  \n",
       "50%       4269.000    24193.000  \n",
       "75%      10110.000    57291.000  \n",
       "max      24964.000   141461.000  "
      ]
     },
     "execution_count": 6,
     "metadata": {},
     "output_type": "execute_result"
    }
   ],
   "source": [
    "df.describe()"
   ]
  },
  {
   "cell_type": "code",
   "execution_count": 7,
   "metadata": {
    "scrolled": true
   },
   "outputs": [
    {
     "data": {
      "text/plain": [
       "week_ending                 object\n",
       "tickets_written              int64\n",
       " voids                       int64\n",
       "tickets_cashed               int64\n",
       "mobile_taxable_receipts    float64\n",
       "retail_taxable_receipts      int64\n",
       "total_taxable_receipts       int64\n",
       "privilege_tax                int64\n",
       "admin_share                  int64\n",
       "state_share                  int64\n",
       "dtype: object"
      ]
     },
     "execution_count": 7,
     "metadata": {},
     "output_type": "execute_result"
    }
   ],
   "source": [
    "df.dtypes"
   ]
  },
  {
   "cell_type": "code",
   "execution_count": 8,
   "metadata": {},
   "outputs": [],
   "source": [
    "df['week_ending'] = pd.to_datetime(df['week_ending'])"
   ]
  },
  {
   "cell_type": "code",
   "execution_count": 9,
   "metadata": {},
   "outputs": [
    {
     "data": {
      "text/plain": [
       "week_ending                datetime64[ns]\n",
       "tickets_written                     int64\n",
       " voids                              int64\n",
       "tickets_cashed                      int64\n",
       "mobile_taxable_receipts           float64\n",
       "retail_taxable_receipts             int64\n",
       "total_taxable_receipts              int64\n",
       "privilege_tax                       int64\n",
       "admin_share                         int64\n",
       "state_share                         int64\n",
       "dtype: object"
      ]
     },
     "execution_count": 9,
     "metadata": {},
     "output_type": "execute_result"
    }
   ],
   "source": [
    "df.dtypes"
   ]
  },
  {
   "cell_type": "code",
   "execution_count": 10,
   "metadata": {},
   "outputs": [
    {
     "data": {
      "text/plain": [
       "'voids'"
      ]
     },
     "execution_count": 10,
     "metadata": {},
     "output_type": "execute_result"
    }
   ],
   "source": [
    "test = ' voids '\n",
    "test.strip()"
   ]
  },
  {
   "cell_type": "code",
   "execution_count": 11,
   "metadata": {},
   "outputs": [],
   "source": [
    "df.columns = [col.strip() for col in df.columns]"
   ]
  },
  {
   "cell_type": "code",
   "execution_count": 12,
   "metadata": {},
   "outputs": [
    {
     "data": {
      "text/plain": [
       "mobile_taxable_receipts    22\n",
       "state_share                 0\n",
       "admin_share                 0\n",
       "privilege_tax               0\n",
       "total_taxable_receipts      0\n",
       "retail_taxable_receipts     0\n",
       "tickets_cashed              0\n",
       "voids                       0\n",
       "tickets_written             0\n",
       "week_ending                 0\n",
       "dtype: int64"
      ]
     },
     "execution_count": 12,
     "metadata": {},
     "output_type": "execute_result"
    }
   ],
   "source": [
    "df.isnull().sum().sort_values(ascending = False)"
   ]
  },
  {
   "cell_type": "code",
   "execution_count": 13,
   "metadata": {
    "scrolled": true
   },
   "outputs": [
    {
     "data": {
      "text/html": [
       "<div>\n",
       "<style scoped>\n",
       "    .dataframe tbody tr th:only-of-type {\n",
       "        vertical-align: middle;\n",
       "    }\n",
       "\n",
       "    .dataframe tbody tr th {\n",
       "        vertical-align: top;\n",
       "    }\n",
       "\n",
       "    .dataframe thead th {\n",
       "        text-align: right;\n",
       "    }\n",
       "</style>\n",
       "<table border=\"1\" class=\"dataframe\">\n",
       "  <thead>\n",
       "    <tr style=\"text-align: right;\">\n",
       "      <th></th>\n",
       "      <th>week_ending</th>\n",
       "      <th>tickets_written</th>\n",
       "      <th>voids</th>\n",
       "      <th>tickets_cashed</th>\n",
       "      <th>mobile_taxable_receipts</th>\n",
       "      <th>retail_taxable_receipts</th>\n",
       "      <th>total_taxable_receipts</th>\n",
       "      <th>privilege_tax</th>\n",
       "      <th>admin_share</th>\n",
       "      <th>state_share</th>\n",
       "    </tr>\n",
       "  </thead>\n",
       "  <tbody>\n",
       "    <tr>\n",
       "      <th>10</th>\n",
       "      <td>2019-03-16</td>\n",
       "      <td>2858410</td>\n",
       "      <td>70218</td>\n",
       "      <td>2565896</td>\n",
       "      <td>nan</td>\n",
       "      <td>222296</td>\n",
       "      <td>222296</td>\n",
       "      <td>22230</td>\n",
       "      <td>3334</td>\n",
       "      <td>18895</td>\n",
       "    </tr>\n",
       "    <tr>\n",
       "      <th>11</th>\n",
       "      <td>2019-03-23</td>\n",
       "      <td>4418971</td>\n",
       "      <td>91090</td>\n",
       "      <td>3554777</td>\n",
       "      <td>nan</td>\n",
       "      <td>773104</td>\n",
       "      <td>773104</td>\n",
       "      <td>77310</td>\n",
       "      <td>11597</td>\n",
       "      <td>65714</td>\n",
       "    </tr>\n",
       "    <tr>\n",
       "      <th>12</th>\n",
       "      <td>2019-03-30</td>\n",
       "      <td>3443807</td>\n",
       "      <td>67494</td>\n",
       "      <td>3025699</td>\n",
       "      <td>nan</td>\n",
       "      <td>350615</td>\n",
       "      <td>350615</td>\n",
       "      <td>35061</td>\n",
       "      <td>5259</td>\n",
       "      <td>29802</td>\n",
       "    </tr>\n",
       "    <tr>\n",
       "      <th>13</th>\n",
       "      <td>2019-04-06</td>\n",
       "      <td>2385379</td>\n",
       "      <td>68355</td>\n",
       "      <td>2123295</td>\n",
       "      <td>nan</td>\n",
       "      <td>193729</td>\n",
       "      <td>193729</td>\n",
       "      <td>19373</td>\n",
       "      <td>2906</td>\n",
       "      <td>16467</td>\n",
       "    </tr>\n",
       "    <tr>\n",
       "      <th>16</th>\n",
       "      <td>2019-04-27</td>\n",
       "      <td>2607302</td>\n",
       "      <td>49943</td>\n",
       "      <td>2587349</td>\n",
       "      <td>nan</td>\n",
       "      <td>-29989</td>\n",
       "      <td>-29989</td>\n",
       "      <td>-2999</td>\n",
       "      <td>-450</td>\n",
       "      <td>-2549</td>\n",
       "    </tr>\n",
       "    <tr>\n",
       "      <th>17</th>\n",
       "      <td>2019-05-04</td>\n",
       "      <td>2296202</td>\n",
       "      <td>38167</td>\n",
       "      <td>1856748</td>\n",
       "      <td>nan</td>\n",
       "      <td>401287</td>\n",
       "      <td>401287</td>\n",
       "      <td>40129</td>\n",
       "      <td>6019</td>\n",
       "      <td>34109</td>\n",
       "    </tr>\n",
       "    <tr>\n",
       "      <th>18</th>\n",
       "      <td>2019-05-11</td>\n",
       "      <td>2210385</td>\n",
       "      <td>30720</td>\n",
       "      <td>2190474</td>\n",
       "      <td>nan</td>\n",
       "      <td>-10808</td>\n",
       "      <td>-10808</td>\n",
       "      <td>-1081</td>\n",
       "      <td>-162</td>\n",
       "      <td>-919</td>\n",
       "    </tr>\n",
       "    <tr>\n",
       "      <th>19</th>\n",
       "      <td>2019-05-18</td>\n",
       "      <td>2176969</td>\n",
       "      <td>44266</td>\n",
       "      <td>1975717</td>\n",
       "      <td>nan</td>\n",
       "      <td>156986</td>\n",
       "      <td>156986</td>\n",
       "      <td>15699</td>\n",
       "      <td>2355</td>\n",
       "      <td>13344</td>\n",
       "    </tr>\n",
       "    <tr>\n",
       "      <th>20</th>\n",
       "      <td>2019-05-25</td>\n",
       "      <td>1984382</td>\n",
       "      <td>31461</td>\n",
       "      <td>1885233</td>\n",
       "      <td>nan</td>\n",
       "      <td>67688</td>\n",
       "      <td>67688</td>\n",
       "      <td>6769</td>\n",
       "      <td>1015</td>\n",
       "      <td>5754</td>\n",
       "    </tr>\n",
       "    <tr>\n",
       "      <th>21</th>\n",
       "      <td>2019-06-01</td>\n",
       "      <td>2036091</td>\n",
       "      <td>22197</td>\n",
       "      <td>1691982</td>\n",
       "      <td>nan</td>\n",
       "      <td>321912</td>\n",
       "      <td>321912</td>\n",
       "      <td>32191</td>\n",
       "      <td>4829</td>\n",
       "      <td>27363</td>\n",
       "    </tr>\n",
       "    <tr>\n",
       "      <th>22</th>\n",
       "      <td>2019-06-08</td>\n",
       "      <td>2296017</td>\n",
       "      <td>55354</td>\n",
       "      <td>1994871</td>\n",
       "      <td>nan</td>\n",
       "      <td>245793</td>\n",
       "      <td>245793</td>\n",
       "      <td>24579</td>\n",
       "      <td>3687</td>\n",
       "      <td>20892</td>\n",
       "    </tr>\n",
       "    <tr>\n",
       "      <th>23</th>\n",
       "      <td>2019-06-15</td>\n",
       "      <td>2227900</td>\n",
       "      <td>51027</td>\n",
       "      <td>2217837</td>\n",
       "      <td>nan</td>\n",
       "      <td>-40963</td>\n",
       "      <td>-40963</td>\n",
       "      <td>-4096</td>\n",
       "      <td>-614</td>\n",
       "      <td>-3482</td>\n",
       "    </tr>\n",
       "    <tr>\n",
       "      <th>24</th>\n",
       "      <td>2019-06-22</td>\n",
       "      <td>1394107</td>\n",
       "      <td>25521</td>\n",
       "      <td>1342222</td>\n",
       "      <td>nan</td>\n",
       "      <td>26363</td>\n",
       "      <td>26363</td>\n",
       "      <td>2636</td>\n",
       "      <td>395</td>\n",
       "      <td>2241</td>\n",
       "    </tr>\n",
       "    <tr>\n",
       "      <th>25</th>\n",
       "      <td>2019-06-29</td>\n",
       "      <td>1510353</td>\n",
       "      <td>20847</td>\n",
       "      <td>1343147</td>\n",
       "      <td>nan</td>\n",
       "      <td>146359</td>\n",
       "      <td>146359</td>\n",
       "      <td>14636</td>\n",
       "      <td>2195</td>\n",
       "      <td>12441</td>\n",
       "    </tr>\n",
       "    <tr>\n",
       "      <th>26</th>\n",
       "      <td>2018-06-30</td>\n",
       "      <td>206602</td>\n",
       "      <td>3387</td>\n",
       "      <td>201539</td>\n",
       "      <td>nan</td>\n",
       "      <td>1676</td>\n",
       "      <td>1676</td>\n",
       "      <td>168</td>\n",
       "      <td>25</td>\n",
       "      <td>142</td>\n",
       "    </tr>\n",
       "    <tr>\n",
       "      <th>27</th>\n",
       "      <td>2019-07-06</td>\n",
       "      <td>1311093</td>\n",
       "      <td>31388</td>\n",
       "      <td>1063616</td>\n",
       "      <td>nan</td>\n",
       "      <td>216089</td>\n",
       "      <td>216089</td>\n",
       "      <td>21609</td>\n",
       "      <td>3241</td>\n",
       "      <td>18368</td>\n",
       "    </tr>\n",
       "    <tr>\n",
       "      <th>29</th>\n",
       "      <td>2019-07-20</td>\n",
       "      <td>1814954</td>\n",
       "      <td>40600</td>\n",
       "      <td>1467332</td>\n",
       "      <td>nan</td>\n",
       "      <td>307022</td>\n",
       "      <td>307022</td>\n",
       "      <td>30702</td>\n",
       "      <td>4605</td>\n",
       "      <td>26097</td>\n",
       "    </tr>\n",
       "    <tr>\n",
       "      <th>30</th>\n",
       "      <td>2019-07-27</td>\n",
       "      <td>1615122</td>\n",
       "      <td>31947</td>\n",
       "      <td>1333246</td>\n",
       "      <td>nan</td>\n",
       "      <td>249929</td>\n",
       "      <td>249929</td>\n",
       "      <td>24993</td>\n",
       "      <td>3749</td>\n",
       "      <td>21244</td>\n",
       "    </tr>\n",
       "    <tr>\n",
       "      <th>31</th>\n",
       "      <td>2019-08-03</td>\n",
       "      <td>1913525</td>\n",
       "      <td>64946</td>\n",
       "      <td>1826317</td>\n",
       "      <td>nan</td>\n",
       "      <td>22262</td>\n",
       "      <td>22262</td>\n",
       "      <td>2226</td>\n",
       "      <td>334</td>\n",
       "      <td>1892</td>\n",
       "    </tr>\n",
       "    <tr>\n",
       "      <th>32</th>\n",
       "      <td>2019-08-10</td>\n",
       "      <td>2146221</td>\n",
       "      <td>61098</td>\n",
       "      <td>1890579</td>\n",
       "      <td>nan</td>\n",
       "      <td>194544</td>\n",
       "      <td>194544</td>\n",
       "      <td>19454</td>\n",
       "      <td>2918</td>\n",
       "      <td>16536</td>\n",
       "    </tr>\n",
       "    <tr>\n",
       "      <th>33</th>\n",
       "      <td>2019-08-17</td>\n",
       "      <td>2129799</td>\n",
       "      <td>120452</td>\n",
       "      <td>1635205</td>\n",
       "      <td>nan</td>\n",
       "      <td>374143</td>\n",
       "      <td>374143</td>\n",
       "      <td>37414</td>\n",
       "      <td>5612</td>\n",
       "      <td>31802</td>\n",
       "    </tr>\n",
       "    <tr>\n",
       "      <th>34</th>\n",
       "      <td>2019-08-24</td>\n",
       "      <td>1972582</td>\n",
       "      <td>43530</td>\n",
       "      <td>1644424</td>\n",
       "      <td>nan</td>\n",
       "      <td>284627</td>\n",
       "      <td>284627</td>\n",
       "      <td>28463</td>\n",
       "      <td>4269</td>\n",
       "      <td>24193</td>\n",
       "    </tr>\n",
       "  </tbody>\n",
       "</table>\n",
       "</div>"
      ],
      "text/plain": [
       "   week_ending  tickets_written   voids  tickets_cashed  \\\n",
       "10  2019-03-16          2858410   70218         2565896   \n",
       "11  2019-03-23          4418971   91090         3554777   \n",
       "12  2019-03-30          3443807   67494         3025699   \n",
       "13  2019-04-06          2385379   68355         2123295   \n",
       "16  2019-04-27          2607302   49943         2587349   \n",
       "17  2019-05-04          2296202   38167         1856748   \n",
       "18  2019-05-11          2210385   30720         2190474   \n",
       "19  2019-05-18          2176969   44266         1975717   \n",
       "20  2019-05-25          1984382   31461         1885233   \n",
       "21  2019-06-01          2036091   22197         1691982   \n",
       "22  2019-06-08          2296017   55354         1994871   \n",
       "23  2019-06-15          2227900   51027         2217837   \n",
       "24  2019-06-22          1394107   25521         1342222   \n",
       "25  2019-06-29          1510353   20847         1343147   \n",
       "26  2018-06-30           206602    3387          201539   \n",
       "27  2019-07-06          1311093   31388         1063616   \n",
       "29  2019-07-20          1814954   40600         1467332   \n",
       "30  2019-07-27          1615122   31947         1333246   \n",
       "31  2019-08-03          1913525   64946         1826317   \n",
       "32  2019-08-10          2146221   61098         1890579   \n",
       "33  2019-08-17          2129799  120452         1635205   \n",
       "34  2019-08-24          1972582   43530         1644424   \n",
       "\n",
       "    mobile_taxable_receipts  retail_taxable_receipts  total_taxable_receipts  \\\n",
       "10                      nan                   222296                  222296   \n",
       "11                      nan                   773104                  773104   \n",
       "12                      nan                   350615                  350615   \n",
       "13                      nan                   193729                  193729   \n",
       "16                      nan                   -29989                  -29989   \n",
       "17                      nan                   401287                  401287   \n",
       "18                      nan                   -10808                  -10808   \n",
       "19                      nan                   156986                  156986   \n",
       "20                      nan                    67688                   67688   \n",
       "21                      nan                   321912                  321912   \n",
       "22                      nan                   245793                  245793   \n",
       "23                      nan                   -40963                  -40963   \n",
       "24                      nan                    26363                   26363   \n",
       "25                      nan                   146359                  146359   \n",
       "26                      nan                     1676                    1676   \n",
       "27                      nan                   216089                  216089   \n",
       "29                      nan                   307022                  307022   \n",
       "30                      nan                   249929                  249929   \n",
       "31                      nan                    22262                   22262   \n",
       "32                      nan                   194544                  194544   \n",
       "33                      nan                   374143                  374143   \n",
       "34                      nan                   284627                  284627   \n",
       "\n",
       "    privilege_tax  admin_share  state_share  \n",
       "10          22230         3334        18895  \n",
       "11          77310        11597        65714  \n",
       "12          35061         5259        29802  \n",
       "13          19373         2906        16467  \n",
       "16          -2999         -450        -2549  \n",
       "17          40129         6019        34109  \n",
       "18          -1081         -162         -919  \n",
       "19          15699         2355        13344  \n",
       "20           6769         1015         5754  \n",
       "21          32191         4829        27363  \n",
       "22          24579         3687        20892  \n",
       "23          -4096         -614        -3482  \n",
       "24           2636          395         2241  \n",
       "25          14636         2195        12441  \n",
       "26            168           25          142  \n",
       "27          21609         3241        18368  \n",
       "29          30702         4605        26097  \n",
       "30          24993         3749        21244  \n",
       "31           2226          334         1892  \n",
       "32          19454         2918        16536  \n",
       "33          37414         5612        31802  \n",
       "34          28463         4269        24193  "
      ]
     },
     "execution_count": 13,
     "metadata": {},
     "output_type": "execute_result"
    }
   ],
   "source": [
    "df[df.isna().any(axis=1)]"
   ]
  },
  {
   "cell_type": "code",
   "execution_count": 14,
   "metadata": {},
   "outputs": [],
   "source": [
    "df.fillna(0, inplace=True)"
   ]
  },
  {
   "cell_type": "code",
   "execution_count": 15,
   "metadata": {
    "scrolled": true
   },
   "outputs": [
    {
     "data": {
      "text/plain": [
       "state_share                0\n",
       "admin_share                0\n",
       "privilege_tax              0\n",
       "total_taxable_receipts     0\n",
       "retail_taxable_receipts    0\n",
       "mobile_taxable_receipts    0\n",
       "tickets_cashed             0\n",
       "voids                      0\n",
       "tickets_written            0\n",
       "week_ending                0\n",
       "dtype: int64"
      ]
     },
     "execution_count": 15,
     "metadata": {},
     "output_type": "execute_result"
    }
   ],
   "source": [
    "df.isnull().sum().sort_values(ascending = False)"
   ]
  },
  {
   "cell_type": "code",
   "execution_count": 16,
   "metadata": {},
   "outputs": [],
   "source": [
    "df.set_index('week_ending', inplace=True)"
   ]
  },
  {
   "cell_type": "markdown",
   "metadata": {},
   "source": [
    "### Visualizing (this won't be an actual section)"
   ]
  },
  {
   "cell_type": "code",
   "execution_count": 17,
   "metadata": {
    "scrolled": true
   },
   "outputs": [
    {
     "data": {
      "image/png": "[encoded data removed]",
      "text/plain": [
       "<Figure size 432x288 with 1 Axes>"
      ]
     },
     "metadata": {
      "image/png": {
       "height": 266,
       "width": 430
      },
      "needs_background": "light"
     },
     "output_type": "display_data"
    }
   ],
   "source": [
    "plt.scatter(df[\"tickets_written\"], df[\"total_taxable_receipts\"])\n",
    "plt.xlabel(\"tickets written\", fontsize = 16)\n",
    "plt.ylabel(\"total taxable receipts\", fontsize = 16);"
   ]
  },
  {
   "cell_type": "code",
   "execution_count": 18,
   "metadata": {},
   "outputs": [
    {
     "data": {
      "image/png": "[encoded data removed]",
      "text/plain": [
       "<Figure size 432x288 with 1 Axes>"
      ]
     },
     "metadata": {
      "image/png": {
       "height": 270,
       "width": 414
      },
      "needs_background": "light"
     },
     "output_type": "display_data"
    }
   ],
   "source": [
    "plt.scatter(df['mobile_taxable_receipts'], df['retail_taxable_receipts'])\n",
    "plt.xlabel(\"mobile taxable receipts\", fontsize = 16)\n",
    "plt.ylabel(\"retail taxable receipts\", fontsize = 16);"
   ]
  },
  {
   "cell_type": "code",
   "execution_count": 19,
   "metadata": {
    "scrolled": false
   },
   "outputs": [
    {
     "data": {
      "image/png": "[encoded data removed]",
      "text/plain": [
       "<Figure size 432x288 with 1 Axes>"
      ]
     },
     "metadata": {
      "image/png": {
       "height": 270,
       "width": 428
      },
      "needs_background": "light"
     },
     "output_type": "display_data"
    }
   ],
   "source": [
    "plt.scatter(df['tickets_written'], df['total_taxable_receipts'])\n",
    "plt.xlabel('handle', fontsize = 20)\n",
    "plt.ylabel('revenue in hundreds of millions', fontsize = 14);"
   ]
  },
  {
   "cell_type": "code",
   "execution_count": 20,
   "metadata": {},
   "outputs": [
    {
     "data": {
      "text/plain": [
       "tickets_written              int64\n",
       "voids                        int64\n",
       "tickets_cashed               int64\n",
       "mobile_taxable_receipts    float64\n",
       "retail_taxable_receipts      int64\n",
       "total_taxable_receipts       int64\n",
       "privilege_tax                int64\n",
       "admin_share                  int64\n",
       "state_share                  int64\n",
       "dtype: object"
      ]
     },
     "execution_count": 20,
     "metadata": {},
     "output_type": "execute_result"
    }
   ],
   "source": [
    "df.dtypes"
   ]
  },
  {
   "cell_type": "code",
   "execution_count": 21,
   "metadata": {},
   "outputs": [
    {
     "data": {
      "image/png": "[encoded data removed]",
      "text/plain": [
       "<Figure size 432x288 with 1 Axes>"
      ]
     },
     "metadata": {
      "image/png": {
       "height": 270,
       "width": 429
      },
      "needs_background": "light"
     },
     "output_type": "display_data"
    }
   ],
   "source": [
    "plt.scatter(df['voids'], df['total_taxable_receipts'])\n",
    "plt.xlabel('voids', fontsize = 20)\n",
    "plt.ylabel('total taxable receipts', fontsize = 14);"
   ]
  },
  {
   "cell_type": "code",
   "execution_count": 22,
   "metadata": {},
   "outputs": [
    {
     "data": {
      "image/png": "[encoded data removed]",
      "text/plain": [
       "<Figure size 576x360 with 1 Axes>"
      ]
     },
     "metadata": {
      "image/png": {
       "height": 343,
       "width": 581
      },
      "needs_background": "light"
     },
     "output_type": "display_data"
    }
   ],
   "source": [
    "# obviously change this\n",
    "\n",
    "df.groupby(\"week_ending\")[[\"total_taxable_receipts\"]].mean().plot(kind = \"barh\", color=\"darkcyan\", figsize=(8,5))\n",
    "plt.ylabel(\"week\", fontsize=18)\n",
    "plt.xlabel(\"total taxable receipts\", fontsize=18)\n",
    "plt.title(\"total taxable receipts by week\", fontsize=20);"
   ]
  },
  {
   "cell_type": "code",
   "execution_count": 23,
   "metadata": {
    "scrolled": true
   },
   "outputs": [
    {
     "ename": "KeyError",
     "evalue": "'month'",
     "output_type": "error",
     "traceback": [
      "\u001b[0;31m---------------------------------------------------------------------------\u001b[0m",
      "\u001b[0;31mKeyError\u001b[0m                                  Traceback (most recent call last)",
      "\u001b[0;32m<ipython-input-23-c97ba3209480>\u001b[0m in \u001b[0;36m<module>\u001b[0;34m\u001b[0m\n\u001b[0;32m----> 1\u001b[0;31m \u001b[0mdf\u001b[0m\u001b[0;34m.\u001b[0m\u001b[0mgroupby\u001b[0m\u001b[0;34m(\u001b[0m\u001b[0;34m\"month\"\u001b[0m\u001b[0;34m)\u001b[0m\u001b[0;34m[\u001b[0m\u001b[0;34m[\u001b[0m\u001b[0;34m\"revenue\"\u001b[0m\u001b[0;34m]\u001b[0m\u001b[0;34m]\u001b[0m\u001b[0;34m.\u001b[0m\u001b[0mmean\u001b[0m\u001b[0;34m(\u001b[0m\u001b[0;34m)\u001b[0m\u001b[0;34m.\u001b[0m\u001b[0mplot\u001b[0m\u001b[0;34m(\u001b[0m\u001b[0mkind\u001b[0m \u001b[0;34m=\u001b[0m \u001b[0;34m\"barh\"\u001b[0m\u001b[0;34m,\u001b[0m \u001b[0mcolor\u001b[0m\u001b[0;34m=\u001b[0m\u001b[0;34m\"darkcyan\"\u001b[0m\u001b[0;34m,\u001b[0m \u001b[0mfigsize\u001b[0m\u001b[0;34m=\u001b[0m\u001b[0;34m(\u001b[0m\u001b[0;36m8\u001b[0m\u001b[0;34m,\u001b[0m\u001b[0;36m5\u001b[0m\u001b[0;34m)\u001b[0m\u001b[0;34m)\u001b[0m\u001b[0;34m\u001b[0m\u001b[0;34m\u001b[0m\u001b[0m\n\u001b[0m\u001b[1;32m      2\u001b[0m \u001b[0mplt\u001b[0m\u001b[0;34m.\u001b[0m\u001b[0mylabel\u001b[0m\u001b[0;34m(\u001b[0m\u001b[0;34m\"month\"\u001b[0m\u001b[0;34m,\u001b[0m \u001b[0mfontsize\u001b[0m\u001b[0;34m=\u001b[0m\u001b[0;36m18\u001b[0m\u001b[0;34m)\u001b[0m\u001b[0;34m\u001b[0m\u001b[0;34m\u001b[0m\u001b[0m\n\u001b[1;32m      3\u001b[0m \u001b[0mplt\u001b[0m\u001b[0;34m.\u001b[0m\u001b[0mxlabel\u001b[0m\u001b[0;34m(\u001b[0m\u001b[0;34m\"revenue\"\u001b[0m\u001b[0;34m,\u001b[0m \u001b[0mfontsize\u001b[0m\u001b[0;34m=\u001b[0m\u001b[0;36m18\u001b[0m\u001b[0;34m)\u001b[0m\u001b[0;34m\u001b[0m\u001b[0;34m\u001b[0m\u001b[0m\n\u001b[1;32m      4\u001b[0m \u001b[0mplt\u001b[0m\u001b[0;34m.\u001b[0m\u001b[0mtitle\u001b[0m\u001b[0;34m(\u001b[0m\u001b[0;34m\"revenue by month\"\u001b[0m\u001b[0;34m,\u001b[0m \u001b[0mfontsize\u001b[0m\u001b[0;34m=\u001b[0m\u001b[0;36m20\u001b[0m\u001b[0;34m)\u001b[0m\u001b[0;34m;\u001b[0m\u001b[0;34m\u001b[0m\u001b[0;34m\u001b[0m\u001b[0m\n",
      "\u001b[0;32m/opt/anaconda3/lib/python3.7/site-packages/pandas/core/generic.py\u001b[0m in \u001b[0;36mgroupby\u001b[0;34m(self, by, axis, level, as_index, sort, group_keys, squeeze, observed, **kwargs)\u001b[0m\n\u001b[1;32m   7892\u001b[0m             \u001b[0msqueeze\u001b[0m\u001b[0;34m=\u001b[0m\u001b[0msqueeze\u001b[0m\u001b[0;34m,\u001b[0m\u001b[0;34m\u001b[0m\u001b[0;34m\u001b[0m\u001b[0m\n\u001b[1;32m   7893\u001b[0m             \u001b[0mobserved\u001b[0m\u001b[0;34m=\u001b[0m\u001b[0mobserved\u001b[0m\u001b[0;34m,\u001b[0m\u001b[0;34m\u001b[0m\u001b[0;34m\u001b[0m\u001b[0m\n\u001b[0;32m-> 7894\u001b[0;31m             \u001b[0;34m**\u001b[0m\u001b[0mkwargs\u001b[0m\u001b[0;34m\u001b[0m\u001b[0;34m\u001b[0m\u001b[0m\n\u001b[0m\u001b[1;32m   7895\u001b[0m         )\n\u001b[1;32m   7896\u001b[0m \u001b[0;34m\u001b[0m\u001b[0m\n",
      "\u001b[0;32m/opt/anaconda3/lib/python3.7/site-packages/pandas/core/groupby/groupby.py\u001b[0m in \u001b[0;36mgroupby\u001b[0;34m(obj, by, **kwds)\u001b[0m\n\u001b[1;32m   2520\u001b[0m         \u001b[0;32mraise\u001b[0m \u001b[0mTypeError\u001b[0m\u001b[0;34m(\u001b[0m\u001b[0;34m\"invalid type: {}\"\u001b[0m\u001b[0;34m.\u001b[0m\u001b[0mformat\u001b[0m\u001b[0;34m(\u001b[0m\u001b[0mobj\u001b[0m\u001b[0;34m)\u001b[0m\u001b[0;34m)\u001b[0m\u001b[0;34m\u001b[0m\u001b[0;34m\u001b[0m\u001b[0m\n\u001b[1;32m   2521\u001b[0m \u001b[0;34m\u001b[0m\u001b[0m\n\u001b[0;32m-> 2522\u001b[0;31m     \u001b[0;32mreturn\u001b[0m \u001b[0mklass\u001b[0m\u001b[0;34m(\u001b[0m\u001b[0mobj\u001b[0m\u001b[0;34m,\u001b[0m \u001b[0mby\u001b[0m\u001b[0;34m,\u001b[0m \u001b[0;34m**\u001b[0m\u001b[0mkwds\u001b[0m\u001b[0;34m)\u001b[0m\u001b[0;34m\u001b[0m\u001b[0;34m\u001b[0m\u001b[0m\n\u001b[0m",
      "\u001b[0;32m/opt/anaconda3/lib/python3.7/site-packages/pandas/core/groupby/groupby.py\u001b[0m in \u001b[0;36m__init__\u001b[0;34m(self, obj, keys, axis, level, grouper, exclusions, selection, as_index, sort, group_keys, squeeze, observed, **kwargs)\u001b[0m\n\u001b[1;32m    389\u001b[0m                 \u001b[0msort\u001b[0m\u001b[0;34m=\u001b[0m\u001b[0msort\u001b[0m\u001b[0;34m,\u001b[0m\u001b[0;34m\u001b[0m\u001b[0;34m\u001b[0m\u001b[0m\n\u001b[1;32m    390\u001b[0m                 \u001b[0mobserved\u001b[0m\u001b[0;34m=\u001b[0m\u001b[0mobserved\u001b[0m\u001b[0;34m,\u001b[0m\u001b[0;34m\u001b[0m\u001b[0;34m\u001b[0m\u001b[0m\n\u001b[0;32m--> 391\u001b[0;31m                 \u001b[0mmutated\u001b[0m\u001b[0;34m=\u001b[0m\u001b[0mself\u001b[0m\u001b[0;34m.\u001b[0m\u001b[0mmutated\u001b[0m\u001b[0;34m,\u001b[0m\u001b[0;34m\u001b[0m\u001b[0;34m\u001b[0m\u001b[0m\n\u001b[0m\u001b[1;32m    392\u001b[0m             )\n\u001b[1;32m    393\u001b[0m \u001b[0;34m\u001b[0m\u001b[0m\n",
      "\u001b[0;32m/opt/anaconda3/lib/python3.7/site-packages/pandas/core/groupby/grouper.py\u001b[0m in \u001b[0;36m_get_grouper\u001b[0;34m(obj, key, axis, level, sort, observed, mutated, validate)\u001b[0m\n\u001b[1;32m    619\u001b[0m                 \u001b[0min_axis\u001b[0m\u001b[0;34m,\u001b[0m \u001b[0mname\u001b[0m\u001b[0;34m,\u001b[0m \u001b[0mlevel\u001b[0m\u001b[0;34m,\u001b[0m \u001b[0mgpr\u001b[0m \u001b[0;34m=\u001b[0m \u001b[0;32mFalse\u001b[0m\u001b[0;34m,\u001b[0m \u001b[0;32mNone\u001b[0m\u001b[0;34m,\u001b[0m \u001b[0mgpr\u001b[0m\u001b[0;34m,\u001b[0m \u001b[0;32mNone\u001b[0m\u001b[0;34m\u001b[0m\u001b[0;34m\u001b[0m\u001b[0m\n\u001b[1;32m    620\u001b[0m             \u001b[0;32melse\u001b[0m\u001b[0;34m:\u001b[0m\u001b[0;34m\u001b[0m\u001b[0;34m\u001b[0m\u001b[0m\n\u001b[0;32m--> 621\u001b[0;31m                 \u001b[0;32mraise\u001b[0m \u001b[0mKeyError\u001b[0m\u001b[0;34m(\u001b[0m\u001b[0mgpr\u001b[0m\u001b[0;34m)\u001b[0m\u001b[0;34m\u001b[0m\u001b[0;34m\u001b[0m\u001b[0m\n\u001b[0m\u001b[1;32m    622\u001b[0m         \u001b[0;32melif\u001b[0m \u001b[0misinstance\u001b[0m\u001b[0;34m(\u001b[0m\u001b[0mgpr\u001b[0m\u001b[0;34m,\u001b[0m \u001b[0mGrouper\u001b[0m\u001b[0;34m)\u001b[0m \u001b[0;32mand\u001b[0m \u001b[0mgpr\u001b[0m\u001b[0;34m.\u001b[0m\u001b[0mkey\u001b[0m \u001b[0;32mis\u001b[0m \u001b[0;32mnot\u001b[0m \u001b[0;32mNone\u001b[0m\u001b[0;34m:\u001b[0m\u001b[0;34m\u001b[0m\u001b[0;34m\u001b[0m\u001b[0m\n\u001b[1;32m    623\u001b[0m             \u001b[0;31m# Add key to exclusions\u001b[0m\u001b[0;34m\u001b[0m\u001b[0;34m\u001b[0m\u001b[0;34m\u001b[0m\u001b[0m\n",
      "\u001b[0;31mKeyError\u001b[0m: 'month'"
     ]
    }
   ],
   "source": [
    "df.groupby(\"month\")[[\"revenue\"]].mean().plot(kind = \"barh\", color=\"darkcyan\", figsize=(8,5))\n",
    "plt.ylabel(\"month\", fontsize=18)\n",
    "plt.xlabel(\"revenue\", fontsize=18)\n",
    "plt.title(\"revenue by month\", fontsize=20);"
   ]
  },
  {
   "cell_type": "code",
   "execution_count": null,
   "metadata": {},
   "outputs": [],
   "source": [
    "# Heatmap of the corrleations of features and revenue\n",
    "plt.figure(figsize = (10,14))\n",
    "sns.heatmap(df.corr()[[\"revenue\"]].sort_values(by = 'revenue', ascending = False),\n",
    "                            annot = True,\n",
    "                            cmap=\"RdBu\",\n",
    "                            vmin = -1,\n",
    "                            vmax = 1);"
   ]
  },
  {
   "cell_type": "markdown",
   "metadata": {},
   "source": [
    "## Preprocessing "
   ]
  },
  {
   "cell_type": "markdown",
   "metadata": {},
   "source": [
    "### One-hot Encoding"
   ]
  },
  {
   "cell_type": "markdown",
   "metadata": {},
   "source": [
    "### PCA\n"
   ]
  },
  {
   "cell_type": "code",
   "execution_count": null,
   "metadata": {},
   "outputs": [],
   "source": [
    "non_revenue_cols = [\"month\", \"handle\", \"taxes\"]"
   ]
  },
  {
   "cell_type": "code",
   "execution_count": null,
   "metadata": {},
   "outputs": [],
   "source": [
    "# Assigning the new columns to a variable\n",
    "\n",
    "non_revenue_cols_2 = df[non_revenue_cols]"
   ]
  },
  {
   "cell_type": "code",
   "execution_count": null,
   "metadata": {},
   "outputs": [],
   "source": [
    "non_revenue_cols_2.head()"
   ]
  },
  {
   "cell_type": "code",
   "execution_count": null,
   "metadata": {},
   "outputs": [],
   "source": [
    "ss = StandardScaler()"
   ]
  },
  {
   "cell_type": "code",
   "execution_count": null,
   "metadata": {},
   "outputs": [],
   "source": [
    "scale = ss.fit_transform(non_revenue_cols_2)"
   ]
  },
  {
   "cell_type": "code",
   "execution_count": null,
   "metadata": {},
   "outputs": [],
   "source": [
    "non = pd.DataFrame(scale, columns = non_revenue_cols)"
   ]
  },
  {
   "cell_type": "code",
   "execution_count": null,
   "metadata": {},
   "outputs": [],
   "source": [
    "non.head(10)"
   ]
  },
  {
   "cell_type": "markdown",
   "metadata": {},
   "source": [
    "### Using a PairGrid to visualize correlation"
   ]
  },
  {
   "cell_type": "code",
   "execution_count": 24,
   "metadata": {},
   "outputs": [
    {
     "ename": "NameError",
     "evalue": "name 'non' is not defined",
     "output_type": "error",
     "traceback": [
      "\u001b[0;31m---------------------------------------------------------------------------\u001b[0m",
      "\u001b[0;31mNameError\u001b[0m                                 Traceback (most recent call last)",
      "\u001b[0;32m<ipython-input-24-234a879eff44>\u001b[0m in \u001b[0;36m<module>\u001b[0;34m\u001b[0m\n\u001b[0;32m----> 1\u001b[0;31m \u001b[0mg\u001b[0m \u001b[0;34m=\u001b[0m \u001b[0msns\u001b[0m\u001b[0;34m.\u001b[0m\u001b[0mPairGrid\u001b[0m\u001b[0;34m(\u001b[0m\u001b[0mnon\u001b[0m\u001b[0;34m)\u001b[0m\u001b[0;34m\u001b[0m\u001b[0;34m\u001b[0m\u001b[0m\n\u001b[0m\u001b[1;32m      2\u001b[0m \u001b[0mg\u001b[0m \u001b[0;34m=\u001b[0m \u001b[0mg\u001b[0m\u001b[0;34m.\u001b[0m\u001b[0mmap_lower\u001b[0m\u001b[0;34m(\u001b[0m\u001b[0msns\u001b[0m\u001b[0;34m.\u001b[0m\u001b[0mregplot\u001b[0m\u001b[0;34m)\u001b[0m \u001b[0;31m# Regression plots in lower triangle.\u001b[0m\u001b[0;34m\u001b[0m\u001b[0;34m\u001b[0m\u001b[0m\n\u001b[1;32m      3\u001b[0m \u001b[0mg\u001b[0m \u001b[0;34m=\u001b[0m \u001b[0mg\u001b[0m\u001b[0;34m.\u001b[0m\u001b[0mmap_upper\u001b[0m\u001b[0;34m(\u001b[0m\u001b[0msns\u001b[0m\u001b[0;34m.\u001b[0m\u001b[0mkdeplot\u001b[0m\u001b[0;34m,\u001b[0m \u001b[0mcmap\u001b[0m\u001b[0;34m=\u001b[0m\u001b[0;34m\"Blues\"\u001b[0m\u001b[0;34m,\u001b[0m \u001b[0mshade\u001b[0m\u001b[0;34m=\u001b[0m\u001b[0;32mTrue\u001b[0m\u001b[0;34m,\u001b[0m \u001b[0mshade_lowest\u001b[0m\u001b[0;34m=\u001b[0m\u001b[0;32mFalse\u001b[0m\u001b[0;34m)\u001b[0m  \u001b[0;31m# KDE plots in upper triangle.\u001b[0m\u001b[0;34m\u001b[0m\u001b[0;34m\u001b[0m\u001b[0m\n\u001b[1;32m      4\u001b[0m \u001b[0mg\u001b[0m \u001b[0;34m=\u001b[0m \u001b[0mg\u001b[0m\u001b[0;34m.\u001b[0m\u001b[0mmap_diag\u001b[0m\u001b[0;34m(\u001b[0m\u001b[0mplt\u001b[0m\u001b[0;34m.\u001b[0m\u001b[0mhist\u001b[0m\u001b[0;34m)\u001b[0m \u001b[0;31m# Histograms along diagonal.\u001b[0m\u001b[0;34m\u001b[0m\u001b[0;34m\u001b[0m\u001b[0m\n\u001b[1;32m      5\u001b[0m \u001b[0;34m\u001b[0m\u001b[0m\n",
      "\u001b[0;31mNameError\u001b[0m: name 'non' is not defined"
     ]
    }
   ],
   "source": [
    "g = sns.PairGrid(non)\n",
    "g = g.map_lower(sns.regplot) # Regression plots in lower triangle.\n",
    "g = g.map_upper(sns.kdeplot, cmap=\"Blues\", shade=True, shade_lowest=False)  # KDE plots in upper triangle.\n",
    "g = g.map_diag(plt.hist) # Histograms along diagonal.\n",
    "\n",
    "plt.show();"
   ]
  },
  {
   "cell_type": "markdown",
   "metadata": {},
   "source": [
    "### Heat map to visualize correlation"
   ]
  },
  {
   "cell_type": "code",
   "execution_count": 25,
   "metadata": {
    "scrolled": true
   },
   "outputs": [
    {
     "ename": "NameError",
     "evalue": "name 'non' is not defined",
     "output_type": "error",
     "traceback": [
      "\u001b[0;31m---------------------------------------------------------------------------\u001b[0m",
      "\u001b[0;31mNameError\u001b[0m                                 Traceback (most recent call last)",
      "\u001b[0;32m<ipython-input-25-cf2c28e27f2e>\u001b[0m in \u001b[0;36m<module>\u001b[0;34m\u001b[0m\n\u001b[1;32m      3\u001b[0m \u001b[0;34m\u001b[0m\u001b[0m\n\u001b[1;32m      4\u001b[0m \u001b[0;34m\u001b[0m\u001b[0m\n\u001b[0;32m----> 5\u001b[0;31m sns.heatmap(non.corr(), \n\u001b[0m\u001b[1;32m      6\u001b[0m             \u001b[0mcmap\u001b[0m \u001b[0;34m=\u001b[0m\u001b[0;34m'RdBu'\u001b[0m\u001b[0;34m,\u001b[0m\u001b[0;34m\u001b[0m\u001b[0;34m\u001b[0m\u001b[0m\n\u001b[1;32m      7\u001b[0m             \u001b[0mannot\u001b[0m \u001b[0;34m=\u001b[0m \u001b[0;32mTrue\u001b[0m\u001b[0;34m,\u001b[0m\u001b[0;34m\u001b[0m\u001b[0;34m\u001b[0m\u001b[0m\n",
      "\u001b[0;31mNameError\u001b[0m: name 'non' is not defined"
     ]
    },
    {
     "data": {
      "image/png": "[encoded data removed]",
      "text/plain": [
       "<Figure size 576x360 with 1 Axes>"
      ]
     },
     "metadata": {
      "image/png": {
       "height": 321,
       "width": 488
      },
      "needs_background": "light"
     },
     "output_type": "display_data"
    }
   ],
   "source": [
    "plt.figure(figsize = (8, 5))\n",
    "plt.title(\"Non-Revenue Features Correlation\", fontsize = 18);\n",
    "\n",
    "\n",
    "sns.heatmap(non.corr(), \n",
    "            cmap ='RdBu', \n",
    "            annot = True,\n",
    "            vmax = 1,\n",
    "            vmin = -1)\n",
    "            \n",
    "plt.xticks(fontsize = 12) \n",
    "plt.yticks(fontsize = 12); "
   ]
  },
  {
   "cell_type": "code",
   "execution_count": null,
   "metadata": {},
   "outputs": [],
   "source": [
    "# Fitting PCA on the non-revenue features\n",
    "\n",
    "non_pca = PCA(n_components=3)\n",
    "non_pca.fit(non.values)"
   ]
  },
  {
   "cell_type": "code",
   "execution_count": 26,
   "metadata": {},
   "outputs": [
    {
     "ename": "NameError",
     "evalue": "name 'non_pca' is not defined",
     "output_type": "error",
     "traceback": [
      "\u001b[0;31m---------------------------------------------------------------------------\u001b[0m",
      "\u001b[0;31mNameError\u001b[0m                                 Traceback (most recent call last)",
      "\u001b[0;32m<ipython-input-26-98e6ff3622a0>\u001b[0m in \u001b[0;36m<module>\u001b[0;34m\u001b[0m\n\u001b[1;32m      1\u001b[0m \u001b[0;31m# Examining the weights of the principal components\u001b[0m\u001b[0;34m\u001b[0m\u001b[0;34m\u001b[0m\u001b[0;34m\u001b[0m\u001b[0m\n\u001b[1;32m      2\u001b[0m \u001b[0;34m\u001b[0m\u001b[0m\n\u001b[0;32m----> 3\u001b[0;31m \u001b[0mnon_pca\u001b[0m\u001b[0;34m.\u001b[0m\u001b[0mcomponents_\u001b[0m\u001b[0;34m\u001b[0m\u001b[0;34m\u001b[0m\u001b[0m\n\u001b[0m",
      "\u001b[0;31mNameError\u001b[0m: name 'non_pca' is not defined"
     ]
    }
   ],
   "source": [
    "# Examining the weights of the principal components\n",
    "\n",
    "non_pca.components_"
   ]
  },
  {
   "cell_type": "code",
   "execution_count": 27,
   "metadata": {
    "scrolled": true
   },
   "outputs": [
    {
     "ename": "NameError",
     "evalue": "name 'non_pca' is not defined",
     "output_type": "error",
     "traceback": [
      "\u001b[0;31m---------------------------------------------------------------------------\u001b[0m",
      "\u001b[0;31mNameError\u001b[0m                                 Traceback (most recent call last)",
      "\u001b[0;32m<ipython-input-27-499a6f77b1e5>\u001b[0m in \u001b[0;36m<module>\u001b[0;34m\u001b[0m\n\u001b[1;32m      1\u001b[0m \u001b[0;31m# Examining the explained variance values and explained variance ratios\u001b[0m\u001b[0;34m\u001b[0m\u001b[0;34m\u001b[0m\u001b[0;34m\u001b[0m\u001b[0m\n\u001b[1;32m      2\u001b[0m \u001b[0;34m\u001b[0m\u001b[0m\n\u001b[0;32m----> 3\u001b[0;31m \u001b[0mnon_pca\u001b[0m\u001b[0;34m.\u001b[0m\u001b[0mexplained_variance_ratio_\u001b[0m\u001b[0;34m\u001b[0m\u001b[0;34m\u001b[0m\u001b[0m\n\u001b[0m",
      "\u001b[0;31mNameError\u001b[0m: name 'non_pca' is not defined"
     ]
    }
   ],
   "source": [
    "# Examining the explained variance values and explained variance ratios\n",
    "\n",
    "non_pca.explained_variance_ratio_"
   ]
  },
  {
   "cell_type": "code",
   "execution_count": 28,
   "metadata": {},
   "outputs": [
    {
     "ename": "NameError",
     "evalue": "name 'non_pca' is not defined",
     "output_type": "error",
     "traceback": [
      "\u001b[0;31m---------------------------------------------------------------------------\u001b[0m",
      "\u001b[0;31mNameError\u001b[0m                                 Traceback (most recent call last)",
      "\u001b[0;32m<ipython-input-28-3390f40e75cf>\u001b[0m in \u001b[0;36m<module>\u001b[0;34m\u001b[0m\n\u001b[1;32m      3\u001b[0m \u001b[0;31m# This will transform our our three-dimensional data set into vectors along its three principal components (with zero loss).\u001b[0m\u001b[0;34m\u001b[0m\u001b[0;34m\u001b[0m\u001b[0;34m\u001b[0m\u001b[0m\n\u001b[1;32m      4\u001b[0m \u001b[0;34m\u001b[0m\u001b[0m\n\u001b[0;32m----> 5\u001b[0;31m \u001b[0mnon_pca\u001b[0m\u001b[0;34m.\u001b[0m\u001b[0mtransform\u001b[0m\u001b[0;34m(\u001b[0m\u001b[0mnon\u001b[0m\u001b[0;34m.\u001b[0m\u001b[0mvalues\u001b[0m\u001b[0;34m)\u001b[0m\u001b[0;34m\u001b[0m\u001b[0;34m\u001b[0m\u001b[0m\n\u001b[0m",
      "\u001b[0;31mNameError\u001b[0m: name 'non_pca' is not defined"
     ]
    }
   ],
   "source": [
    "# Transforming the data into the principal component space\n",
    "\n",
    "# This will transform our our three-dimensional data set into vectors along its three principal components (with zero loss).\n",
    "\n",
    "non_pca.transform(non.values)"
   ]
  },
  {
   "cell_type": "code",
   "execution_count": 29,
   "metadata": {},
   "outputs": [],
   "source": [
    "# Comparing PCA-transformed features to features prior to being PCA-transformed"
   ]
  },
  {
   "cell_type": "code",
   "execution_count": null,
   "metadata": {},
   "outputs": [],
   "source": [
    "pd.DataFrame(non.values).head(10)"
   ]
  },
  {
   "cell_type": "code",
   "execution_count": null,
   "metadata": {
    "scrolled": true
   },
   "outputs": [],
   "source": [
    "pd.DataFrame(non_pca.transform(non.values)).head(10)"
   ]
  },
  {
   "cell_type": "markdown",
   "metadata": {},
   "source": [
    "### Using PCA ro reduce dimensionality"
   ]
  },
  {
   "cell_type": "code",
   "execution_count": null,
   "metadata": {},
   "outputs": [],
   "source": []
  },
  {
   "cell_type": "code",
   "execution_count": null,
   "metadata": {},
   "outputs": [],
   "source": []
  },
  {
   "cell_type": "code",
   "execution_count": null,
   "metadata": {},
   "outputs": [],
   "source": []
  },
  {
   "cell_type": "code",
   "execution_count": null,
   "metadata": {},
   "outputs": [],
   "source": []
  },
  {
   "cell_type": "code",
   "execution_count": null,
   "metadata": {},
   "outputs": [],
   "source": []
  },
  {
   "cell_type": "code",
   "execution_count": null,
   "metadata": {},
   "outputs": [],
   "source": []
  },
  {
   "cell_type": "code",
   "execution_count": null,
   "metadata": {},
   "outputs": [],
   "source": []
  },
  {
   "cell_type": "code",
   "execution_count": null,
   "metadata": {},
   "outputs": [],
   "source": []
  },
  {
   "cell_type": "code",
   "execution_count": null,
   "metadata": {},
   "outputs": [],
   "source": []
  },
  {
   "cell_type": "code",
   "execution_count": null,
   "metadata": {},
   "outputs": [],
   "source": []
  },
  {
   "cell_type": "code",
   "execution_count": null,
   "metadata": {},
   "outputs": [],
   "source": []
  },
  {
   "cell_type": "code",
   "execution_count": null,
   "metadata": {},
   "outputs": [],
   "source": []
  },
  {
   "cell_type": "markdown",
   "metadata": {},
   "source": [
    "## Modeling"
   ]
  },
  {
   "cell_type": "code",
   "execution_count": null,
   "metadata": {},
   "outputs": [],
   "source": [
    "X = df.loc[:, ['month', 'revenue', 'handle', 'taxes']]"
   ]
  },
  {
   "cell_type": "code",
   "execution_count": null,
   "metadata": {},
   "outputs": [],
   "source": [
    "X.head()"
   ]
  },
  {
   "cell_type": "code",
   "execution_count": null,
   "metadata": {},
   "outputs": [],
   "source": [
    "# For my reference\n",
    "\n",
    "state_revenue_plot = df.plot(kind = \"scatter\", x = \"month\", y = \"revenue\",\n",
    "             figsize=(10,5),\n",
    "             s = 12)\n",
    "\n",
    "plt.xlabel(\"month\", fontsize = 15)\n",
    "plt.ylabel(\"revenue\", fontsize = 15)\n",
    "\n",
    "state_revenue_plot.tick_params(axis = 'both',\n",
    "               which = 'minor',\n",
    "               labelsize = 14)"
   ]
  },
  {
   "cell_type": "code",
   "execution_count": null,
   "metadata": {},
   "outputs": [],
   "source": [
    "# Initializing an instance of KMeans\n",
    "# K = 3 clusters\n",
    "\n",
    "km = KMeans(n_clusters = 3)"
   ]
  },
  {
   "cell_type": "code",
   "execution_count": null,
   "metadata": {},
   "outputs": [],
   "source": [
    "# Fitting our sliced df\n",
    "\n",
    "km.fit(X)"
   ]
  },
  {
   "cell_type": "code",
   "execution_count": null,
   "metadata": {},
   "outputs": [],
   "source": [
    "# Assigning clusters\n",
    "\n",
    "df[\"cluster\"] = km.labels_"
   ]
  },
  {
   "cell_type": "code",
   "execution_count": null,
   "metadata": {},
   "outputs": [],
   "source": [
    "df.head(10)"
   ]
  },
  {
   "cell_type": "code",
   "execution_count": null,
   "metadata": {},
   "outputs": [],
   "source": [
    "# Plotting the centroids from the model object with the scatter of \n",
    "# \"month\" and \"revenue\"\n",
    "\n",
    "centroid = pd.DataFrame(km.cluster_centers_, columns = [\"month\", \"revenue\", \"handle\", \"taxes\"])\n",
    "                                        "
   ]
  },
  {
   "cell_type": "code",
   "execution_count": null,
   "metadata": {
    "scrolled": true
   },
   "outputs": [],
   "source": [
    "centroid.head()"
   ]
  },
  {
   "cell_type": "markdown",
   "metadata": {},
   "source": [
    "Plotting methodology:\n",
    "\n",
    "1. Setting the plot figure with a fig size\n",
    "2. Assigning colors to centroids\n",
    "3. Mapping clusters\n",
    "4. Setting up the plot of clusters\n",
    "5. Adding the centroids to the plot"
   ]
  },
  {
   "cell_type": "code",
   "execution_count": null,
   "metadata": {},
   "outputs": [],
   "source": [
    "plt.figure(figsize =(10, 8))\n",
    "colors = [\"black\", \"pink\", \"blue\"]\n",
    "df[\"color\"] = df[\"cluster\"].map(lambda p: colors[p])\n",
    "\n",
    "ax = df.plot(kind = \"scatter\", x = \"month\", y = \"revenue\",\n",
    "    figsize =(12, 10),\n",
    "    c = df[\"color\"])\n",
    "\n",
    "centroid.plot(kind = \"scatter\", x = \"month\", y = \"revenue\", \n",
    "    marker = \"*\", \n",
    "    c = [\"black\", \"pink\", \"blue\"], \n",
    "    s = 1000,\n",
    "    ax = ax)"
   ]
  },
  {
   "cell_type": "markdown",
   "metadata": {},
   "source": [
    "Scaling Methodology:\n",
    "\n",
    "1. Set up StandardScaller\n",
    "2. Set up X feature and transforming it\n",
    "3. Set up KMeans\n",
    "4. Fitting\n",
    "5. Assinging next round of clusters\n",
    "6. Creating a df for next round of centroids\n",
    "7. Plotting"
   ]
  },
  {
   "cell_type": "code",
   "execution_count": null,
   "metadata": {},
   "outputs": [],
   "source": [
    "ss = StandardScaler()"
   ]
  },
  {
   "cell_type": "code",
   "execution_count": null,
   "metadata": {},
   "outputs": [],
   "source": [
    "X_2 = ss.fit_transform(df.loc[:, [\"month\", \"revenue\"]])"
   ]
  },
  {
   "cell_type": "code",
   "execution_count": null,
   "metadata": {},
   "outputs": [],
   "source": [
    "km_2 = KMeans(n_clusters = 3)"
   ]
  },
  {
   "cell_type": "code",
   "execution_count": null,
   "metadata": {},
   "outputs": [],
   "source": [
    "km_2.fit(X_2)"
   ]
  },
  {
   "cell_type": "code",
   "execution_count": null,
   "metadata": {},
   "outputs": [],
   "source": [
    "df['cluster'] = km_2.labels_"
   ]
  },
  {
   "cell_type": "code",
   "execution_count": null,
   "metadata": {},
   "outputs": [],
   "source": [
    "df.head(10)"
   ]
  },
  {
   "cell_type": "code",
   "execution_count": null,
   "metadata": {},
   "outputs": [],
   "source": [
    "centroid = pd.DataFrame(ss.inverse_transform(km_2.cluster_centers_), \n",
    "      columns =[\"month\", \"revenue\"])"
   ]
  },
  {
   "cell_type": "code",
   "execution_count": null,
   "metadata": {},
   "outputs": [],
   "source": [
    "centroid.head(10) "
   ]
  },
  {
   "cell_type": "code",
   "execution_count": null,
   "metadata": {},
   "outputs": [],
   "source": [
    "plt.figure(figsize=(10,6))\n",
    "\n",
    "colors = [\"black\", \"pink\", \"blue\"]\n",
    "\n",
    "df['color'] = df['cluster'].map(lambda p: colors[p])\n",
    "\n",
    "ax = df.plot(    \n",
    "    kind = \"scatter\",  x = \"month\", y = \"revenue\", \n",
    "    figsize = (10,6),\n",
    "    c = df[\"color\"])\n",
    "\n",
    "centroid.plot(kind = \"scatter\", x =\"month\", y = \"revenue\",\n",
    "    marker = \"*\", \n",
    "    c = [\"black\", \"pink\", \"blue\"],\n",
    "    s = 1000,\n",
    "    ax = ax)"
   ]
  },
  {
   "cell_type": "code",
   "execution_count": null,
   "metadata": {},
   "outputs": [],
   "source": [
    "silhouette_score(X_2, km_2.labels_)"
   ]
  },
  {
   "cell_type": "markdown",
   "metadata": {},
   "source": [
    "### Time Series"
   ]
  },
  {
   "cell_type": "code",
   "execution_count": 44,
   "metadata": {},
   "outputs": [],
   "source": [
    "from statsmodels.graphics.tsaplots import plot_acf,plot_pacf\n",
    "from statsmodels.tsa.arima_model import ARIMA, ARMA\n",
    "from sklearn.metrics import mean_absolute_error\n",
    "from statsmodels.tsa.stattools import adfuller  \n",
    "from sklearn.metrics import mean_squared_error\n",
    "from sklearn.model_selection import train_test_split"
   ]
  },
  {
   "cell_type": "code",
   "execution_count": 45,
   "metadata": {},
   "outputs": [
    {
     "data": {
      "text/html": [
       "<div>\n",
       "<style scoped>\n",
       "    .dataframe tbody tr th:only-of-type {\n",
       "        vertical-align: middle;\n",
       "    }\n",
       "\n",
       "    .dataframe tbody tr th {\n",
       "        vertical-align: top;\n",
       "    }\n",
       "\n",
       "    .dataframe thead th {\n",
       "        text-align: right;\n",
       "    }\n",
       "</style>\n",
       "<table border=\"1\" class=\"dataframe\">\n",
       "  <thead>\n",
       "    <tr style=\"text-align: right;\">\n",
       "      <th></th>\n",
       "      <th>tickets_written</th>\n",
       "      <th>voids</th>\n",
       "      <th>tickets_cashed</th>\n",
       "      <th>mobile_taxable_receipts</th>\n",
       "      <th>retail_taxable_receipts</th>\n",
       "      <th>total_taxable_receipts</th>\n",
       "      <th>privilege_tax</th>\n",
       "      <th>admin_share</th>\n",
       "      <th>state_share</th>\n",
       "    </tr>\n",
       "    <tr>\n",
       "      <th>week_ending</th>\n",
       "      <th></th>\n",
       "      <th></th>\n",
       "      <th></th>\n",
       "      <th></th>\n",
       "      <th></th>\n",
       "      <th></th>\n",
       "      <th></th>\n",
       "      <th></th>\n",
       "      <th></th>\n",
       "    </tr>\n",
       "  </thead>\n",
       "  <tbody>\n",
       "    <tr>\n",
       "      <th>2019-01-05</th>\n",
       "      <td>4796300</td>\n",
       "      <td>154935</td>\n",
       "      <td>4376920</td>\n",
       "      <td>54089.0</td>\n",
       "      <td>210356</td>\n",
       "      <td>264445</td>\n",
       "      <td>26445</td>\n",
       "      <td>3967</td>\n",
       "      <td>22478</td>\n",
       "    </tr>\n",
       "    <tr>\n",
       "      <th>2019-01-12</th>\n",
       "      <td>4860953</td>\n",
       "      <td>138666</td>\n",
       "      <td>4411529</td>\n",
       "      <td>21356.0</td>\n",
       "      <td>289402</td>\n",
       "      <td>310758</td>\n",
       "      <td>31076</td>\n",
       "      <td>4661</td>\n",
       "      <td>26414</td>\n",
       "    </tr>\n",
       "    <tr>\n",
       "      <th>2019-01-19</th>\n",
       "      <td>4167883</td>\n",
       "      <td>75981</td>\n",
       "      <td>3572071</td>\n",
       "      <td>122956.0</td>\n",
       "      <td>396875</td>\n",
       "      <td>519831</td>\n",
       "      <td>51983</td>\n",
       "      <td>7797</td>\n",
       "      <td>44186</td>\n",
       "    </tr>\n",
       "    <tr>\n",
       "      <th>2019-01-26</th>\n",
       "      <td>3983320</td>\n",
       "      <td>73280</td>\n",
       "      <td>4202907</td>\n",
       "      <td>6185.0</td>\n",
       "      <td>-299052</td>\n",
       "      <td>-292867</td>\n",
       "      <td>-29287</td>\n",
       "      <td>-4393</td>\n",
       "      <td>-24894</td>\n",
       "    </tr>\n",
       "    <tr>\n",
       "      <th>2019-02-02</th>\n",
       "      <td>4622730</td>\n",
       "      <td>93425</td>\n",
       "      <td>3585239</td>\n",
       "      <td>81104.0</td>\n",
       "      <td>862961</td>\n",
       "      <td>944066</td>\n",
       "      <td>94407</td>\n",
       "      <td>14161</td>\n",
       "      <td>80246</td>\n",
       "    </tr>\n",
       "  </tbody>\n",
       "</table>\n",
       "</div>"
      ],
      "text/plain": [
       "             tickets_written   voids  tickets_cashed  mobile_taxable_receipts  \\\n",
       "week_ending                                                                     \n",
       "2019-01-05           4796300  154935         4376920                  54089.0   \n",
       "2019-01-12           4860953  138666         4411529                  21356.0   \n",
       "2019-01-19           4167883   75981         3572071                 122956.0   \n",
       "2019-01-26           3983320   73280         4202907                   6185.0   \n",
       "2019-02-02           4622730   93425         3585239                  81104.0   \n",
       "\n",
       "             retail_taxable_receipts  total_taxable_receipts  privilege_tax  \\\n",
       "week_ending                                                                   \n",
       "2019-01-05                    210356                  264445          26445   \n",
       "2019-01-12                    289402                  310758          31076   \n",
       "2019-01-19                    396875                  519831          51983   \n",
       "2019-01-26                   -299052                 -292867         -29287   \n",
       "2019-02-02                    862961                  944066          94407   \n",
       "\n",
       "             admin_share  state_share  \n",
       "week_ending                            \n",
       "2019-01-05          3967        22478  \n",
       "2019-01-12          4661        26414  \n",
       "2019-01-19          7797        44186  \n",
       "2019-01-26         -4393       -24894  \n",
       "2019-02-02         14161        80246  "
      ]
     },
     "execution_count": 45,
     "metadata": {},
     "output_type": "execute_result"
    }
   ],
   "source": [
    "df.head()"
   ]
  },
  {
   "cell_type": "code",
   "execution_count": null,
   "metadata": {},
   "outputs": [],
   "source": [
    "df.set_index('week_ending', inplace=True)\n"
   ]
  },
  {
   "cell_type": "code",
   "execution_count": null,
   "metadata": {},
   "outputs": [],
   "source": [
    "df.head()"
   ]
  },
  {
   "cell_type": "code",
   "execution_count": null,
   "metadata": {},
   "outputs": [],
   "source": [
    "# Code written by Joseph Nelson. ARIMA Lesson.\n",
    "\n",
    "def interpret_dftest(dftest):\n",
    "    dfoutput = pd.Series(dftest[0:2], index=['Test Statistic','p-value'])\n",
    "    return dfoutput"
   ]
  },
  {
   "cell_type": "code",
   "execution_count": null,
   "metadata": {},
   "outputs": [],
   "source": [
    "# Cite the source\n",
    "\n",
    "def ACF_PACF(df, col_string, lags):\n",
    "    ACF = plot_acf(df[col_string], lags = lags);\n",
    "    PACF = plot_pacf(df[col_string], lags = lags);\n",
    "    return ACF, PACF"
   ]
  },
  {
   "cell_type": "code",
   "execution_count": null,
   "metadata": {},
   "outputs": [],
   "source": []
  },
  {
   "cell_type": "markdown",
   "metadata": {},
   "source": [
    "## Time Series Modeling"
   ]
  },
  {
   "cell_type": "code",
   "execution_count": null,
   "metadata": {},
   "outputs": [],
   "source": [
    "# Extracting data to model\n",
    "#Aggregate all of the sales for STORE 1 into a new dataframe called Weekly_Sales.\n",
    "\n",
    "\n",
    "\n",
    "# Create mask for \"Store 1\" and apply to data.\n",
    "mask = data['Store'] == 1\n",
    "data = data[mask]\n",
    "\n",
    "# Create dataframe called `Weekly_Sales`.\n",
    "Weekly_Sales = pd.DataFrame(data['Weekly_Sales'].groupby(data.index).sum())"
   ]
  },
  {
   "cell_type": "code",
   "execution_count": null,
   "metadata": {},
   "outputs": [],
   "source": [
    "Weekly_Sales.head()\n"
   ]
  },
  {
   "cell_type": "code",
   "execution_count": null,
   "metadata": {},
   "outputs": [],
   "source": [
    "# Plotting & Interpreting Time Series\n",
    "# Generate a line plot for Weekly_Sales with time on the x-axis\n",
    "\n",
    "plt.figure(figsize=(16,10))\n",
    "\n",
    "# Create line plot.\n",
    "plt.plot(Weekly_Sales, c ='green')\n",
    "\n",
    "# Set labels and title.\n",
    "plt.xticks(fontsize=16)\n",
    "plt.yticks(fontsize=16)\n",
    "plt.xlabel('Date', fontsize=22)\n",
    "plt.ylabel('Sales', fontsize=22)\n",
    "plt.title('Weekly Sales for Store One', fontsize=22);"
   ]
  },
  {
   "cell_type": "code",
   "execution_count": null,
   "metadata": {},
   "outputs": [],
   "source": [
    "#Calculate the rolling mean(s) for Weekly_Sales then plot them on a single set of axes.\n",
    "\n",
    "# Set a rolling mean with windows of 1, 4, and 13.\n",
    "rolmean1  = Weekly_Sales.rolling(window = 1).mean()\n",
    "rolmean4  = Weekly_Sales.rolling(window = 4).mean()\n",
    "rolmean13 = Weekly_Sales.rolling(window = 13).mean()\n",
    "\n",
    "# Plot\n",
    "plt.figure(figsize=(16,10))\n",
    "plt.plot(rolmean1, color='blue', label='Rolling Mean (1 week)')\n",
    "plt.plot(rolmean4, color='orange', label='Rolling Mean (4 week)')\n",
    "plt.plot(rolmean13, color='grey', label='Rolling Mean (13 week)')\n",
    "\n",
    "plt.legend(loc='best')\n",
    "\n",
    "plt.title('Rolling Mean for 1, 4 and 13 Months')\n",
    "plt.show()"
   ]
  },
  {
   "cell_type": "markdown",
   "metadata": {},
   "source": [
    "#### Interpretation of plot above\n",
    "\n",
    "There are clearly spikes in the early year around January and February. This is most likely the result of huge increases for holiday spending in November and December.\n",
    "These spikes are followed, indicating a significant decrease in spending immediately following the holiday season.\n",
    "We plot moving averages of 1, 4, and 13 weeks.\n",
    "1 week is our default.\n",
    "4 weeks is approximately one month.\n",
    "13 weeks is approximately one season."
   ]
  },
  {
   "cell_type": "code",
   "execution_count": null,
   "metadata": {},
   "outputs": [],
   "source": [
    "# Checking three lag intervals\n",
    "\n",
    "print(f'Autocorrelation between Weekly Sales and 1-lag Weekly_Sales: {round(Weekly_Sales[\"Weekly_Sales\"].autocorr(lag=1),4)}')\n",
    "print(f'Autocorrelation between Weekly Sales and 2-lag Weekly_Sales: {round(Weekly_Sales[\"Weekly_Sales\"].autocorr(lag=2),4)}')\n",
    "print(f'Autocorrelation between Weekly Sales and 52-lag Weekly_Sales: {round(Weekly_Sales[\"Weekly_Sales\"].autocorr(lag=52),4)}')"
   ]
  },
  {
   "cell_type": "markdown",
   "metadata": {},
   "source": [
    "#### What I am able to say about the series based on the autocorrelations\n",
    "\n",
    "The single week autocorrelation shows that there is a fair amount of influence on sales each week from the prior week.\n",
    "Looking at week two, it seems that the further away from the current week, we look back, the less influence that week's sales have on the current week's sales. It would be likely to consider that a lag of three would be even less correlated with the current week's sales.\n",
    "The 52-week lag of sales is strongly correlated with the current week's sales. This would suggest that there might be a seasonal influence working on sales separated by one year."
   ]
  },
  {
   "cell_type": "code",
   "execution_count": null,
   "metadata": {},
   "outputs": [],
   "source": [
    "# Plotting the Autocorrelation Function and Partial Autocorrelation Functions to help\n",
    "# understand seasonality in the time series data\n",
    "\n",
    "# 52-week  Autocorr and Partial Autocorr\n",
    "fig = plt.figure(figsize=(16,16))\n",
    "ax1 = fig.add_subplot(211)\n",
    "fig = plot_acf(Weekly_Sales, lags=52, ax=ax1)\n",
    "ax2 = fig.add_subplot(212)\n",
    "fig = plot_pacf(Weekly_Sales, lags=52, ax=ax2);\n",
    "\n",
    "# If you do not use plt.show() it will plot the same vizualization twice.\n",
    "# This may be a bug you can fix and submit to contribute to open source!\n"
   ]
  },
  {
   "cell_type": "markdown",
   "metadata": {},
   "source": [
    "#### Interpretation of the ACF and PACF plots above\n",
    "\n",
    "4a. What do the ACF and PACF graphs tell you about your sales data?\n",
    "\n",
    "Answer:\n",
    "\n",
    "The filled blue space is representative of a 95% confidence interval. The points inside the blue space are likely to be noise, not any valuable correlation. Points outside the interval should be considered for further investigation.\n",
    "\n",
    "The first point is meaningless: it represents the correlation between the Weekly_Sales and itself, so the correlation here should always be 1.\n",
    "\n",
    "At lag = 1, there is some relationship between the sales and prior day sales evidenced by both the ACF and PACF.\n",
    "At lag = 4, there seems to be a correlation in both the ACF and PACF, this might be due to a monthly sales promotion or some kind of monthly cycle in sales.\n",
    "At lag = 5 there is an interesting negative relationship which we cannot immediately infer about in the PACF (direct with no in-between relationships).\n",
    "At lag = 48, 50, 51, and 52 there is significant positive relationship in the PACF, possibly a correlation to monthly sales, within the seasonality of a year.\n",
    "At lag = 52, there is a clear correlation in both the ACF and PACF. This should give us a sense that there might be a seasonal component in the series."
   ]
  },
  {
   "cell_type": "markdown",
   "metadata": {},
   "source": [
    "#### How the ACF and PACF inform my model selections moving forward\n",
    "\n",
    "We recognize that there is some correlation at 1 week, at 4 or 5 weeks, and right around one year (48-52 weeks).\n",
    "\n",
    "This might help us determine our values of $p$ and $q$, as well as any seasonal component we might fit.\n",
    "\n",
    "\n",
    "\n"
   ]
  },
  {
   "cell_type": "markdown",
   "metadata": {},
   "source": [
    "#### Modeling with time series data\n",
    "\n",
    "Modeling with time series data presents unique challenges because our observations are not independent of one another.\n",
    "\n",
    "So, in splitting the data into training and test sets, we cannot split randomly. Use the first 75% of observations as training data and the following 25% for test data."
   ]
  },
  {
   "cell_type": "code",
   "execution_count": null,
   "metadata": {},
   "outputs": [],
   "source": [
    "print(f'Number of observations: {len(Weekly_Sales)}')\n",
    "print(f'Number of training observations: {round(len(Weekly_Sales) * 0.75)}')\n",
    "print(f'Number of testing observations: {len(Weekly_Sales) - round(len(Weekly_Sales) * 0.75)}')\n",
    "\n",
    "train = Weekly_Sales.iloc[:108,]\n",
    "\n",
    "test = Weekly_Sales.iloc[108:,]"
   ]
  },
  {
   "cell_type": "code",
   "execution_count": null,
   "metadata": {},
   "outputs": [],
   "source": [
    "def train_test_plot(train, test):\n",
    "    plt.figure(figsize=(16, 8))\n",
    "    plt.plot(train, c='blue')\n",
    "    plt.plot(test, c='orange');"
   ]
  },
  {
   "cell_type": "code",
   "execution_count": null,
   "metadata": {},
   "outputs": [],
   "source": [
    "# This plot confirms that our function works properly.\n",
    "# The gap between the train and test is to be expected\n",
    "# because we aren't connecting the dots between our\n",
    "# 107th and 108th observations.\n",
    "\n",
    "train_test_plot(train, test)"
   ]
  },
  {
   "cell_type": "markdown",
   "metadata": {},
   "source": [
    "#### AR moodel"
   ]
  },
  {
   "cell_type": "code",
   "execution_count": null,
   "metadata": {},
   "outputs": [],
   "source": [
    "# Instatiate and fit AR1 model\n",
    "\n",
    "# Split training data into train values and dates.\n",
    "train_values = train['Weekly_Sales'].values\n",
    "train_dates = train.index\n",
    "\n",
    "# Fit model on training data.\n",
    "AR1 = AR(train_values, train_dates).fit()\n",
    "\n",
    "# Split test data into values and dates.\n",
    "test_values = test['Weekly_Sales'].values\n",
    "test_dates  = test.index\n",
    "\n",
    "# Create start and end dates for predictions\n",
    "start = test.index[0]\n",
    "end = test.index[-1]\n",
    "\n",
    "# Generate predictions on starting and ending dates.\n",
    "AR1_pred = AR1.predict(start = start,\n",
    "                       end = end)"
   ]
  },
  {
   "cell_type": "code",
   "execution_count": null,
   "metadata": {},
   "outputs": [],
   "source": [
    "# Put predictions into a dataframe with a date range\n",
    "\n",
    "date_list =  pd.date_range(start, periods=35, freq ='W')\n",
    "preds = pd.DataFrame(AR1_pred, index=date_list, columns = ['Weekly Sales'])"
   ]
  },
  {
   "cell_type": "code",
   "execution_count": null,
   "metadata": {},
   "outputs": [],
   "source": [
    "# Calculate MSE of the model on training and test\n",
    "\n",
    "# Calculate MSE.\n",
    "error = mean_squared_error(test_values, preds)\n",
    "print(f'MSE: {round(error, 2)}')"
   ]
  },
  {
   "cell_type": "code",
   "execution_count": null,
   "metadata": {},
   "outputs": [],
   "source": [
    "# Look at min and max sales, as well as how our MSE compares to them\n",
    "\n",
    "print(f'Minimum Sales: {round(Weekly_Sales[\"Weekly_Sales\"].min(),2)}')\n",
    "print(f'Maximum Sales: {round(Weekly_Sales[\"Weekly_Sales\"].max(),2)}')\n",
    "print(f'MSE relative to minimum values in series: {round(error / Weekly_Sales[\"Weekly_Sales\"].min(),2)}.')\n",
    "print(f'MSE relative to maximum values in series: {round(error / Weekly_Sales[\"Weekly_Sales\"].max(),2)}.')\n"
   ]
  },
  {
   "cell_type": "markdown",
   "metadata": {},
   "source": [
    "#### How effective was the model?\n",
    "\n",
    "Looking at the ratio of the mean error to the minimum and maximum values in the series, it does not seem terrible. However (as we'll see shortly), when you look at the decay in the predictions based on the graph, it is clear that earlier predictions have less erroneous than later predictions, so improvement is probably necessary to use this model as is."
   ]
  },
  {
   "cell_type": "markdown",
   "metadata": {},
   "source": [
    "#### Residual Plot\n",
    "\n",
    "Mean squared error is a good way to evaluate our model's performance. However, this doesn't tell the whole story. Is our model off by a lot in one specific window of time? Is our model only slightly off, but over all time? It might be helpful to plot residuals to see when our model is off most."
   ]
  },
  {
   "cell_type": "code",
   "execution_count": null,
   "metadata": {},
   "outputs": [],
   "source": [
    "# Calculating and plotting the residuals of the AR model\n",
    "# A residual is just the actual value minus the predicted value\n",
    "\n",
    "# Set figure size.\n",
    "plt.figure(figsize=(16,10))\n",
    "\n",
    "# Calculate residuals.\n",
    "resids = test['Weekly_Sales'].values - preds['Weekly Sales'].values\n",
    "\n",
    "# Generate scatterplot of residuals.\n",
    "plt.scatter(test['Weekly_Sales'].index, resids, c ='red')\n",
    "\n",
    "# Plot baseline at y=0.\n",
    "plt.hlines(y = 0,\n",
    "           xmin = test['Weekly_Sales'].index.min(),\n",
    "           xmax = test['Weekly_Sales'].index.max(),\n",
    "           linestyles = '--')\n",
    "\n",
    "# Set labels and axes.\n",
    "plt.xticks(fontsize=20)\n",
    "plt.xlim(test['Weekly_Sales'].index.min(), test['Weekly_Sales'].index.max())\n",
    "plt.yticks(fontsize=14)\n",
    "plt.ylabel('Residuals', fontsize = 20);"
   ]
  },
  {
   "cell_type": "markdown",
   "metadata": {},
   "source": [
    "#### Interpretation: What do the residual plots reveal about our model?\n",
    "\n",
    "There are some days where the prediction is off more than others. This could be specific to those days, or it could be a limit of the model. It looks like early time periods are predicting too low (residuals = true - predicted values are high) and later time periods are predicting closer to accurate (residuals centered around 0)."
   ]
  },
  {
   "cell_type": "markdown",
   "metadata": {},
   "source": [
    "#### ARMA model"
   ]
  },
  {
   "cell_type": "code",
   "execution_count": null,
   "metadata": {},
   "outputs": [],
   "source": [
    "# Fit an AR(2) model.\n",
    "AR2 = ARIMA(endog = train_values,\n",
    "            dates = train_dates,\n",
    "            order = (2,0,0)).fit()\n",
    "\n",
    "# Generate predictions.\n",
    "AR2_pred = AR2.predict(start = start,\n",
    "                       end = end)\n",
    "\n",
    "# Evaluate our model on the trainign and testing sets.\n",
    "print(f'Training MSE: {mean_squared_error(train_values, AR2.predict())}')\n",
    "print(f'Testing MSE: {mean_squared_error(test_values, AR2_pred)}')\n",
    "\n",
    "preds = pd.DataFrame(AR2_pred, index=date_list, columns = ['Weekly Sales'])\n",
    "\n",
    "train_test_plot(train, preds)"
   ]
  },
  {
   "cell_type": "code",
   "execution_count": null,
   "metadata": {},
   "outputs": [],
   "source": [
    "# Set figure size.\n",
    "plt.figure(figsize=(16,10))\n",
    "\n",
    "# Calculate residuals.\n",
    "resids = test['Weekly_Sales'].values - preds['Weekly Sales'].values\n",
    "\n",
    "# Generate scatterplot of residuals.\n",
    "plt.scatter(test['Weekly_Sales'].index, resids, c ='red')\n",
    "\n",
    "# Plot baseline at y=0.\n",
    "plt.hlines(y = 0,\n",
    "           xmin = test['Weekly_Sales'].index.min(),\n",
    "           xmax = test['Weekly_Sales'].index.max(),\n",
    "           linestyles = '--')\n",
    "\n",
    "# Set labels and axes.\n",
    "plt.xticks(fontsize=20)\n",
    "plt.xlim(test['Weekly_Sales'].index.min(), test['Weekly_Sales'].index.max())\n",
    "plt.yticks(fontsize=14)\n",
    "plt.ylabel('Residuals', fontsize = 20);"
   ]
  },
  {
   "cell_type": "markdown",
   "metadata": {},
   "source": [
    "#### Did the results change?\n",
    "\n",
    "The results got worse. Looking at the line plot, it seems as though the model removed all variation in the sales, creating a set of flat predictions."
   ]
  },
  {
   "cell_type": "code",
   "execution_count": null,
   "metadata": {},
   "outputs": [],
   "source": [
    "# AR"
   ]
  }
 ],
 "metadata": {
  "kernelspec": {
   "display_name": "Python 3",
   "language": "python",
   "name": "python3"
  },
  "language_info": {
   "codemirror_mode": {
    "name": "ipython",
    "version": 3
   },
   "file_extension": ".py",
   "mimetype": "text/x-python",
   "name": "python",
   "nbconvert_exporter": "python",
   "pygments_lexer": "ipython3",
   "version": "3.7.4"
  }
 },
 "nbformat": 4,
 "nbformat_minor": 2
}
